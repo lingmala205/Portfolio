{
 "cells": [
  {
   "cell_type": "markdown",
   "id": "f0d3faf7",
   "metadata": {},
   "source": [
    "# Used Car Price Prediction And Car Classification With Machine Learning"
   ]
  },
  {
   "cell_type": "markdown",
   "id": "9b1869c6",
   "metadata": {},
   "source": [
    "### Import All Needed Python libraries for regression and classification. "
   ]
  },
  {
   "cell_type": "code",
   "execution_count": 2,
   "id": "fe9ab7c5",
   "metadata": {},
   "outputs": [],
   "source": [
    "import numpy as np\n",
    "import pandas as pd\n",
    "import matplotlib.pyplot as plt \n",
    "%matplotlib inline\n",
    "from sklearn.ensemble import RandomForestClassifier\n",
    "from sklearn.datasets import make_classification\n",
    "from sklearn.ensemble import GradientBoostingClassifier\n",
    "import statsmodels.api as sm\n",
    "from sklearn.model_selection import train_test_split\n",
    "import matplotlib.pyplot as plt\n",
    "import numpy as np\n",
    "from sklearn import datasets, linear_model, metrics\n",
    "from sklearn.linear_model import LinearRegression\n",
    "import seaborn as sb"
   ]
  },
  {
   "cell_type": "markdown",
   "id": "e2dbebb3",
   "metadata": {},
   "source": [
    "### Call the csv document containing the dataset."
   ]
  },
  {
   "cell_type": "code",
   "execution_count": 3,
   "id": "2c77a3f9",
   "metadata": {},
   "outputs": [],
   "source": [
    "folder_path = 'D:\\\\MachineLearningDatasets\\\\autos.csv'\n",
    "\n",
    "df = pd.read_csv(folder_path)"
   ]
  },
  {
   "cell_type": "markdown",
   "id": "81b27cca",
   "metadata": {},
   "source": [
    "### This is a description of the columns and their significance to the dataset."
   ]
  },
  {
   "cell_type": "code",
   "execution_count": 4,
   "id": "9f614d0d",
   "metadata": {},
   "outputs": [],
   "source": [
    "#COLUMN NAME            COLUMN DEFINITION\n",
    "\n",
    "# dateCrawled:          Date the car was crawled. (Date)\n",
    "# name:                 Name of the car. (String)\n",
    "# seller:               Type of seller (private or dealer). (String)\n",
    "# offerType:            Type of offer (e.g. sale, repair, etc.). (String)\n",
    "# price:                Price of the car. (Integer)\n",
    "# abtest:               Test type (A or B). (String)\n",
    "# vehicleType:          Type of vehicle (e.g. SUV, sedan, etc.). (String)\n",
    "# yearOfRegistration:   Year the car was registered. (Integer)\n",
    "# gearbox:              Type of gearbox (manual or automatic). (String)\n",
    "# powerPS:              Power of the car in PS. (Integer)\n",
    "# model:                Model of the car. (String)\n",
    "# kilometer:            Kilometers the car has been driven. (Integer)\n",
    "# monthOfRegistration:  Month the car was registered. (Integer)\n",
    "# fuelType:             Type of fuel (e.g. diesel, petrol, etc.). (String)\n",
    "# brand:                Brand of the car. (String)\n",
    "# notRepairedDamage:    Whether or not the car has any damage that has not been repaired. (String)\n",
    "# dateCreated:          Date the car was created. (Date)\n",
    "# nrOfPictures:         Number of pictures of the car. (Integer)\n",
    "# postalCode:           Postal code of the car. (Integer)\n",
    "# lastSeen:             Date the car was last seen. (Date)"
   ]
  },
  {
   "cell_type": "code",
   "execution_count": 5,
   "id": "a68d7a35",
   "metadata": {},
   "outputs": [
    {
     "data": {
      "text/html": [
       "<div>\n",
       "<style scoped>\n",
       "    .dataframe tbody tr th:only-of-type {\n",
       "        vertical-align: middle;\n",
       "    }\n",
       "\n",
       "    .dataframe tbody tr th {\n",
       "        vertical-align: top;\n",
       "    }\n",
       "\n",
       "    .dataframe thead th {\n",
       "        text-align: right;\n",
       "    }\n",
       "</style>\n",
       "<table border=\"1\" class=\"dataframe\">\n",
       "  <thead>\n",
       "    <tr style=\"text-align: right;\">\n",
       "      <th></th>\n",
       "      <th>index</th>\n",
       "      <th>dateCrawled</th>\n",
       "      <th>name</th>\n",
       "      <th>seller</th>\n",
       "      <th>offerType</th>\n",
       "      <th>price</th>\n",
       "      <th>abtest</th>\n",
       "      <th>vehicleType</th>\n",
       "      <th>yearOfRegistration</th>\n",
       "      <th>gearbox</th>\n",
       "      <th>...</th>\n",
       "      <th>model</th>\n",
       "      <th>kilometer</th>\n",
       "      <th>monthOfRegistration</th>\n",
       "      <th>fuelType</th>\n",
       "      <th>brand</th>\n",
       "      <th>notRepairedDamage</th>\n",
       "      <th>dateCreated</th>\n",
       "      <th>nrOfPictures</th>\n",
       "      <th>postalCode</th>\n",
       "      <th>lastSeen</th>\n",
       "    </tr>\n",
       "  </thead>\n",
       "  <tbody>\n",
       "    <tr>\n",
       "      <th>0</th>\n",
       "      <td>0</td>\n",
       "      <td>2016-03-24 11:52:17</td>\n",
       "      <td>Golf_3_1.6</td>\n",
       "      <td>privat</td>\n",
       "      <td>Angebot</td>\n",
       "      <td>480</td>\n",
       "      <td>test</td>\n",
       "      <td>NaN</td>\n",
       "      <td>1993</td>\n",
       "      <td>manuell</td>\n",
       "      <td>...</td>\n",
       "      <td>golf</td>\n",
       "      <td>150000</td>\n",
       "      <td>0</td>\n",
       "      <td>benzin</td>\n",
       "      <td>volkswagen</td>\n",
       "      <td>NaN</td>\n",
       "      <td>2016-03-24 00:00:00</td>\n",
       "      <td>0</td>\n",
       "      <td>70435</td>\n",
       "      <td>2016-04-07 03:16:57</td>\n",
       "    </tr>\n",
       "    <tr>\n",
       "      <th>1</th>\n",
       "      <td>1</td>\n",
       "      <td>2016-03-24 10:58:45</td>\n",
       "      <td>A5_Sportback_2.7_Tdi</td>\n",
       "      <td>privat</td>\n",
       "      <td>Angebot</td>\n",
       "      <td>18300</td>\n",
       "      <td>test</td>\n",
       "      <td>coupe</td>\n",
       "      <td>2011</td>\n",
       "      <td>manuell</td>\n",
       "      <td>...</td>\n",
       "      <td>NaN</td>\n",
       "      <td>125000</td>\n",
       "      <td>5</td>\n",
       "      <td>diesel</td>\n",
       "      <td>audi</td>\n",
       "      <td>ja</td>\n",
       "      <td>2016-03-24 00:00:00</td>\n",
       "      <td>0</td>\n",
       "      <td>66954</td>\n",
       "      <td>2016-04-07 01:46:50</td>\n",
       "    </tr>\n",
       "    <tr>\n",
       "      <th>2</th>\n",
       "      <td>2</td>\n",
       "      <td>2016-03-14 12:52:21</td>\n",
       "      <td>Jeep_Grand_Cherokee_\"Overland\"</td>\n",
       "      <td>privat</td>\n",
       "      <td>Angebot</td>\n",
       "      <td>9800</td>\n",
       "      <td>test</td>\n",
       "      <td>suv</td>\n",
       "      <td>2004</td>\n",
       "      <td>automatik</td>\n",
       "      <td>...</td>\n",
       "      <td>grand</td>\n",
       "      <td>125000</td>\n",
       "      <td>8</td>\n",
       "      <td>diesel</td>\n",
       "      <td>jeep</td>\n",
       "      <td>NaN</td>\n",
       "      <td>2016-03-14 00:00:00</td>\n",
       "      <td>0</td>\n",
       "      <td>90480</td>\n",
       "      <td>2016-04-05 12:47:46</td>\n",
       "    </tr>\n",
       "    <tr>\n",
       "      <th>3</th>\n",
       "      <td>3</td>\n",
       "      <td>2016-03-17 16:54:04</td>\n",
       "      <td>GOLF_4_1_4__3TÜRER</td>\n",
       "      <td>privat</td>\n",
       "      <td>Angebot</td>\n",
       "      <td>1500</td>\n",
       "      <td>test</td>\n",
       "      <td>kleinwagen</td>\n",
       "      <td>2001</td>\n",
       "      <td>manuell</td>\n",
       "      <td>...</td>\n",
       "      <td>golf</td>\n",
       "      <td>150000</td>\n",
       "      <td>6</td>\n",
       "      <td>benzin</td>\n",
       "      <td>volkswagen</td>\n",
       "      <td>nein</td>\n",
       "      <td>2016-03-17 00:00:00</td>\n",
       "      <td>0</td>\n",
       "      <td>91074</td>\n",
       "      <td>2016-03-17 17:40:17</td>\n",
       "    </tr>\n",
       "    <tr>\n",
       "      <th>4</th>\n",
       "      <td>4</td>\n",
       "      <td>2016-03-31 17:25:20</td>\n",
       "      <td>Skoda_Fabia_1.4_TDI_PD_Classic</td>\n",
       "      <td>privat</td>\n",
       "      <td>Angebot</td>\n",
       "      <td>3600</td>\n",
       "      <td>test</td>\n",
       "      <td>kleinwagen</td>\n",
       "      <td>2008</td>\n",
       "      <td>manuell</td>\n",
       "      <td>...</td>\n",
       "      <td>fabia</td>\n",
       "      <td>90000</td>\n",
       "      <td>7</td>\n",
       "      <td>diesel</td>\n",
       "      <td>skoda</td>\n",
       "      <td>nein</td>\n",
       "      <td>2016-03-31 00:00:00</td>\n",
       "      <td>0</td>\n",
       "      <td>60437</td>\n",
       "      <td>2016-04-06 10:17:21</td>\n",
       "    </tr>\n",
       "  </tbody>\n",
       "</table>\n",
       "<p>5 rows × 21 columns</p>\n",
       "</div>"
      ],
      "text/plain": [
       "   index          dateCrawled                            name  seller  \\\n",
       "0      0  2016-03-24 11:52:17                      Golf_3_1.6  privat   \n",
       "1      1  2016-03-24 10:58:45            A5_Sportback_2.7_Tdi  privat   \n",
       "2      2  2016-03-14 12:52:21  Jeep_Grand_Cherokee_\"Overland\"  privat   \n",
       "3      3  2016-03-17 16:54:04              GOLF_4_1_4__3TÜRER  privat   \n",
       "4      4  2016-03-31 17:25:20  Skoda_Fabia_1.4_TDI_PD_Classic  privat   \n",
       "\n",
       "  offerType  price abtest vehicleType  yearOfRegistration    gearbox  ...  \\\n",
       "0   Angebot    480   test         NaN                1993    manuell  ...   \n",
       "1   Angebot  18300   test       coupe                2011    manuell  ...   \n",
       "2   Angebot   9800   test         suv                2004  automatik  ...   \n",
       "3   Angebot   1500   test  kleinwagen                2001    manuell  ...   \n",
       "4   Angebot   3600   test  kleinwagen                2008    manuell  ...   \n",
       "\n",
       "   model kilometer  monthOfRegistration  fuelType       brand  \\\n",
       "0   golf    150000                    0    benzin  volkswagen   \n",
       "1    NaN    125000                    5    diesel        audi   \n",
       "2  grand    125000                    8    diesel        jeep   \n",
       "3   golf    150000                    6    benzin  volkswagen   \n",
       "4  fabia     90000                    7    diesel       skoda   \n",
       "\n",
       "  notRepairedDamage          dateCreated nrOfPictures  postalCode  \\\n",
       "0               NaN  2016-03-24 00:00:00            0       70435   \n",
       "1                ja  2016-03-24 00:00:00            0       66954   \n",
       "2               NaN  2016-03-14 00:00:00            0       90480   \n",
       "3              nein  2016-03-17 00:00:00            0       91074   \n",
       "4              nein  2016-03-31 00:00:00            0       60437   \n",
       "\n",
       "              lastSeen  \n",
       "0  2016-04-07 03:16:57  \n",
       "1  2016-04-07 01:46:50  \n",
       "2  2016-04-05 12:47:46  \n",
       "3  2016-03-17 17:40:17  \n",
       "4  2016-04-06 10:17:21  \n",
       "\n",
       "[5 rows x 21 columns]"
      ]
     },
     "execution_count": 5,
     "metadata": {},
     "output_type": "execute_result"
    }
   ],
   "source": [
    "df.head()"
   ]
  },
  {
   "cell_type": "code",
   "execution_count": 6,
   "id": "abc2b29d",
   "metadata": {},
   "outputs": [
    {
     "data": {
      "text/plain": [
       "Index(['index', 'dateCrawled', 'name', 'seller', 'offerType', 'price',\n",
       "       'abtest', 'vehicleType', 'yearOfRegistration', 'gearbox', 'powerPS',\n",
       "       'model', 'kilometer', 'monthOfRegistration', 'fuelType', 'brand',\n",
       "       'notRepairedDamage', 'dateCreated', 'nrOfPictures', 'postalCode',\n",
       "       'lastSeen'],\n",
       "      dtype='object')"
      ]
     },
     "execution_count": 6,
     "metadata": {},
     "output_type": "execute_result"
    }
   ],
   "source": [
    "#The column names of the dataset.\n",
    "\n",
    "df.columns"
   ]
  },
  {
   "cell_type": "code",
   "execution_count": 7,
   "id": "4d3dacf3",
   "metadata": {},
   "outputs": [
    {
     "data": {
      "text/plain": [
       "7802088"
      ]
     },
     "execution_count": 7,
     "metadata": {},
     "output_type": "execute_result"
    }
   ],
   "source": [
    "#The length of the dataset.\n",
    "\n",
    "df.size"
   ]
  },
  {
   "cell_type": "markdown",
   "id": "6f3107ee",
   "metadata": {},
   "source": [
    "## Data Preprocessing"
   ]
  },
  {
   "cell_type": "markdown",
   "id": "8b3182fc",
   "metadata": {},
   "source": [
    "### This section deals with cleaning the data to make it more understandable. The dataset contains German words, so they are being translated to English."
   ]
  },
  {
   "cell_type": "code",
   "execution_count": 8,
   "id": "90683b3c",
   "metadata": {},
   "outputs": [],
   "source": [
    "#Preprocess and clean data. \n",
    "#Convert German words to English.\n",
    "\n",
    "#Seller Column\n",
    "df['seller'].replace('privat','Private', inplace=True)\n",
    "df['seller'].replace('gewerblich','Commercial', inplace=True)\n",
    "\n",
    "\n",
    "#Offer Type Column\n",
    "df['offerType'].replace('Angebot','Offer', inplace=True)\n",
    "df['offerType'].replace('Gesuch','Wanted', inplace=True)\n",
    "\n",
    "#Gearbox Column\n",
    "df['gearbox'].replace('manuell','Manual', inplace=True)\n",
    "df['gearbox'].replace('automatik','Automatic', inplace=True)\n",
    "\n",
    "\n",
    "#Fuel Type\n",
    "df['fuelType'].replace('benzin','Petrol', inplace=True)\n",
    "df['fuelType'].replace('diesel','Diesel', inplace=True)\n",
    "df['fuelType'].replace('andere','Other', inplace=True)\n",
    "df['fuelType'].replace('elektro','Electric', inplace=True)\n",
    "df['fuelType'].replace('lpg','LPG', inplace=True)\n",
    "df['fuelType'].replace('hybrid','Hybrid', inplace=True)\n",
    "df['fuelType'].replace('cng','CNG', inplace=True)\n",
    "\n",
    "#Not Repaired Damage\n",
    "df['notRepairedDamage'].replace('ja','Yes', inplace=True)\n",
    "df['notRepairedDamage'].replace('nein','No', inplace=True)\n",
    "\n",
    "#Vehicle Type\n",
    "df['vehicleType'].replace('andere','Other', inplace=True)\n",
    "df['vehicleType'].replace('kleinwagen','Small', inplace=True)\n",
    "df['vehicleType'].replace('cabrio','Convertible', inplace=True)\n",
    "df['vehicleType'].replace('kombi','Combi', inplace=True)\n",
    "df['vehicleType'].replace('coupe','Coupe', inplace=True)\n",
    "df['vehicleType'].replace('suv','SUV', inplace=True)\n",
    "df['vehicleType'].replace('limousine','Limousine', inplace=True)\n",
    "df['vehicleType'].replace('bus','Bus', inplace=True)\n",
    "\n",
    "\n",
    "#Brand Column\n",
    "#Capitalize the words\n",
    "df['brand'] = df['brand'].str.upper()"
   ]
  },
  {
   "cell_type": "code",
   "execution_count": 9,
   "id": "c2549b16",
   "metadata": {},
   "outputs": [
    {
     "data": {
      "text/html": [
       "<div>\n",
       "<style scoped>\n",
       "    .dataframe tbody tr th:only-of-type {\n",
       "        vertical-align: middle;\n",
       "    }\n",
       "\n",
       "    .dataframe tbody tr th {\n",
       "        vertical-align: top;\n",
       "    }\n",
       "\n",
       "    .dataframe thead th {\n",
       "        text-align: right;\n",
       "    }\n",
       "</style>\n",
       "<table border=\"1\" class=\"dataframe\">\n",
       "  <thead>\n",
       "    <tr style=\"text-align: right;\">\n",
       "      <th></th>\n",
       "      <th>index</th>\n",
       "      <th>dateCrawled</th>\n",
       "      <th>name</th>\n",
       "      <th>seller</th>\n",
       "      <th>offerType</th>\n",
       "      <th>price</th>\n",
       "      <th>abtest</th>\n",
       "      <th>vehicleType</th>\n",
       "      <th>yearOfRegistration</th>\n",
       "      <th>gearbox</th>\n",
       "      <th>...</th>\n",
       "      <th>model</th>\n",
       "      <th>kilometer</th>\n",
       "      <th>monthOfRegistration</th>\n",
       "      <th>fuelType</th>\n",
       "      <th>brand</th>\n",
       "      <th>notRepairedDamage</th>\n",
       "      <th>dateCreated</th>\n",
       "      <th>nrOfPictures</th>\n",
       "      <th>postalCode</th>\n",
       "      <th>lastSeen</th>\n",
       "    </tr>\n",
       "  </thead>\n",
       "  <tbody>\n",
       "    <tr>\n",
       "      <th>0</th>\n",
       "      <td>0</td>\n",
       "      <td>2016-03-24 11:52:17</td>\n",
       "      <td>Golf_3_1.6</td>\n",
       "      <td>Private</td>\n",
       "      <td>Offer</td>\n",
       "      <td>480</td>\n",
       "      <td>test</td>\n",
       "      <td>NaN</td>\n",
       "      <td>1993</td>\n",
       "      <td>Manual</td>\n",
       "      <td>...</td>\n",
       "      <td>golf</td>\n",
       "      <td>150000</td>\n",
       "      <td>0</td>\n",
       "      <td>Petrol</td>\n",
       "      <td>VOLKSWAGEN</td>\n",
       "      <td>NaN</td>\n",
       "      <td>2016-03-24 00:00:00</td>\n",
       "      <td>0</td>\n",
       "      <td>70435</td>\n",
       "      <td>2016-04-07 03:16:57</td>\n",
       "    </tr>\n",
       "    <tr>\n",
       "      <th>1</th>\n",
       "      <td>1</td>\n",
       "      <td>2016-03-24 10:58:45</td>\n",
       "      <td>A5_Sportback_2.7_Tdi</td>\n",
       "      <td>Private</td>\n",
       "      <td>Offer</td>\n",
       "      <td>18300</td>\n",
       "      <td>test</td>\n",
       "      <td>Coupe</td>\n",
       "      <td>2011</td>\n",
       "      <td>Manual</td>\n",
       "      <td>...</td>\n",
       "      <td>NaN</td>\n",
       "      <td>125000</td>\n",
       "      <td>5</td>\n",
       "      <td>Diesel</td>\n",
       "      <td>AUDI</td>\n",
       "      <td>Yes</td>\n",
       "      <td>2016-03-24 00:00:00</td>\n",
       "      <td>0</td>\n",
       "      <td>66954</td>\n",
       "      <td>2016-04-07 01:46:50</td>\n",
       "    </tr>\n",
       "    <tr>\n",
       "      <th>2</th>\n",
       "      <td>2</td>\n",
       "      <td>2016-03-14 12:52:21</td>\n",
       "      <td>Jeep_Grand_Cherokee_\"Overland\"</td>\n",
       "      <td>Private</td>\n",
       "      <td>Offer</td>\n",
       "      <td>9800</td>\n",
       "      <td>test</td>\n",
       "      <td>SUV</td>\n",
       "      <td>2004</td>\n",
       "      <td>Automatic</td>\n",
       "      <td>...</td>\n",
       "      <td>grand</td>\n",
       "      <td>125000</td>\n",
       "      <td>8</td>\n",
       "      <td>Diesel</td>\n",
       "      <td>JEEP</td>\n",
       "      <td>NaN</td>\n",
       "      <td>2016-03-14 00:00:00</td>\n",
       "      <td>0</td>\n",
       "      <td>90480</td>\n",
       "      <td>2016-04-05 12:47:46</td>\n",
       "    </tr>\n",
       "    <tr>\n",
       "      <th>3</th>\n",
       "      <td>3</td>\n",
       "      <td>2016-03-17 16:54:04</td>\n",
       "      <td>GOLF_4_1_4__3TÜRER</td>\n",
       "      <td>Private</td>\n",
       "      <td>Offer</td>\n",
       "      <td>1500</td>\n",
       "      <td>test</td>\n",
       "      <td>Small</td>\n",
       "      <td>2001</td>\n",
       "      <td>Manual</td>\n",
       "      <td>...</td>\n",
       "      <td>golf</td>\n",
       "      <td>150000</td>\n",
       "      <td>6</td>\n",
       "      <td>Petrol</td>\n",
       "      <td>VOLKSWAGEN</td>\n",
       "      <td>No</td>\n",
       "      <td>2016-03-17 00:00:00</td>\n",
       "      <td>0</td>\n",
       "      <td>91074</td>\n",
       "      <td>2016-03-17 17:40:17</td>\n",
       "    </tr>\n",
       "    <tr>\n",
       "      <th>4</th>\n",
       "      <td>4</td>\n",
       "      <td>2016-03-31 17:25:20</td>\n",
       "      <td>Skoda_Fabia_1.4_TDI_PD_Classic</td>\n",
       "      <td>Private</td>\n",
       "      <td>Offer</td>\n",
       "      <td>3600</td>\n",
       "      <td>test</td>\n",
       "      <td>Small</td>\n",
       "      <td>2008</td>\n",
       "      <td>Manual</td>\n",
       "      <td>...</td>\n",
       "      <td>fabia</td>\n",
       "      <td>90000</td>\n",
       "      <td>7</td>\n",
       "      <td>Diesel</td>\n",
       "      <td>SKODA</td>\n",
       "      <td>No</td>\n",
       "      <td>2016-03-31 00:00:00</td>\n",
       "      <td>0</td>\n",
       "      <td>60437</td>\n",
       "      <td>2016-04-06 10:17:21</td>\n",
       "    </tr>\n",
       "  </tbody>\n",
       "</table>\n",
       "<p>5 rows × 21 columns</p>\n",
       "</div>"
      ],
      "text/plain": [
       "   index          dateCrawled                            name   seller  \\\n",
       "0      0  2016-03-24 11:52:17                      Golf_3_1.6  Private   \n",
       "1      1  2016-03-24 10:58:45            A5_Sportback_2.7_Tdi  Private   \n",
       "2      2  2016-03-14 12:52:21  Jeep_Grand_Cherokee_\"Overland\"  Private   \n",
       "3      3  2016-03-17 16:54:04              GOLF_4_1_4__3TÜRER  Private   \n",
       "4      4  2016-03-31 17:25:20  Skoda_Fabia_1.4_TDI_PD_Classic  Private   \n",
       "\n",
       "  offerType  price abtest vehicleType  yearOfRegistration    gearbox  ...  \\\n",
       "0     Offer    480   test         NaN                1993     Manual  ...   \n",
       "1     Offer  18300   test       Coupe                2011     Manual  ...   \n",
       "2     Offer   9800   test         SUV                2004  Automatic  ...   \n",
       "3     Offer   1500   test       Small                2001     Manual  ...   \n",
       "4     Offer   3600   test       Small                2008     Manual  ...   \n",
       "\n",
       "   model kilometer  monthOfRegistration  fuelType       brand  \\\n",
       "0   golf    150000                    0    Petrol  VOLKSWAGEN   \n",
       "1    NaN    125000                    5    Diesel        AUDI   \n",
       "2  grand    125000                    8    Diesel        JEEP   \n",
       "3   golf    150000                    6    Petrol  VOLKSWAGEN   \n",
       "4  fabia     90000                    7    Diesel       SKODA   \n",
       "\n",
       "  notRepairedDamage          dateCreated nrOfPictures  postalCode  \\\n",
       "0               NaN  2016-03-24 00:00:00            0       70435   \n",
       "1               Yes  2016-03-24 00:00:00            0       66954   \n",
       "2               NaN  2016-03-14 00:00:00            0       90480   \n",
       "3                No  2016-03-17 00:00:00            0       91074   \n",
       "4                No  2016-03-31 00:00:00            0       60437   \n",
       "\n",
       "              lastSeen  \n",
       "0  2016-04-07 03:16:57  \n",
       "1  2016-04-07 01:46:50  \n",
       "2  2016-04-05 12:47:46  \n",
       "3  2016-03-17 17:40:17  \n",
       "4  2016-04-06 10:17:21  \n",
       "\n",
       "[5 rows x 21 columns]"
      ]
     },
     "execution_count": 9,
     "metadata": {},
     "output_type": "execute_result"
    }
   ],
   "source": [
    "df.head()"
   ]
  },
  {
   "cell_type": "code",
   "execution_count": null,
   "id": "4e9689ef",
   "metadata": {},
   "outputs": [],
   "source": []
  },
  {
   "cell_type": "markdown",
   "id": "5552ff98",
   "metadata": {},
   "source": [
    "## Data Visualization"
   ]
  },
  {
   "cell_type": "markdown",
   "id": "3482cc54",
   "metadata": {},
   "source": [
    "### Bar Graph For The Number Of Sellers Based On Seller Type"
   ]
  },
  {
   "cell_type": "code",
   "execution_count": 10,
   "id": "b216ca65",
   "metadata": {},
   "outputs": [
    {
     "data": {
      "text/plain": [
       "array(['Private', 'Commercial'], dtype=object)"
      ]
     },
     "execution_count": 10,
     "metadata": {},
     "output_type": "execute_result"
    }
   ],
   "source": [
    "#Get Unique Values of Seller Types.\n",
    "df['seller'].unique()"
   ]
  },
  {
   "cell_type": "code",
   "execution_count": 11,
   "id": "79d3a968",
   "metadata": {},
   "outputs": [
    {
     "name": "stdout",
     "output_type": "stream",
     "text": [
      "371525\n",
      "3\n"
     ]
    }
   ],
   "source": [
    "#Get the Value Counts of each Seller Type.\n",
    "print(df['seller'].value_counts()['Private'])\n",
    "print(df['seller'].value_counts()['Commercial'])"
   ]
  },
  {
   "cell_type": "code",
   "execution_count": 12,
   "id": "97dbfd9a",
   "metadata": {},
   "outputs": [],
   "source": [
    "#Assign Values to variables.\n",
    "sellerPrivate = df['seller'].value_counts()['Private']\n",
    "sellerCommercial = df['seller'].value_counts()['Commercial']"
   ]
  },
  {
   "cell_type": "code",
   "execution_count": 13,
   "id": "1f90b8d4",
   "metadata": {},
   "outputs": [
    {
     "data": {
      "image/png": "[encoded data removed]",
      "text/plain": [
       "<Figure size 432x432 with 1 Axes>"
      ]
     },
     "metadata": {
      "needs_background": "light"
     },
     "output_type": "display_data"
    }
   ],
   "source": [
    "#Create the graph.\n",
    "dataGraphSeller = {'Private':sellerPrivate,'Commercial':sellerCommercial}\n",
    "\n",
    "sellerType = list(dataGraphSeller.keys())\n",
    "sellerCount = list(dataGraphSeller.values())\n",
    "\n",
    "fig = plt.figure(figsize = (6,6))\n",
    "\n",
    "plt.bar(sellerType, sellerCount, color ='green', width = 0.2)\n",
    "\n",
    "\n",
    "plt.xlabel(\"Type Of Seller\")\n",
    "plt.ylabel(\"Total Count\")\n",
    "plt.title(\"Total Count Of Car Sellers Based On Seller Type\")\n",
    "plt.show()"
   ]
  },
  {
   "cell_type": "code",
   "execution_count": null,
   "id": "fbfb6c6b",
   "metadata": {},
   "outputs": [],
   "source": []
  },
  {
   "cell_type": "markdown",
   "id": "c1fba06a",
   "metadata": {},
   "source": [
    "### Bar Graph For The Number Of Offers Based On Offer Type"
   ]
  },
  {
   "cell_type": "code",
   "execution_count": 14,
   "id": "1cdfcd17",
   "metadata": {},
   "outputs": [
    {
     "data": {
      "text/plain": [
       "array(['Offer', 'Wanted'], dtype=object)"
      ]
     },
     "execution_count": 14,
     "metadata": {},
     "output_type": "execute_result"
    }
   ],
   "source": [
    "#Get Unique Values of Offer Types.\n",
    "df['offerType'].unique()"
   ]
  },
  {
   "cell_type": "code",
   "execution_count": 15,
   "id": "cbd84ce1",
   "metadata": {},
   "outputs": [
    {
     "name": "stdout",
     "output_type": "stream",
     "text": [
      "371516\n",
      "12\n"
     ]
    }
   ],
   "source": [
    "#Get the Value Counts of each Offer Type.\n",
    "print(df['offerType'].value_counts()['Offer'])\n",
    "print(df['offerType'].value_counts()['Wanted'])"
   ]
  },
  {
   "cell_type": "code",
   "execution_count": 16,
   "id": "344eeae4",
   "metadata": {},
   "outputs": [],
   "source": [
    "#Assign Values to variables.\n",
    "offerOffer = df['offerType'].value_counts()['Offer']\n",
    "offerWanted = df['offerType'].value_counts()['Wanted']"
   ]
  },
  {
   "cell_type": "code",
   "execution_count": 17,
   "id": "68c5acfd",
   "metadata": {},
   "outputs": [
    {
     "data": {
      "image/png": "[encoded data removed]",
      "text/plain": [
       "<Figure size 432x432 with 1 Axes>"
      ]
     },
     "metadata": {
      "needs_background": "light"
     },
     "output_type": "display_data"
    }
   ],
   "source": [
    "#Create the graph.\n",
    "dataGraphOffer = {'Offer':offerOffer,'Wanted':offerWanted}\n",
    "\n",
    "offerType = list(dataGraphOffer.keys())\n",
    "offerCount = list(dataGraphOffer.values())\n",
    "\n",
    "fig = plt.figure(figsize = (6,6))\n",
    "\n",
    "plt.bar(offerType, offerCount, color ='orange', width = 0.2)\n",
    "\n",
    "\n",
    "plt.xlabel(\"Type Of Offer\")\n",
    "plt.ylabel(\"Total Count\")\n",
    "plt.title(\"Total Count Of Car Offers Based On Offer Type\")\n",
    "plt.show()"
   ]
  },
  {
   "cell_type": "code",
   "execution_count": null,
   "id": "248dd468",
   "metadata": {},
   "outputs": [],
   "source": []
  },
  {
   "cell_type": "markdown",
   "id": "3ac6fd89",
   "metadata": {},
   "source": [
    "### Bar Graph For The Number Of Tests Based On Test Type"
   ]
  },
  {
   "cell_type": "code",
   "execution_count": 18,
   "id": "8ded565c",
   "metadata": {},
   "outputs": [
    {
     "data": {
      "text/plain": [
       "array(['test', 'control'], dtype=object)"
      ]
     },
     "execution_count": 18,
     "metadata": {},
     "output_type": "execute_result"
    }
   ],
   "source": [
    "#Get Unique Values of Test Types.\n",
    "df['abtest'].unique()"
   ]
  },
  {
   "cell_type": "code",
   "execution_count": 19,
   "id": "b8da7465",
   "metadata": {},
   "outputs": [
    {
     "name": "stdout",
     "output_type": "stream",
     "text": [
      "192585\n",
      "178943\n"
     ]
    }
   ],
   "source": [
    "#Get the Value Counts of each Test Type.\n",
    "print(df['abtest'].value_counts()['test'])\n",
    "print(df['abtest'].value_counts()['control'])"
   ]
  },
  {
   "cell_type": "code",
   "execution_count": 20,
   "id": "942e17b5",
   "metadata": {},
   "outputs": [],
   "source": [
    "#Assign Values to variables.\n",
    "abtestTest = df['abtest'].value_counts()['test']\n",
    "abtestControl = df['abtest'].value_counts()['control']"
   ]
  },
  {
   "cell_type": "code",
   "execution_count": 21,
   "id": "660fb6d6",
   "metadata": {},
   "outputs": [
    {
     "data": {
      "image/png": "[encoded data removed]",
      "text/plain": [
       "<Figure size 432x432 with 1 Axes>"
      ]
     },
     "metadata": {
      "needs_background": "light"
     },
     "output_type": "display_data"
    }
   ],
   "source": [
    "#Create the graph.\n",
    "dataABTEST = {'Offer':abtestTest,'Wanted':abtestControl}\n",
    "\n",
    "testType = list(dataABTEST.keys())\n",
    "testCount = list(dataABTEST.values())\n",
    "\n",
    "fig = plt.figure(figsize = (6,6))\n",
    "\n",
    "plt.bar(testType, testCount, color ='blue', width = 0.2)\n",
    "\n",
    "\n",
    "plt.xlabel(\"Type Of Test\")\n",
    "plt.ylabel(\"Total Count\")\n",
    "plt.title(\"Total Count Of Tests Based On Test Type\")\n",
    "plt.show()"
   ]
  },
  {
   "cell_type": "code",
   "execution_count": null,
   "id": "c7f503cc",
   "metadata": {},
   "outputs": [],
   "source": []
  },
  {
   "cell_type": "markdown",
   "id": "d28d1988",
   "metadata": {},
   "source": [
    "### Bar Graph For The Number Of Vehicles Based On Vehicle Type"
   ]
  },
  {
   "cell_type": "code",
   "execution_count": 22,
   "id": "ac98366e",
   "metadata": {},
   "outputs": [
    {
     "data": {
      "text/plain": [
       "array([nan, 'Coupe', 'SUV', 'Small', 'Limousine', 'Convertible', 'Bus',\n",
       "       'Combi', 'Other'], dtype=object)"
      ]
     },
     "execution_count": 22,
     "metadata": {},
     "output_type": "execute_result"
    }
   ],
   "source": [
    "#Get Unique Values of Vehicle Types.\n",
    "df['vehicleType'].unique()"
   ]
  },
  {
   "cell_type": "code",
   "execution_count": 23,
   "id": "33a45fc3",
   "metadata": {},
   "outputs": [
    {
     "data": {
      "text/plain": [
       "Limousine      95894\n",
       "Small          80023\n",
       "Combi          67564\n",
       "Bus            30201\n",
       "Convertible    22898\n",
       "Coupe          19015\n",
       "SUV            14707\n",
       "Other           3357\n",
       "Name: vehicleType, dtype: int64"
      ]
     },
     "execution_count": 23,
     "metadata": {},
     "output_type": "execute_result"
    }
   ],
   "source": [
    "#Get the Value Counts of each Vehicle Type.\n",
    "df['vehicleType'].value_counts()"
   ]
  },
  {
   "cell_type": "code",
   "execution_count": 24,
   "id": "21298d65",
   "metadata": {},
   "outputs": [],
   "source": [
    "vehicleTypeLimousine = df['vehicleType'].value_counts()['Limousine']\n",
    "vehicleTypeCoupe = df['vehicleType'].value_counts()['Coupe']\n",
    "vehicleTypeSUV = df['vehicleType'].value_counts()['SUV']\n",
    "vehicleTypeSmallCar = df['vehicleType'].value_counts()['Small']\n",
    "vehicleTypeConvertible = df['vehicleType'].value_counts()['Convertible']\n",
    "vehicleTypeBus = df['vehicleType'].value_counts()['Bus']\n",
    "vehicleTypeCombi = df['vehicleType'].value_counts()['Combi']\n",
    "vehicleTypeOther = df['vehicleType'].value_counts()['Other']"
   ]
  },
  {
   "cell_type": "code",
   "execution_count": 25,
   "id": "6071d1c4",
   "metadata": {},
   "outputs": [
    {
     "data": {
      "image/png": "[encoded data removed]",
      "text/plain": [
       "<Figure size 432x432 with 1 Axes>"
      ]
     },
     "metadata": {
      "needs_background": "light"
     },
     "output_type": "display_data"
    }
   ],
   "source": [
    "#Create the graph.\n",
    "dataVehicle = {'Limousine':vehicleTypeLimousine,'Coupe':vehicleTypeCoupe,\n",
    "               'SUV':vehicleTypeSUV,'Small':vehicleTypeSmallCar,'Convertible':vehicleTypeConvertible,\n",
    "               'Bus':vehicleTypeBus,'Combi':vehicleTypeCombi,'Other':vehicleTypeOther}\n",
    "\n",
    "vehicleType = list(dataVehicle.keys())\n",
    "vehicleCount = list(dataVehicle.values())\n",
    "\n",
    "fig = plt.figure(figsize = (6,6))\n",
    "\n",
    "plt.bar(vehicleType, vehicleCount, color ='green', width = 0.2)\n",
    "\n",
    "\n",
    "plt.xlabel(\"Type Of Vechicle\")\n",
    "plt.ylabel(\"Total Count\")\n",
    "plt.title(\"Total Count Of Vechicles Based On Vechicle Type\")\n",
    "plt.show()"
   ]
  },
  {
   "cell_type": "code",
   "execution_count": null,
   "id": "919ecd22",
   "metadata": {},
   "outputs": [],
   "source": []
  },
  {
   "cell_type": "markdown",
   "id": "e2e02fb3",
   "metadata": {},
   "source": [
    "### Bar Graph For The Number Of Gearboxes Based On Gearbox Type"
   ]
  },
  {
   "cell_type": "code",
   "execution_count": 26,
   "id": "726ba846",
   "metadata": {},
   "outputs": [
    {
     "data": {
      "text/plain": [
       "Manual       274214\n",
       "Automatic     77105\n",
       "Name: gearbox, dtype: int64"
      ]
     },
     "execution_count": 26,
     "metadata": {},
     "output_type": "execute_result"
    }
   ],
   "source": [
    "#Get the Value Counts of each Vehicle Type.\n",
    "df['gearbox'].value_counts()"
   ]
  },
  {
   "cell_type": "code",
   "execution_count": 27,
   "id": "a607ad2f",
   "metadata": {},
   "outputs": [],
   "source": [
    "#Assign Values to variables.\n",
    "gearboxManual = df['gearbox'].value_counts()['Manual']\n",
    "gearboxAuto = df['gearbox'].value_counts()['Automatic']"
   ]
  },
  {
   "cell_type": "code",
   "execution_count": 28,
   "id": "c6e4ca2b",
   "metadata": {},
   "outputs": [
    {
     "data": {
      "image/png": "[encoded data removed]",
      "text/plain": [
       "<Figure size 432x432 with 1 Axes>"
      ]
     },
     "metadata": {
      "needs_background": "light"
     },
     "output_type": "display_data"
    }
   ],
   "source": [
    "#Create the graph.\n",
    "dataGearbox = {'Manual':gearboxManual,'Automatic':gearboxAuto}\n",
    "\n",
    "gearboxType = list(dataGearbox.keys())\n",
    "gearboxCount = list(dataGearbox.values())\n",
    "\n",
    "fig = plt.figure(figsize = (6,6))\n",
    "\n",
    "plt.bar(gearboxType, gearboxCount, color ='red', width = 0.2)\n",
    "\n",
    "\n",
    "plt.xlabel(\"Type Of Gearbox\")\n",
    "plt.ylabel(\"Total Count\")\n",
    "plt.title(\"Total Count Of Gearbox Based On Gearbox Type\")\n",
    "plt.show()"
   ]
  },
  {
   "cell_type": "code",
   "execution_count": null,
   "id": "104b267b",
   "metadata": {},
   "outputs": [],
   "source": []
  },
  {
   "cell_type": "markdown",
   "id": "8793fb34",
   "metadata": {},
   "source": [
    "### Bar Graph For The Number Of Fuel Machines Based On Fuel Type"
   ]
  },
  {
   "cell_type": "code",
   "execution_count": 29,
   "id": "77d71b05",
   "metadata": {},
   "outputs": [
    {
     "data": {
      "text/plain": [
       "Petrol      223857\n",
       "Diesel      107746\n",
       "LPG           5378\n",
       "CNG            571\n",
       "Hybrid         278\n",
       "Other          208\n",
       "Electric       104\n",
       "Name: fuelType, dtype: int64"
      ]
     },
     "execution_count": 29,
     "metadata": {},
     "output_type": "execute_result"
    }
   ],
   "source": [
    "#Get the Value Counts of each Fuel Type.\n",
    "df['fuelType'].value_counts()"
   ]
  },
  {
   "cell_type": "code",
   "execution_count": 30,
   "id": "bce32bd7",
   "metadata": {},
   "outputs": [],
   "source": [
    "#Assign Values to variables.\n",
    "fuelPetrol = df['fuelType'].value_counts()['Petrol']\n",
    "fuelDiesel = df['fuelType'].value_counts()['Diesel']\n",
    "fuelLPG = df['fuelType'].value_counts()['LPG']\n",
    "fuelCNG = df['fuelType'].value_counts()['CNG']\n",
    "fuelHybrid = df['fuelType'].value_counts()['Hybrid']\n",
    "fuelOther = df['fuelType'].value_counts()['Other']\n",
    "fuelElectric = df['fuelType'].value_counts()['Electric']"
   ]
  },
  {
   "cell_type": "code",
   "execution_count": 31,
   "id": "c951911b",
   "metadata": {},
   "outputs": [
    {
     "data": {
      "image/png": "[encoded data removed]",
      "text/plain": [
       "<Figure size 432x432 with 1 Axes>"
      ]
     },
     "metadata": {
      "needs_background": "light"
     },
     "output_type": "display_data"
    }
   ],
   "source": [
    "#Create the graph.\n",
    "dataFuel = {'Petrol':fuelPetrol,'Diesel':fuelDiesel,'LPG':fuelLPG,\n",
    "            'CNG':fuelCNG,'Hybrid':fuelHybrid,'Other':fuelOther,'Electric':fuelElectric}\n",
    "\n",
    "fuelType = list(dataFuel.keys())\n",
    "fuelCount = list(dataFuel.values())\n",
    "\n",
    "fig = plt.figure(figsize = (6,6))\n",
    "\n",
    "plt.bar(fuelType, fuelCount, color ='red', width = 0.2)\n",
    "\n",
    "\n",
    "plt.xlabel(\"Type Of Fuel\")\n",
    "plt.ylabel(\"Total Count\")\n",
    "plt.title(\"Total Count Of Fuel Machines Based On Fuel Type\")\n",
    "plt.show()"
   ]
  },
  {
   "cell_type": "code",
   "execution_count": null,
   "id": "0602cba3",
   "metadata": {},
   "outputs": [],
   "source": []
  },
  {
   "cell_type": "markdown",
   "id": "1164f826",
   "metadata": {},
   "source": [
    "### How Many Cars Have Damage That Has Not Been Repaired?"
   ]
  },
  {
   "cell_type": "code",
   "execution_count": 32,
   "id": "1775291b",
   "metadata": {},
   "outputs": [
    {
     "data": {
      "text/plain": [
       "No     263182\n",
       "Yes     36286\n",
       "Name: notRepairedDamage, dtype: int64"
      ]
     },
     "execution_count": 32,
     "metadata": {},
     "output_type": "execute_result"
    }
   ],
   "source": [
    "#Get the Value Counts of each Fuel Type.\n",
    "df['notRepairedDamage'].value_counts()"
   ]
  },
  {
   "cell_type": "code",
   "execution_count": 33,
   "id": "ddfb5ef8",
   "metadata": {},
   "outputs": [],
   "source": [
    "#Assign Values to variables.\n",
    "noDamage = df['notRepairedDamage'].value_counts()['No']\n",
    "yesDamage = df['notRepairedDamage'].value_counts()['Yes']"
   ]
  },
  {
   "cell_type": "code",
   "execution_count": 34,
   "id": "9d686f2f",
   "metadata": {},
   "outputs": [
    {
     "data": {
      "image/png": "[encoded data removed]",
      "text/plain": [
       "<Figure size 432x432 with 1 Axes>"
      ]
     },
     "metadata": {
      "needs_background": "light"
     },
     "output_type": "display_data"
    }
   ],
   "source": [
    "#Create the graph.\n",
    "dataDamage = {'No':noDamage,'Yes':yesDamage}\n",
    "\n",
    "damageType = list(dataDamage.keys())\n",
    "damageCount = list(dataDamage.values())\n",
    "\n",
    "fig = plt.figure(figsize = (6,6))\n",
    "\n",
    "plt.bar(damageType, damageCount, color ='red', width = 0.2)\n",
    "\n",
    "\n",
    "plt.xlabel(\"Type Of Damage\")\n",
    "plt.ylabel(\"Total Count\")\n",
    "plt.title(\"How Many Cars Have Damage That Has Not Been Repaired?\")\n",
    "plt.show()"
   ]
  },
  {
   "cell_type": "code",
   "execution_count": null,
   "id": "85978ffb",
   "metadata": {},
   "outputs": [],
   "source": []
  },
  {
   "cell_type": "markdown",
   "id": "ea8735c2",
   "metadata": {},
   "source": [
    "### How Many Cars Have Damage That Has Not Been Repaired?"
   ]
  },
  {
   "cell_type": "code",
   "execution_count": 113,
   "id": "f9218eab",
   "metadata": {},
   "outputs": [
    {
     "data": {
      "text/html": [
       "<div>\n",
       "<style scoped>\n",
       "    .dataframe tbody tr th:only-of-type {\n",
       "        vertical-align: middle;\n",
       "    }\n",
       "\n",
       "    .dataframe tbody tr th {\n",
       "        vertical-align: top;\n",
       "    }\n",
       "\n",
       "    .dataframe thead th {\n",
       "        text-align: right;\n",
       "    }\n",
       "</style>\n",
       "<table border=\"1\" class=\"dataframe\">\n",
       "  <thead>\n",
       "    <tr style=\"text-align: right;\">\n",
       "      <th></th>\n",
       "      <th>index</th>\n",
       "      <th>dateCrawled</th>\n",
       "      <th>name</th>\n",
       "      <th>seller</th>\n",
       "      <th>offerType</th>\n",
       "      <th>price</th>\n",
       "      <th>abtest</th>\n",
       "      <th>vehicleType</th>\n",
       "      <th>yearOfRegistration</th>\n",
       "      <th>gearbox</th>\n",
       "      <th>...</th>\n",
       "      <th>model</th>\n",
       "      <th>kilometer</th>\n",
       "      <th>monthOfRegistration</th>\n",
       "      <th>fuelType</th>\n",
       "      <th>brand</th>\n",
       "      <th>notRepairedDamage</th>\n",
       "      <th>dateCreated</th>\n",
       "      <th>nrOfPictures</th>\n",
       "      <th>postalCode</th>\n",
       "      <th>lastSeen</th>\n",
       "    </tr>\n",
       "  </thead>\n",
       "  <tbody>\n",
       "    <tr>\n",
       "      <th>0</th>\n",
       "      <td>0</td>\n",
       "      <td>2016-03-24 11:52:17</td>\n",
       "      <td>Golf_3_1.6</td>\n",
       "      <td>Private</td>\n",
       "      <td>Offer</td>\n",
       "      <td>480</td>\n",
       "      <td>test</td>\n",
       "      <td>NaN</td>\n",
       "      <td>1993</td>\n",
       "      <td>Manual</td>\n",
       "      <td>...</td>\n",
       "      <td>golf</td>\n",
       "      <td>150000</td>\n",
       "      <td>0</td>\n",
       "      <td>Petrol</td>\n",
       "      <td>VOLKSWAGEN</td>\n",
       "      <td>NaN</td>\n",
       "      <td>2016-03-24 00:00:00</td>\n",
       "      <td>0</td>\n",
       "      <td>70435</td>\n",
       "      <td>2016-04-07 03:16:57</td>\n",
       "    </tr>\n",
       "    <tr>\n",
       "      <th>1</th>\n",
       "      <td>1</td>\n",
       "      <td>2016-03-24 10:58:45</td>\n",
       "      <td>A5_Sportback_2.7_Tdi</td>\n",
       "      <td>Private</td>\n",
       "      <td>Offer</td>\n",
       "      <td>18300</td>\n",
       "      <td>test</td>\n",
       "      <td>Coupe</td>\n",
       "      <td>2011</td>\n",
       "      <td>Manual</td>\n",
       "      <td>...</td>\n",
       "      <td>NaN</td>\n",
       "      <td>125000</td>\n",
       "      <td>5</td>\n",
       "      <td>Diesel</td>\n",
       "      <td>AUDI</td>\n",
       "      <td>Yes</td>\n",
       "      <td>2016-03-24 00:00:00</td>\n",
       "      <td>0</td>\n",
       "      <td>66954</td>\n",
       "      <td>2016-04-07 01:46:50</td>\n",
       "    </tr>\n",
       "    <tr>\n",
       "      <th>2</th>\n",
       "      <td>2</td>\n",
       "      <td>2016-03-14 12:52:21</td>\n",
       "      <td>Jeep_Grand_Cherokee_\"Overland\"</td>\n",
       "      <td>Private</td>\n",
       "      <td>Offer</td>\n",
       "      <td>9800</td>\n",
       "      <td>test</td>\n",
       "      <td>SUV</td>\n",
       "      <td>2004</td>\n",
       "      <td>Automatic</td>\n",
       "      <td>...</td>\n",
       "      <td>grand</td>\n",
       "      <td>125000</td>\n",
       "      <td>8</td>\n",
       "      <td>Diesel</td>\n",
       "      <td>JEEP</td>\n",
       "      <td>NaN</td>\n",
       "      <td>2016-03-14 00:00:00</td>\n",
       "      <td>0</td>\n",
       "      <td>90480</td>\n",
       "      <td>2016-04-05 12:47:46</td>\n",
       "    </tr>\n",
       "    <tr>\n",
       "      <th>3</th>\n",
       "      <td>3</td>\n",
       "      <td>2016-03-17 16:54:04</td>\n",
       "      <td>GOLF_4_1_4__3TÜRER</td>\n",
       "      <td>Private</td>\n",
       "      <td>Offer</td>\n",
       "      <td>1500</td>\n",
       "      <td>test</td>\n",
       "      <td>Small</td>\n",
       "      <td>2001</td>\n",
       "      <td>Manual</td>\n",
       "      <td>...</td>\n",
       "      <td>golf</td>\n",
       "      <td>150000</td>\n",
       "      <td>6</td>\n",
       "      <td>Petrol</td>\n",
       "      <td>VOLKSWAGEN</td>\n",
       "      <td>No</td>\n",
       "      <td>2016-03-17 00:00:00</td>\n",
       "      <td>0</td>\n",
       "      <td>91074</td>\n",
       "      <td>2016-03-17 17:40:17</td>\n",
       "    </tr>\n",
       "    <tr>\n",
       "      <th>4</th>\n",
       "      <td>4</td>\n",
       "      <td>2016-03-31 17:25:20</td>\n",
       "      <td>Skoda_Fabia_1.4_TDI_PD_Classic</td>\n",
       "      <td>Private</td>\n",
       "      <td>Offer</td>\n",
       "      <td>3600</td>\n",
       "      <td>test</td>\n",
       "      <td>Small</td>\n",
       "      <td>2008</td>\n",
       "      <td>Manual</td>\n",
       "      <td>...</td>\n",
       "      <td>fabia</td>\n",
       "      <td>90000</td>\n",
       "      <td>7</td>\n",
       "      <td>Diesel</td>\n",
       "      <td>SKODA</td>\n",
       "      <td>No</td>\n",
       "      <td>2016-03-31 00:00:00</td>\n",
       "      <td>0</td>\n",
       "      <td>60437</td>\n",
       "      <td>2016-04-06 10:17:21</td>\n",
       "    </tr>\n",
       "  </tbody>\n",
       "</table>\n",
       "<p>5 rows × 21 columns</p>\n",
       "</div>"
      ],
      "text/plain": [
       "   index          dateCrawled                            name   seller  \\\n",
       "0      0  2016-03-24 11:52:17                      Golf_3_1.6  Private   \n",
       "1      1  2016-03-24 10:58:45            A5_Sportback_2.7_Tdi  Private   \n",
       "2      2  2016-03-14 12:52:21  Jeep_Grand_Cherokee_\"Overland\"  Private   \n",
       "3      3  2016-03-17 16:54:04              GOLF_4_1_4__3TÜRER  Private   \n",
       "4      4  2016-03-31 17:25:20  Skoda_Fabia_1.4_TDI_PD_Classic  Private   \n",
       "\n",
       "  offerType  price abtest vehicleType  yearOfRegistration    gearbox  ...  \\\n",
       "0     Offer    480   test         NaN                1993     Manual  ...   \n",
       "1     Offer  18300   test       Coupe                2011     Manual  ...   \n",
       "2     Offer   9800   test         SUV                2004  Automatic  ...   \n",
       "3     Offer   1500   test       Small                2001     Manual  ...   \n",
       "4     Offer   3600   test       Small                2008     Manual  ...   \n",
       "\n",
       "   model kilometer  monthOfRegistration  fuelType       brand  \\\n",
       "0   golf    150000                    0    Petrol  VOLKSWAGEN   \n",
       "1    NaN    125000                    5    Diesel        AUDI   \n",
       "2  grand    125000                    8    Diesel        JEEP   \n",
       "3   golf    150000                    6    Petrol  VOLKSWAGEN   \n",
       "4  fabia     90000                    7    Diesel       SKODA   \n",
       "\n",
       "  notRepairedDamage          dateCreated nrOfPictures  postalCode  \\\n",
       "0               NaN  2016-03-24 00:00:00            0       70435   \n",
       "1               Yes  2016-03-24 00:00:00            0       66954   \n",
       "2               NaN  2016-03-14 00:00:00            0       90480   \n",
       "3                No  2016-03-17 00:00:00            0       91074   \n",
       "4                No  2016-03-31 00:00:00            0       60437   \n",
       "\n",
       "              lastSeen  \n",
       "0  2016-04-07 03:16:57  \n",
       "1  2016-04-07 01:46:50  \n",
       "2  2016-04-05 12:47:46  \n",
       "3  2016-03-17 17:40:17  \n",
       "4  2016-04-06 10:17:21  \n",
       "\n",
       "[5 rows x 21 columns]"
      ]
     },
     "execution_count": 113,
     "metadata": {},
     "output_type": "execute_result"
    }
   ],
   "source": [
    "df.head()"
   ]
  },
  {
   "cell_type": "code",
   "execution_count": null,
   "id": "c9a6415d",
   "metadata": {},
   "outputs": [],
   "source": []
  },
  {
   "cell_type": "code",
   "execution_count": null,
   "id": "704885e5",
   "metadata": {},
   "outputs": [],
   "source": []
  },
  {
   "cell_type": "code",
   "execution_count": null,
   "id": "0e1b527e",
   "metadata": {},
   "outputs": [],
   "source": []
  },
  {
   "cell_type": "markdown",
   "id": "624dc988",
   "metadata": {},
   "source": [
    "## Data Cleaning Before/For Data Classification"
   ]
  },
  {
   "cell_type": "code",
   "execution_count": 35,
   "id": "5313448d",
   "metadata": {},
   "outputs": [
    {
     "data": {
      "text/html": [
       "<div>\n",
       "<style scoped>\n",
       "    .dataframe tbody tr th:only-of-type {\n",
       "        vertical-align: middle;\n",
       "    }\n",
       "\n",
       "    .dataframe tbody tr th {\n",
       "        vertical-align: top;\n",
       "    }\n",
       "\n",
       "    .dataframe thead th {\n",
       "        text-align: right;\n",
       "    }\n",
       "</style>\n",
       "<table border=\"1\" class=\"dataframe\">\n",
       "  <thead>\n",
       "    <tr style=\"text-align: right;\">\n",
       "      <th></th>\n",
       "      <th>index</th>\n",
       "      <th>dateCrawled</th>\n",
       "      <th>name</th>\n",
       "      <th>seller</th>\n",
       "      <th>offerType</th>\n",
       "      <th>price</th>\n",
       "      <th>abtest</th>\n",
       "      <th>vehicleType</th>\n",
       "      <th>yearOfRegistration</th>\n",
       "      <th>gearbox</th>\n",
       "      <th>...</th>\n",
       "      <th>model</th>\n",
       "      <th>kilometer</th>\n",
       "      <th>monthOfRegistration</th>\n",
       "      <th>fuelType</th>\n",
       "      <th>brand</th>\n",
       "      <th>notRepairedDamage</th>\n",
       "      <th>dateCreated</th>\n",
       "      <th>nrOfPictures</th>\n",
       "      <th>postalCode</th>\n",
       "      <th>lastSeen</th>\n",
       "    </tr>\n",
       "  </thead>\n",
       "  <tbody>\n",
       "    <tr>\n",
       "      <th>0</th>\n",
       "      <td>0</td>\n",
       "      <td>2016-03-24 11:52:17</td>\n",
       "      <td>Golf_3_1.6</td>\n",
       "      <td>Private</td>\n",
       "      <td>Offer</td>\n",
       "      <td>480</td>\n",
       "      <td>test</td>\n",
       "      <td>NaN</td>\n",
       "      <td>1993</td>\n",
       "      <td>Manual</td>\n",
       "      <td>...</td>\n",
       "      <td>golf</td>\n",
       "      <td>150000</td>\n",
       "      <td>0</td>\n",
       "      <td>Petrol</td>\n",
       "      <td>VOLKSWAGEN</td>\n",
       "      <td>NaN</td>\n",
       "      <td>2016-03-24 00:00:00</td>\n",
       "      <td>0</td>\n",
       "      <td>70435</td>\n",
       "      <td>2016-04-07 03:16:57</td>\n",
       "    </tr>\n",
       "    <tr>\n",
       "      <th>1</th>\n",
       "      <td>1</td>\n",
       "      <td>2016-03-24 10:58:45</td>\n",
       "      <td>A5_Sportback_2.7_Tdi</td>\n",
       "      <td>Private</td>\n",
       "      <td>Offer</td>\n",
       "      <td>18300</td>\n",
       "      <td>test</td>\n",
       "      <td>Coupe</td>\n",
       "      <td>2011</td>\n",
       "      <td>Manual</td>\n",
       "      <td>...</td>\n",
       "      <td>NaN</td>\n",
       "      <td>125000</td>\n",
       "      <td>5</td>\n",
       "      <td>Diesel</td>\n",
       "      <td>AUDI</td>\n",
       "      <td>Yes</td>\n",
       "      <td>2016-03-24 00:00:00</td>\n",
       "      <td>0</td>\n",
       "      <td>66954</td>\n",
       "      <td>2016-04-07 01:46:50</td>\n",
       "    </tr>\n",
       "    <tr>\n",
       "      <th>2</th>\n",
       "      <td>2</td>\n",
       "      <td>2016-03-14 12:52:21</td>\n",
       "      <td>Jeep_Grand_Cherokee_\"Overland\"</td>\n",
       "      <td>Private</td>\n",
       "      <td>Offer</td>\n",
       "      <td>9800</td>\n",
       "      <td>test</td>\n",
       "      <td>SUV</td>\n",
       "      <td>2004</td>\n",
       "      <td>Automatic</td>\n",
       "      <td>...</td>\n",
       "      <td>grand</td>\n",
       "      <td>125000</td>\n",
       "      <td>8</td>\n",
       "      <td>Diesel</td>\n",
       "      <td>JEEP</td>\n",
       "      <td>NaN</td>\n",
       "      <td>2016-03-14 00:00:00</td>\n",
       "      <td>0</td>\n",
       "      <td>90480</td>\n",
       "      <td>2016-04-05 12:47:46</td>\n",
       "    </tr>\n",
       "    <tr>\n",
       "      <th>3</th>\n",
       "      <td>3</td>\n",
       "      <td>2016-03-17 16:54:04</td>\n",
       "      <td>GOLF_4_1_4__3TÜRER</td>\n",
       "      <td>Private</td>\n",
       "      <td>Offer</td>\n",
       "      <td>1500</td>\n",
       "      <td>test</td>\n",
       "      <td>Small</td>\n",
       "      <td>2001</td>\n",
       "      <td>Manual</td>\n",
       "      <td>...</td>\n",
       "      <td>golf</td>\n",
       "      <td>150000</td>\n",
       "      <td>6</td>\n",
       "      <td>Petrol</td>\n",
       "      <td>VOLKSWAGEN</td>\n",
       "      <td>No</td>\n",
       "      <td>2016-03-17 00:00:00</td>\n",
       "      <td>0</td>\n",
       "      <td>91074</td>\n",
       "      <td>2016-03-17 17:40:17</td>\n",
       "    </tr>\n",
       "    <tr>\n",
       "      <th>4</th>\n",
       "      <td>4</td>\n",
       "      <td>2016-03-31 17:25:20</td>\n",
       "      <td>Skoda_Fabia_1.4_TDI_PD_Classic</td>\n",
       "      <td>Private</td>\n",
       "      <td>Offer</td>\n",
       "      <td>3600</td>\n",
       "      <td>test</td>\n",
       "      <td>Small</td>\n",
       "      <td>2008</td>\n",
       "      <td>Manual</td>\n",
       "      <td>...</td>\n",
       "      <td>fabia</td>\n",
       "      <td>90000</td>\n",
       "      <td>7</td>\n",
       "      <td>Diesel</td>\n",
       "      <td>SKODA</td>\n",
       "      <td>No</td>\n",
       "      <td>2016-03-31 00:00:00</td>\n",
       "      <td>0</td>\n",
       "      <td>60437</td>\n",
       "      <td>2016-04-06 10:17:21</td>\n",
       "    </tr>\n",
       "  </tbody>\n",
       "</table>\n",
       "<p>5 rows × 21 columns</p>\n",
       "</div>"
      ],
      "text/plain": [
       "   index          dateCrawled                            name   seller  \\\n",
       "0      0  2016-03-24 11:52:17                      Golf_3_1.6  Private   \n",
       "1      1  2016-03-24 10:58:45            A5_Sportback_2.7_Tdi  Private   \n",
       "2      2  2016-03-14 12:52:21  Jeep_Grand_Cherokee_\"Overland\"  Private   \n",
       "3      3  2016-03-17 16:54:04              GOLF_4_1_4__3TÜRER  Private   \n",
       "4      4  2016-03-31 17:25:20  Skoda_Fabia_1.4_TDI_PD_Classic  Private   \n",
       "\n",
       "  offerType  price abtest vehicleType  yearOfRegistration    gearbox  ...  \\\n",
       "0     Offer    480   test         NaN                1993     Manual  ...   \n",
       "1     Offer  18300   test       Coupe                2011     Manual  ...   \n",
       "2     Offer   9800   test         SUV                2004  Automatic  ...   \n",
       "3     Offer   1500   test       Small                2001     Manual  ...   \n",
       "4     Offer   3600   test       Small                2008     Manual  ...   \n",
       "\n",
       "   model kilometer  monthOfRegistration  fuelType       brand  \\\n",
       "0   golf    150000                    0    Petrol  VOLKSWAGEN   \n",
       "1    NaN    125000                    5    Diesel        AUDI   \n",
       "2  grand    125000                    8    Diesel        JEEP   \n",
       "3   golf    150000                    6    Petrol  VOLKSWAGEN   \n",
       "4  fabia     90000                    7    Diesel       SKODA   \n",
       "\n",
       "  notRepairedDamage          dateCreated nrOfPictures  postalCode  \\\n",
       "0               NaN  2016-03-24 00:00:00            0       70435   \n",
       "1               Yes  2016-03-24 00:00:00            0       66954   \n",
       "2               NaN  2016-03-14 00:00:00            0       90480   \n",
       "3                No  2016-03-17 00:00:00            0       91074   \n",
       "4                No  2016-03-31 00:00:00            0       60437   \n",
       "\n",
       "              lastSeen  \n",
       "0  2016-04-07 03:16:57  \n",
       "1  2016-04-07 01:46:50  \n",
       "2  2016-04-05 12:47:46  \n",
       "3  2016-03-17 17:40:17  \n",
       "4  2016-04-06 10:17:21  \n",
       "\n",
       "[5 rows x 21 columns]"
      ]
     },
     "execution_count": 35,
     "metadata": {},
     "output_type": "execute_result"
    }
   ],
   "source": [
    "df.head()"
   ]
  },
  {
   "cell_type": "code",
   "execution_count": 36,
   "id": "398a699a",
   "metadata": {},
   "outputs": [],
   "source": [
    "# df.corr()"
   ]
  },
  {
   "cell_type": "code",
   "execution_count": 37,
   "id": "a8b06087",
   "metadata": {},
   "outputs": [],
   "source": [
    "# corr_heatmap = sb.heatmap(df.corr(), cmap=\"YlGnBu\",annot=True)"
   ]
  },
  {
   "cell_type": "code",
   "execution_count": 38,
   "id": "361b6b31",
   "metadata": {},
   "outputs": [
    {
     "data": {
      "text/plain": [
       "Index(['index', 'dateCrawled', 'name', 'seller', 'offerType', 'price',\n",
       "       'abtest', 'vehicleType', 'yearOfRegistration', 'gearbox', 'powerPS',\n",
       "       'model', 'kilometer', 'monthOfRegistration', 'fuelType', 'brand',\n",
       "       'notRepairedDamage', 'dateCreated', 'nrOfPictures', 'postalCode',\n",
       "       'lastSeen'],\n",
       "      dtype='object')"
      ]
     },
     "execution_count": 38,
     "metadata": {},
     "output_type": "execute_result"
    }
   ],
   "source": [
    "df.columns"
   ]
  },
  {
   "cell_type": "code",
   "execution_count": 39,
   "id": "833957fc",
   "metadata": {},
   "outputs": [
    {
     "data": {
      "text/plain": [
       "array([70435, 66954, 90480, ..., 38528, 38325, 31096], dtype=int64)"
      ]
     },
     "execution_count": 39,
     "metadata": {},
     "output_type": "execute_result"
    }
   ],
   "source": [
    "df['postalCode'].unique()"
   ]
  },
  {
   "cell_type": "code",
   "execution_count": null,
   "id": "cced8b2b",
   "metadata": {},
   "outputs": [],
   "source": []
  },
  {
   "cell_type": "code",
   "execution_count": 40,
   "id": "beeac4e5",
   "metadata": {},
   "outputs": [],
   "source": [
    "dfUpdate = df.drop(['index','dateCrawled','name','powerPS','model','kilometer','dateCreated','postalCode','lastSeen','yearOfRegistration','nrOfPictures'],axis=1)"
   ]
  },
  {
   "cell_type": "code",
   "execution_count": 41,
   "id": "a6189f5d",
   "metadata": {},
   "outputs": [
    {
     "data": {
      "text/html": [
       "<div>\n",
       "<style scoped>\n",
       "    .dataframe tbody tr th:only-of-type {\n",
       "        vertical-align: middle;\n",
       "    }\n",
       "\n",
       "    .dataframe tbody tr th {\n",
       "        vertical-align: top;\n",
       "    }\n",
       "\n",
       "    .dataframe thead th {\n",
       "        text-align: right;\n",
       "    }\n",
       "</style>\n",
       "<table border=\"1\" class=\"dataframe\">\n",
       "  <thead>\n",
       "    <tr style=\"text-align: right;\">\n",
       "      <th></th>\n",
       "      <th>seller</th>\n",
       "      <th>offerType</th>\n",
       "      <th>price</th>\n",
       "      <th>abtest</th>\n",
       "      <th>vehicleType</th>\n",
       "      <th>gearbox</th>\n",
       "      <th>monthOfRegistration</th>\n",
       "      <th>fuelType</th>\n",
       "      <th>brand</th>\n",
       "      <th>notRepairedDamage</th>\n",
       "    </tr>\n",
       "  </thead>\n",
       "  <tbody>\n",
       "    <tr>\n",
       "      <th>0</th>\n",
       "      <td>Private</td>\n",
       "      <td>Offer</td>\n",
       "      <td>480</td>\n",
       "      <td>test</td>\n",
       "      <td>NaN</td>\n",
       "      <td>Manual</td>\n",
       "      <td>0</td>\n",
       "      <td>Petrol</td>\n",
       "      <td>VOLKSWAGEN</td>\n",
       "      <td>NaN</td>\n",
       "    </tr>\n",
       "    <tr>\n",
       "      <th>1</th>\n",
       "      <td>Private</td>\n",
       "      <td>Offer</td>\n",
       "      <td>18300</td>\n",
       "      <td>test</td>\n",
       "      <td>Coupe</td>\n",
       "      <td>Manual</td>\n",
       "      <td>5</td>\n",
       "      <td>Diesel</td>\n",
       "      <td>AUDI</td>\n",
       "      <td>Yes</td>\n",
       "    </tr>\n",
       "    <tr>\n",
       "      <th>2</th>\n",
       "      <td>Private</td>\n",
       "      <td>Offer</td>\n",
       "      <td>9800</td>\n",
       "      <td>test</td>\n",
       "      <td>SUV</td>\n",
       "      <td>Automatic</td>\n",
       "      <td>8</td>\n",
       "      <td>Diesel</td>\n",
       "      <td>JEEP</td>\n",
       "      <td>NaN</td>\n",
       "    </tr>\n",
       "    <tr>\n",
       "      <th>3</th>\n",
       "      <td>Private</td>\n",
       "      <td>Offer</td>\n",
       "      <td>1500</td>\n",
       "      <td>test</td>\n",
       "      <td>Small</td>\n",
       "      <td>Manual</td>\n",
       "      <td>6</td>\n",
       "      <td>Petrol</td>\n",
       "      <td>VOLKSWAGEN</td>\n",
       "      <td>No</td>\n",
       "    </tr>\n",
       "    <tr>\n",
       "      <th>4</th>\n",
       "      <td>Private</td>\n",
       "      <td>Offer</td>\n",
       "      <td>3600</td>\n",
       "      <td>test</td>\n",
       "      <td>Small</td>\n",
       "      <td>Manual</td>\n",
       "      <td>7</td>\n",
       "      <td>Diesel</td>\n",
       "      <td>SKODA</td>\n",
       "      <td>No</td>\n",
       "    </tr>\n",
       "  </tbody>\n",
       "</table>\n",
       "</div>"
      ],
      "text/plain": [
       "    seller offerType  price abtest vehicleType    gearbox  \\\n",
       "0  Private     Offer    480   test         NaN     Manual   \n",
       "1  Private     Offer  18300   test       Coupe     Manual   \n",
       "2  Private     Offer   9800   test         SUV  Automatic   \n",
       "3  Private     Offer   1500   test       Small     Manual   \n",
       "4  Private     Offer   3600   test       Small     Manual   \n",
       "\n",
       "   monthOfRegistration fuelType       brand notRepairedDamage  \n",
       "0                    0   Petrol  VOLKSWAGEN               NaN  \n",
       "1                    5   Diesel        AUDI               Yes  \n",
       "2                    8   Diesel        JEEP               NaN  \n",
       "3                    6   Petrol  VOLKSWAGEN                No  \n",
       "4                    7   Diesel       SKODA                No  "
      ]
     },
     "execution_count": 41,
     "metadata": {},
     "output_type": "execute_result"
    }
   ],
   "source": [
    "dfUpdate.head()"
   ]
  },
  {
   "cell_type": "code",
   "execution_count": 42,
   "id": "12cf111b",
   "metadata": {},
   "outputs": [
    {
     "data": {
      "text/plain": [
       "array([nan, 'Yes', 'No'], dtype=object)"
      ]
     },
     "execution_count": 42,
     "metadata": {},
     "output_type": "execute_result"
    }
   ],
   "source": [
    "dfUpdate['notRepairedDamage'].unique()"
   ]
  },
  {
   "cell_type": "code",
   "execution_count": 43,
   "id": "67278f71",
   "metadata": {},
   "outputs": [
    {
     "data": {
      "text/plain": [
       "array(['Private', 'Commercial'], dtype=object)"
      ]
     },
     "execution_count": 43,
     "metadata": {},
     "output_type": "execute_result"
    }
   ],
   "source": [
    "dfUpdate['seller'].unique()"
   ]
  },
  {
   "cell_type": "code",
   "execution_count": 44,
   "id": "ffc742f3",
   "metadata": {},
   "outputs": [
    {
     "data": {
      "text/plain": [
       "array(['Offer', 'Wanted'], dtype=object)"
      ]
     },
     "execution_count": 44,
     "metadata": {},
     "output_type": "execute_result"
    }
   ],
   "source": [
    "dfUpdate['offerType'].unique()"
   ]
  },
  {
   "cell_type": "code",
   "execution_count": 45,
   "id": "2c5fe4dc",
   "metadata": {},
   "outputs": [
    {
     "data": {
      "text/plain": [
       "array(['Petrol', 'Diesel', nan, 'LPG', 'Other', 'Hybrid', 'CNG',\n",
       "       'Electric'], dtype=object)"
      ]
     },
     "execution_count": 45,
     "metadata": {},
     "output_type": "execute_result"
    }
   ],
   "source": [
    "dfUpdate['fuelType'].unique()"
   ]
  },
  {
   "cell_type": "code",
   "execution_count": 46,
   "id": "e898c2bd",
   "metadata": {},
   "outputs": [
    {
     "data": {
      "text/plain": [
       "array(['VOLKSWAGEN', 'AUDI', 'JEEP', 'SKODA', 'BMW', 'PEUGEOT', 'FORD',\n",
       "       'MAZDA', 'NISSAN', 'RENAULT', 'MERCEDES_BENZ', 'OPEL', 'SEAT',\n",
       "       'CITROEN', 'HONDA', 'FIAT', 'MINI', 'SMART', 'HYUNDAI',\n",
       "       'SONSTIGE_AUTOS', 'ALFA_ROMEO', 'SUBARU', 'VOLVO', 'MITSUBISHI',\n",
       "       'KIA', 'SUZUKI', 'LANCIA', 'PORSCHE', 'TOYOTA', 'CHEVROLET',\n",
       "       'DACIA', 'DAIHATSU', 'TRABANT', 'SAAB', 'CHRYSLER', 'JAGUAR',\n",
       "       'DAEWOO', 'ROVER', 'LAND_ROVER', 'LADA'], dtype=object)"
      ]
     },
     "execution_count": 46,
     "metadata": {},
     "output_type": "execute_result"
    }
   ],
   "source": [
    "dfUpdate['brand'].unique()"
   ]
  },
  {
   "cell_type": "code",
   "execution_count": 47,
   "id": "bb69cfc1",
   "metadata": {},
   "outputs": [
    {
     "data": {
      "text/plain": [
       "array([nan, 'Yes', 'No'], dtype=object)"
      ]
     },
     "execution_count": 47,
     "metadata": {},
     "output_type": "execute_result"
    }
   ],
   "source": [
    "dfUpdate['notRepairedDamage'].unique()"
   ]
  },
  {
   "cell_type": "code",
   "execution_count": 48,
   "id": "aeff0475",
   "metadata": {},
   "outputs": [],
   "source": [
    "dfUpdate[\"notRepairedDamageNum\"] = \" \""
   ]
  },
  {
   "cell_type": "code",
   "execution_count": 49,
   "id": "ffffd5de",
   "metadata": {},
   "outputs": [],
   "source": [
    "# dfUpdate[\"notRepairedDamageNum\"][df['notRepairedDamage'].str.contains(\"nan\")] = 1\n",
    "# dfUpdate[\"notRepairedDamageNum\"][df['notRepairedDamage'].str.contains(\"Yes\")] = 2\n",
    "# dfUpdate[\"notRepairedDamageNum\"][df['notRepairedDamage'].str.contains(\"No\")] = 3"
   ]
  },
  {
   "cell_type": "code",
   "execution_count": 50,
   "id": "93d9de1f",
   "metadata": {},
   "outputs": [],
   "source": [
    "dfUpdate['notRepairedDamageNum'] = 0"
   ]
  },
  {
   "cell_type": "code",
   "execution_count": 51,
   "id": "c59052f5",
   "metadata": {},
   "outputs": [
    {
     "name": "stderr",
     "output_type": "stream",
     "text": [
      "C:\\Users\\Nachiket\\AppData\\Local\\Temp/ipykernel_34208/729698384.py:5: SettingWithCopyWarning: \n",
      "A value is trying to be set on a copy of a slice from a DataFrame\n",
      "\n",
      "See the caveats in the documentation: https://pandas.pydata.org/pandas-docs/stable/user_guide/indexing.html#returning-a-view-versus-a-copy\n",
      "  dfUpdate['notRepairedDamageNum'][count] = 1\n",
      "C:\\Users\\Nachiket\\AppData\\Local\\Temp/ipykernel_34208/729698384.py:9: SettingWithCopyWarning: \n",
      "A value is trying to be set on a copy of a slice from a DataFrame\n",
      "\n",
      "See the caveats in the documentation: https://pandas.pydata.org/pandas-docs/stable/user_guide/indexing.html#returning-a-view-versus-a-copy\n",
      "  dfUpdate['notRepairedDamageNum'][count] = 2\n"
     ]
    }
   ],
   "source": [
    "count = 0\n",
    "\n",
    "while count < len(dfUpdate.index):\n",
    "    if (dfUpdate['notRepairedDamage'][count] == \"Yes\"):\n",
    "        dfUpdate['notRepairedDamageNum'][count] = 1\n",
    "        count = count + 1\n",
    "        \n",
    "    if (dfUpdate['notRepairedDamage'][count] == \"No\"):\n",
    "        dfUpdate['notRepairedDamageNum'][count] = 2\n",
    "        count = count + 1\n",
    "        \n",
    "    else:\n",
    "        count = count + 1\n",
    "    "
   ]
  },
  {
   "cell_type": "code",
   "execution_count": 52,
   "id": "216c2efb",
   "metadata": {},
   "outputs": [
    {
     "data": {
      "text/html": [
       "<div>\n",
       "<style scoped>\n",
       "    .dataframe tbody tr th:only-of-type {\n",
       "        vertical-align: middle;\n",
       "    }\n",
       "\n",
       "    .dataframe tbody tr th {\n",
       "        vertical-align: top;\n",
       "    }\n",
       "\n",
       "    .dataframe thead th {\n",
       "        text-align: right;\n",
       "    }\n",
       "</style>\n",
       "<table border=\"1\" class=\"dataframe\">\n",
       "  <thead>\n",
       "    <tr style=\"text-align: right;\">\n",
       "      <th></th>\n",
       "      <th>seller</th>\n",
       "      <th>offerType</th>\n",
       "      <th>price</th>\n",
       "      <th>abtest</th>\n",
       "      <th>vehicleType</th>\n",
       "      <th>gearbox</th>\n",
       "      <th>monthOfRegistration</th>\n",
       "      <th>fuelType</th>\n",
       "      <th>brand</th>\n",
       "      <th>notRepairedDamage</th>\n",
       "      <th>notRepairedDamageNum</th>\n",
       "    </tr>\n",
       "  </thead>\n",
       "  <tbody>\n",
       "    <tr>\n",
       "      <th>0</th>\n",
       "      <td>Private</td>\n",
       "      <td>Offer</td>\n",
       "      <td>480</td>\n",
       "      <td>test</td>\n",
       "      <td>NaN</td>\n",
       "      <td>Manual</td>\n",
       "      <td>0</td>\n",
       "      <td>Petrol</td>\n",
       "      <td>VOLKSWAGEN</td>\n",
       "      <td>NaN</td>\n",
       "      <td>0</td>\n",
       "    </tr>\n",
       "    <tr>\n",
       "      <th>1</th>\n",
       "      <td>Private</td>\n",
       "      <td>Offer</td>\n",
       "      <td>18300</td>\n",
       "      <td>test</td>\n",
       "      <td>Coupe</td>\n",
       "      <td>Manual</td>\n",
       "      <td>5</td>\n",
       "      <td>Diesel</td>\n",
       "      <td>AUDI</td>\n",
       "      <td>Yes</td>\n",
       "      <td>1</td>\n",
       "    </tr>\n",
       "    <tr>\n",
       "      <th>2</th>\n",
       "      <td>Private</td>\n",
       "      <td>Offer</td>\n",
       "      <td>9800</td>\n",
       "      <td>test</td>\n",
       "      <td>SUV</td>\n",
       "      <td>Automatic</td>\n",
       "      <td>8</td>\n",
       "      <td>Diesel</td>\n",
       "      <td>JEEP</td>\n",
       "      <td>NaN</td>\n",
       "      <td>0</td>\n",
       "    </tr>\n",
       "    <tr>\n",
       "      <th>3</th>\n",
       "      <td>Private</td>\n",
       "      <td>Offer</td>\n",
       "      <td>1500</td>\n",
       "      <td>test</td>\n",
       "      <td>Small</td>\n",
       "      <td>Manual</td>\n",
       "      <td>6</td>\n",
       "      <td>Petrol</td>\n",
       "      <td>VOLKSWAGEN</td>\n",
       "      <td>No</td>\n",
       "      <td>2</td>\n",
       "    </tr>\n",
       "    <tr>\n",
       "      <th>4</th>\n",
       "      <td>Private</td>\n",
       "      <td>Offer</td>\n",
       "      <td>3600</td>\n",
       "      <td>test</td>\n",
       "      <td>Small</td>\n",
       "      <td>Manual</td>\n",
       "      <td>7</td>\n",
       "      <td>Diesel</td>\n",
       "      <td>SKODA</td>\n",
       "      <td>No</td>\n",
       "      <td>2</td>\n",
       "    </tr>\n",
       "  </tbody>\n",
       "</table>\n",
       "</div>"
      ],
      "text/plain": [
       "    seller offerType  price abtest vehicleType    gearbox  \\\n",
       "0  Private     Offer    480   test         NaN     Manual   \n",
       "1  Private     Offer  18300   test       Coupe     Manual   \n",
       "2  Private     Offer   9800   test         SUV  Automatic   \n",
       "3  Private     Offer   1500   test       Small     Manual   \n",
       "4  Private     Offer   3600   test       Small     Manual   \n",
       "\n",
       "   monthOfRegistration fuelType       brand notRepairedDamage  \\\n",
       "0                    0   Petrol  VOLKSWAGEN               NaN   \n",
       "1                    5   Diesel        AUDI               Yes   \n",
       "2                    8   Diesel        JEEP               NaN   \n",
       "3                    6   Petrol  VOLKSWAGEN                No   \n",
       "4                    7   Diesel       SKODA                No   \n",
       "\n",
       "   notRepairedDamageNum  \n",
       "0                     0  \n",
       "1                     1  \n",
       "2                     0  \n",
       "3                     2  \n",
       "4                     2  "
      ]
     },
     "execution_count": 52,
     "metadata": {},
     "output_type": "execute_result"
    }
   ],
   "source": [
    "dfUpdate.head()"
   ]
  },
  {
   "cell_type": "code",
   "execution_count": 53,
   "id": "8581f769",
   "metadata": {},
   "outputs": [
    {
     "data": {
      "text/plain": [
       "array(['Private', 'Commercial'], dtype=object)"
      ]
     },
     "execution_count": 53,
     "metadata": {},
     "output_type": "execute_result"
    }
   ],
   "source": [
    "dfUpdate['seller'].unique()"
   ]
  },
  {
   "cell_type": "code",
   "execution_count": 54,
   "id": "0f5d308e",
   "metadata": {},
   "outputs": [],
   "source": [
    "dfUpdate['sellerNum'] = 0"
   ]
  },
  {
   "cell_type": "code",
   "execution_count": 55,
   "id": "10930fac",
   "metadata": {},
   "outputs": [
    {
     "name": "stderr",
     "output_type": "stream",
     "text": [
      "C:\\Users\\Nachiket\\AppData\\Local\\Temp/ipykernel_34208/2035627478.py:5: SettingWithCopyWarning: \n",
      "A value is trying to be set on a copy of a slice from a DataFrame\n",
      "\n",
      "See the caveats in the documentation: https://pandas.pydata.org/pandas-docs/stable/user_guide/indexing.html#returning-a-view-versus-a-copy\n",
      "  dfUpdate['sellerNum'][count] = 1\n",
      "C:\\Users\\Nachiket\\AppData\\Local\\Temp/ipykernel_34208/2035627478.py:9: SettingWithCopyWarning: \n",
      "A value is trying to be set on a copy of a slice from a DataFrame\n",
      "\n",
      "See the caveats in the documentation: https://pandas.pydata.org/pandas-docs/stable/user_guide/indexing.html#returning-a-view-versus-a-copy\n",
      "  dfUpdate['sellerNum'][count] = 2\n"
     ]
    }
   ],
   "source": [
    "count = 0\n",
    "\n",
    "while count < len(dfUpdate.index):\n",
    "    if (dfUpdate['seller'][count] == \"Private\"):\n",
    "        dfUpdate['sellerNum'][count] = 1\n",
    "        count = count + 1\n",
    "        \n",
    "    if (dfUpdate['seller'][count] == \"Commercial\"):\n",
    "        dfUpdate['sellerNum'][count] = 2\n",
    "        count = count + 1\n",
    "        \n",
    "    else:\n",
    "        count = count + 1\n",
    "    "
   ]
  },
  {
   "cell_type": "code",
   "execution_count": 56,
   "id": "a1dff1de",
   "metadata": {},
   "outputs": [
    {
     "data": {
      "text/html": [
       "<div>\n",
       "<style scoped>\n",
       "    .dataframe tbody tr th:only-of-type {\n",
       "        vertical-align: middle;\n",
       "    }\n",
       "\n",
       "    .dataframe tbody tr th {\n",
       "        vertical-align: top;\n",
       "    }\n",
       "\n",
       "    .dataframe thead th {\n",
       "        text-align: right;\n",
       "    }\n",
       "</style>\n",
       "<table border=\"1\" class=\"dataframe\">\n",
       "  <thead>\n",
       "    <tr style=\"text-align: right;\">\n",
       "      <th></th>\n",
       "      <th>seller</th>\n",
       "      <th>offerType</th>\n",
       "      <th>price</th>\n",
       "      <th>abtest</th>\n",
       "      <th>vehicleType</th>\n",
       "      <th>gearbox</th>\n",
       "      <th>monthOfRegistration</th>\n",
       "      <th>fuelType</th>\n",
       "      <th>brand</th>\n",
       "      <th>notRepairedDamage</th>\n",
       "      <th>notRepairedDamageNum</th>\n",
       "      <th>sellerNum</th>\n",
       "    </tr>\n",
       "  </thead>\n",
       "  <tbody>\n",
       "    <tr>\n",
       "      <th>0</th>\n",
       "      <td>Private</td>\n",
       "      <td>Offer</td>\n",
       "      <td>480</td>\n",
       "      <td>test</td>\n",
       "      <td>NaN</td>\n",
       "      <td>Manual</td>\n",
       "      <td>0</td>\n",
       "      <td>Petrol</td>\n",
       "      <td>VOLKSWAGEN</td>\n",
       "      <td>NaN</td>\n",
       "      <td>0</td>\n",
       "      <td>1</td>\n",
       "    </tr>\n",
       "    <tr>\n",
       "      <th>1</th>\n",
       "      <td>Private</td>\n",
       "      <td>Offer</td>\n",
       "      <td>18300</td>\n",
       "      <td>test</td>\n",
       "      <td>Coupe</td>\n",
       "      <td>Manual</td>\n",
       "      <td>5</td>\n",
       "      <td>Diesel</td>\n",
       "      <td>AUDI</td>\n",
       "      <td>Yes</td>\n",
       "      <td>1</td>\n",
       "      <td>0</td>\n",
       "    </tr>\n",
       "    <tr>\n",
       "      <th>2</th>\n",
       "      <td>Private</td>\n",
       "      <td>Offer</td>\n",
       "      <td>9800</td>\n",
       "      <td>test</td>\n",
       "      <td>SUV</td>\n",
       "      <td>Automatic</td>\n",
       "      <td>8</td>\n",
       "      <td>Diesel</td>\n",
       "      <td>JEEP</td>\n",
       "      <td>NaN</td>\n",
       "      <td>0</td>\n",
       "      <td>1</td>\n",
       "    </tr>\n",
       "    <tr>\n",
       "      <th>3</th>\n",
       "      <td>Private</td>\n",
       "      <td>Offer</td>\n",
       "      <td>1500</td>\n",
       "      <td>test</td>\n",
       "      <td>Small</td>\n",
       "      <td>Manual</td>\n",
       "      <td>6</td>\n",
       "      <td>Petrol</td>\n",
       "      <td>VOLKSWAGEN</td>\n",
       "      <td>No</td>\n",
       "      <td>2</td>\n",
       "      <td>0</td>\n",
       "    </tr>\n",
       "    <tr>\n",
       "      <th>4</th>\n",
       "      <td>Private</td>\n",
       "      <td>Offer</td>\n",
       "      <td>3600</td>\n",
       "      <td>test</td>\n",
       "      <td>Small</td>\n",
       "      <td>Manual</td>\n",
       "      <td>7</td>\n",
       "      <td>Diesel</td>\n",
       "      <td>SKODA</td>\n",
       "      <td>No</td>\n",
       "      <td>2</td>\n",
       "      <td>1</td>\n",
       "    </tr>\n",
       "  </tbody>\n",
       "</table>\n",
       "</div>"
      ],
      "text/plain": [
       "    seller offerType  price abtest vehicleType    gearbox  \\\n",
       "0  Private     Offer    480   test         NaN     Manual   \n",
       "1  Private     Offer  18300   test       Coupe     Manual   \n",
       "2  Private     Offer   9800   test         SUV  Automatic   \n",
       "3  Private     Offer   1500   test       Small     Manual   \n",
       "4  Private     Offer   3600   test       Small     Manual   \n",
       "\n",
       "   monthOfRegistration fuelType       brand notRepairedDamage  \\\n",
       "0                    0   Petrol  VOLKSWAGEN               NaN   \n",
       "1                    5   Diesel        AUDI               Yes   \n",
       "2                    8   Diesel        JEEP               NaN   \n",
       "3                    6   Petrol  VOLKSWAGEN                No   \n",
       "4                    7   Diesel       SKODA                No   \n",
       "\n",
       "   notRepairedDamageNum  sellerNum  \n",
       "0                     0          1  \n",
       "1                     1          0  \n",
       "2                     0          1  \n",
       "3                     2          0  \n",
       "4                     2          1  "
      ]
     },
     "execution_count": 56,
     "metadata": {},
     "output_type": "execute_result"
    }
   ],
   "source": [
    "dfUpdate.head()"
   ]
  },
  {
   "cell_type": "code",
   "execution_count": 57,
   "id": "9c23c508",
   "metadata": {},
   "outputs": [
    {
     "data": {
      "text/plain": [
       "array(['Offer', 'Wanted'], dtype=object)"
      ]
     },
     "execution_count": 57,
     "metadata": {},
     "output_type": "execute_result"
    }
   ],
   "source": [
    "dfUpdate['offerType'].unique()"
   ]
  },
  {
   "cell_type": "code",
   "execution_count": 58,
   "id": "48eb3cc2",
   "metadata": {},
   "outputs": [],
   "source": [
    "dfUpdate['offerTypeNum'] = 0"
   ]
  },
  {
   "cell_type": "code",
   "execution_count": 59,
   "id": "3d3fbf78",
   "metadata": {},
   "outputs": [
    {
     "name": "stderr",
     "output_type": "stream",
     "text": [
      "C:\\Users\\Nachiket\\AppData\\Local\\Temp/ipykernel_34208/3399907744.py:5: SettingWithCopyWarning: \n",
      "A value is trying to be set on a copy of a slice from a DataFrame\n",
      "\n",
      "See the caveats in the documentation: https://pandas.pydata.org/pandas-docs/stable/user_guide/indexing.html#returning-a-view-versus-a-copy\n",
      "  dfUpdate['offerTypeNum'][count] = 0\n",
      "C:\\Users\\Nachiket\\AppData\\Local\\Temp/ipykernel_34208/3399907744.py:9: SettingWithCopyWarning: \n",
      "A value is trying to be set on a copy of a slice from a DataFrame\n",
      "\n",
      "See the caveats in the documentation: https://pandas.pydata.org/pandas-docs/stable/user_guide/indexing.html#returning-a-view-versus-a-copy\n",
      "  dfUpdate['offerTypeNum'][count] = 1\n"
     ]
    }
   ],
   "source": [
    "count = 0\n",
    "\n",
    "while count < len(dfUpdate.index):\n",
    "    if (dfUpdate['offerType'][count] == \"Offer\"):\n",
    "        dfUpdate['offerTypeNum'][count] = 0\n",
    "        count = count + 1\n",
    "        \n",
    "    if (dfUpdate['offerType'][count] == \"Wanted\"):\n",
    "        dfUpdate['offerTypeNum'][count] = 1\n",
    "        count = count + 1\n",
    "        \n",
    "    else:\n",
    "        count = count + 1\n",
    "    "
   ]
  },
  {
   "cell_type": "code",
   "execution_count": 60,
   "id": "dde4f6f1",
   "metadata": {},
   "outputs": [
    {
     "data": {
      "text/html": [
       "<div>\n",
       "<style scoped>\n",
       "    .dataframe tbody tr th:only-of-type {\n",
       "        vertical-align: middle;\n",
       "    }\n",
       "\n",
       "    .dataframe tbody tr th {\n",
       "        vertical-align: top;\n",
       "    }\n",
       "\n",
       "    .dataframe thead th {\n",
       "        text-align: right;\n",
       "    }\n",
       "</style>\n",
       "<table border=\"1\" class=\"dataframe\">\n",
       "  <thead>\n",
       "    <tr style=\"text-align: right;\">\n",
       "      <th></th>\n",
       "      <th>seller</th>\n",
       "      <th>offerType</th>\n",
       "      <th>price</th>\n",
       "      <th>abtest</th>\n",
       "      <th>vehicleType</th>\n",
       "      <th>gearbox</th>\n",
       "      <th>monthOfRegistration</th>\n",
       "      <th>fuelType</th>\n",
       "      <th>brand</th>\n",
       "      <th>notRepairedDamage</th>\n",
       "      <th>notRepairedDamageNum</th>\n",
       "      <th>sellerNum</th>\n",
       "      <th>offerTypeNum</th>\n",
       "    </tr>\n",
       "  </thead>\n",
       "  <tbody>\n",
       "    <tr>\n",
       "      <th>0</th>\n",
       "      <td>Private</td>\n",
       "      <td>Offer</td>\n",
       "      <td>480</td>\n",
       "      <td>test</td>\n",
       "      <td>NaN</td>\n",
       "      <td>Manual</td>\n",
       "      <td>0</td>\n",
       "      <td>Petrol</td>\n",
       "      <td>VOLKSWAGEN</td>\n",
       "      <td>NaN</td>\n",
       "      <td>0</td>\n",
       "      <td>1</td>\n",
       "      <td>0</td>\n",
       "    </tr>\n",
       "    <tr>\n",
       "      <th>1</th>\n",
       "      <td>Private</td>\n",
       "      <td>Offer</td>\n",
       "      <td>18300</td>\n",
       "      <td>test</td>\n",
       "      <td>Coupe</td>\n",
       "      <td>Manual</td>\n",
       "      <td>5</td>\n",
       "      <td>Diesel</td>\n",
       "      <td>AUDI</td>\n",
       "      <td>Yes</td>\n",
       "      <td>1</td>\n",
       "      <td>0</td>\n",
       "      <td>0</td>\n",
       "    </tr>\n",
       "    <tr>\n",
       "      <th>2</th>\n",
       "      <td>Private</td>\n",
       "      <td>Offer</td>\n",
       "      <td>9800</td>\n",
       "      <td>test</td>\n",
       "      <td>SUV</td>\n",
       "      <td>Automatic</td>\n",
       "      <td>8</td>\n",
       "      <td>Diesel</td>\n",
       "      <td>JEEP</td>\n",
       "      <td>NaN</td>\n",
       "      <td>0</td>\n",
       "      <td>1</td>\n",
       "      <td>0</td>\n",
       "    </tr>\n",
       "    <tr>\n",
       "      <th>3</th>\n",
       "      <td>Private</td>\n",
       "      <td>Offer</td>\n",
       "      <td>1500</td>\n",
       "      <td>test</td>\n",
       "      <td>Small</td>\n",
       "      <td>Manual</td>\n",
       "      <td>6</td>\n",
       "      <td>Petrol</td>\n",
       "      <td>VOLKSWAGEN</td>\n",
       "      <td>No</td>\n",
       "      <td>2</td>\n",
       "      <td>0</td>\n",
       "      <td>0</td>\n",
       "    </tr>\n",
       "    <tr>\n",
       "      <th>4</th>\n",
       "      <td>Private</td>\n",
       "      <td>Offer</td>\n",
       "      <td>3600</td>\n",
       "      <td>test</td>\n",
       "      <td>Small</td>\n",
       "      <td>Manual</td>\n",
       "      <td>7</td>\n",
       "      <td>Diesel</td>\n",
       "      <td>SKODA</td>\n",
       "      <td>No</td>\n",
       "      <td>2</td>\n",
       "      <td>1</td>\n",
       "      <td>0</td>\n",
       "    </tr>\n",
       "  </tbody>\n",
       "</table>\n",
       "</div>"
      ],
      "text/plain": [
       "    seller offerType  price abtest vehicleType    gearbox  \\\n",
       "0  Private     Offer    480   test         NaN     Manual   \n",
       "1  Private     Offer  18300   test       Coupe     Manual   \n",
       "2  Private     Offer   9800   test         SUV  Automatic   \n",
       "3  Private     Offer   1500   test       Small     Manual   \n",
       "4  Private     Offer   3600   test       Small     Manual   \n",
       "\n",
       "   monthOfRegistration fuelType       brand notRepairedDamage  \\\n",
       "0                    0   Petrol  VOLKSWAGEN               NaN   \n",
       "1                    5   Diesel        AUDI               Yes   \n",
       "2                    8   Diesel        JEEP               NaN   \n",
       "3                    6   Petrol  VOLKSWAGEN                No   \n",
       "4                    7   Diesel       SKODA                No   \n",
       "\n",
       "   notRepairedDamageNum  sellerNum  offerTypeNum  \n",
       "0                     0          1             0  \n",
       "1                     1          0             0  \n",
       "2                     0          1             0  \n",
       "3                     2          0             0  \n",
       "4                     2          1             0  "
      ]
     },
     "execution_count": 60,
     "metadata": {},
     "output_type": "execute_result"
    }
   ],
   "source": [
    "dfUpdate.head()"
   ]
  },
  {
   "cell_type": "code",
   "execution_count": 61,
   "id": "ddc7aa1c",
   "metadata": {},
   "outputs": [
    {
     "data": {
      "text/plain": [
       "array(['Petrol', 'Diesel', nan, 'LPG', 'Other', 'Hybrid', 'CNG',\n",
       "       'Electric'], dtype=object)"
      ]
     },
     "execution_count": 61,
     "metadata": {},
     "output_type": "execute_result"
    }
   ],
   "source": [
    "dfUpdate['fuelType'].unique()"
   ]
  },
  {
   "cell_type": "code",
   "execution_count": 62,
   "id": "2a251bf9",
   "metadata": {},
   "outputs": [],
   "source": [
    "dfUpdate['fuelTypeNum'] = 0"
   ]
  },
  {
   "cell_type": "code",
   "execution_count": 63,
   "id": "41b1fe21",
   "metadata": {},
   "outputs": [
    {
     "name": "stderr",
     "output_type": "stream",
     "text": [
      "C:\\Users\\Nachiket\\AppData\\Local\\Temp/ipykernel_34208/2583241003.py:5: SettingWithCopyWarning: \n",
      "A value is trying to be set on a copy of a slice from a DataFrame\n",
      "\n",
      "See the caveats in the documentation: https://pandas.pydata.org/pandas-docs/stable/user_guide/indexing.html#returning-a-view-versus-a-copy\n",
      "  dfUpdate['fuelTypeNum'][count] = 1\n",
      "C:\\Users\\Nachiket\\AppData\\Local\\Temp/ipykernel_34208/2583241003.py:9: SettingWithCopyWarning: \n",
      "A value is trying to be set on a copy of a slice from a DataFrame\n",
      "\n",
      "See the caveats in the documentation: https://pandas.pydata.org/pandas-docs/stable/user_guide/indexing.html#returning-a-view-versus-a-copy\n",
      "  dfUpdate['fuelTypeNum'][count] = 2\n",
      "C:\\Users\\Nachiket\\AppData\\Local\\Temp/ipykernel_34208/2583241003.py:13: SettingWithCopyWarning: \n",
      "A value is trying to be set on a copy of a slice from a DataFrame\n",
      "\n",
      "See the caveats in the documentation: https://pandas.pydata.org/pandas-docs/stable/user_guide/indexing.html#returning-a-view-versus-a-copy\n",
      "  dfUpdate['fuelTypeNum'][count] = 3\n",
      "C:\\Users\\Nachiket\\AppData\\Local\\Temp/ipykernel_34208/2583241003.py:17: SettingWithCopyWarning: \n",
      "A value is trying to be set on a copy of a slice from a DataFrame\n",
      "\n",
      "See the caveats in the documentation: https://pandas.pydata.org/pandas-docs/stable/user_guide/indexing.html#returning-a-view-versus-a-copy\n",
      "  dfUpdate['fuelTypeNum'][count] = 4\n",
      "C:\\Users\\Nachiket\\AppData\\Local\\Temp/ipykernel_34208/2583241003.py:21: SettingWithCopyWarning: \n",
      "A value is trying to be set on a copy of a slice from a DataFrame\n",
      "\n",
      "See the caveats in the documentation: https://pandas.pydata.org/pandas-docs/stable/user_guide/indexing.html#returning-a-view-versus-a-copy\n",
      "  dfUpdate['fuelTypeNum'][count] = 5\n",
      "C:\\Users\\Nachiket\\AppData\\Local\\Temp/ipykernel_34208/2583241003.py:25: SettingWithCopyWarning: \n",
      "A value is trying to be set on a copy of a slice from a DataFrame\n",
      "\n",
      "See the caveats in the documentation: https://pandas.pydata.org/pandas-docs/stable/user_guide/indexing.html#returning-a-view-versus-a-copy\n",
      "  dfUpdate['fuelTypeNum'][count] = 6\n",
      "C:\\Users\\Nachiket\\AppData\\Local\\Temp/ipykernel_34208/2583241003.py:29: SettingWithCopyWarning: \n",
      "A value is trying to be set on a copy of a slice from a DataFrame\n",
      "\n",
      "See the caveats in the documentation: https://pandas.pydata.org/pandas-docs/stable/user_guide/indexing.html#returning-a-view-versus-a-copy\n",
      "  dfUpdate['fuelTypeNum'][count] = 7\n"
     ]
    }
   ],
   "source": [
    "count = 0\n",
    "\n",
    "while count < len(dfUpdate.index):\n",
    "    if (dfUpdate['fuelType'][count] == \"Petrol\"):\n",
    "        dfUpdate['fuelTypeNum'][count] = 1\n",
    "        count = count + 1\n",
    "        \n",
    "    elif (dfUpdate['fuelType'][count] == \"Diesel\"):\n",
    "        dfUpdate['fuelTypeNum'][count] = 2\n",
    "        count = count + 1\n",
    "        \n",
    "    if (dfUpdate['fuelType'][count] == \"LPG\"):\n",
    "        dfUpdate['fuelTypeNum'][count] = 3\n",
    "        count = count + 1\n",
    "        \n",
    "    if (dfUpdate['fuelType'][count] == \"Other\"):\n",
    "        dfUpdate['fuelTypeNum'][count] = 4\n",
    "        count = count + 1\n",
    "        \n",
    "    if (dfUpdate['fuelType'][count] == \"Hybrid\"):\n",
    "        dfUpdate['fuelTypeNum'][count] = 5\n",
    "        count = count + 1\n",
    "        \n",
    "    if (dfUpdate['fuelType'][count] == \"CNG\"):\n",
    "        dfUpdate['fuelTypeNum'][count] = 6\n",
    "        count = count + 1\n",
    "        \n",
    "    if (dfUpdate['fuelType'][count] == \"Electric\"):\n",
    "        dfUpdate['fuelTypeNum'][count] = 7\n",
    "        count = count + 1\n",
    "        \n",
    "    else:\n",
    "        count = count + 1\n",
    "    "
   ]
  },
  {
   "cell_type": "code",
   "execution_count": 64,
   "id": "967b1fbc",
   "metadata": {},
   "outputs": [
    {
     "data": {
      "text/html": [
       "<div>\n",
       "<style scoped>\n",
       "    .dataframe tbody tr th:only-of-type {\n",
       "        vertical-align: middle;\n",
       "    }\n",
       "\n",
       "    .dataframe tbody tr th {\n",
       "        vertical-align: top;\n",
       "    }\n",
       "\n",
       "    .dataframe thead th {\n",
       "        text-align: right;\n",
       "    }\n",
       "</style>\n",
       "<table border=\"1\" class=\"dataframe\">\n",
       "  <thead>\n",
       "    <tr style=\"text-align: right;\">\n",
       "      <th></th>\n",
       "      <th>seller</th>\n",
       "      <th>offerType</th>\n",
       "      <th>price</th>\n",
       "      <th>abtest</th>\n",
       "      <th>vehicleType</th>\n",
       "      <th>gearbox</th>\n",
       "      <th>monthOfRegistration</th>\n",
       "      <th>fuelType</th>\n",
       "      <th>brand</th>\n",
       "      <th>notRepairedDamage</th>\n",
       "      <th>notRepairedDamageNum</th>\n",
       "      <th>sellerNum</th>\n",
       "      <th>offerTypeNum</th>\n",
       "      <th>fuelTypeNum</th>\n",
       "    </tr>\n",
       "  </thead>\n",
       "  <tbody>\n",
       "    <tr>\n",
       "      <th>0</th>\n",
       "      <td>Private</td>\n",
       "      <td>Offer</td>\n",
       "      <td>480</td>\n",
       "      <td>test</td>\n",
       "      <td>NaN</td>\n",
       "      <td>Manual</td>\n",
       "      <td>0</td>\n",
       "      <td>Petrol</td>\n",
       "      <td>VOLKSWAGEN</td>\n",
       "      <td>NaN</td>\n",
       "      <td>0</td>\n",
       "      <td>1</td>\n",
       "      <td>0</td>\n",
       "      <td>1</td>\n",
       "    </tr>\n",
       "    <tr>\n",
       "      <th>1</th>\n",
       "      <td>Private</td>\n",
       "      <td>Offer</td>\n",
       "      <td>18300</td>\n",
       "      <td>test</td>\n",
       "      <td>Coupe</td>\n",
       "      <td>Manual</td>\n",
       "      <td>5</td>\n",
       "      <td>Diesel</td>\n",
       "      <td>AUDI</td>\n",
       "      <td>Yes</td>\n",
       "      <td>1</td>\n",
       "      <td>0</td>\n",
       "      <td>0</td>\n",
       "      <td>0</td>\n",
       "    </tr>\n",
       "    <tr>\n",
       "      <th>2</th>\n",
       "      <td>Private</td>\n",
       "      <td>Offer</td>\n",
       "      <td>9800</td>\n",
       "      <td>test</td>\n",
       "      <td>SUV</td>\n",
       "      <td>Automatic</td>\n",
       "      <td>8</td>\n",
       "      <td>Diesel</td>\n",
       "      <td>JEEP</td>\n",
       "      <td>NaN</td>\n",
       "      <td>0</td>\n",
       "      <td>1</td>\n",
       "      <td>0</td>\n",
       "      <td>2</td>\n",
       "    </tr>\n",
       "    <tr>\n",
       "      <th>3</th>\n",
       "      <td>Private</td>\n",
       "      <td>Offer</td>\n",
       "      <td>1500</td>\n",
       "      <td>test</td>\n",
       "      <td>Small</td>\n",
       "      <td>Manual</td>\n",
       "      <td>6</td>\n",
       "      <td>Petrol</td>\n",
       "      <td>VOLKSWAGEN</td>\n",
       "      <td>No</td>\n",
       "      <td>2</td>\n",
       "      <td>0</td>\n",
       "      <td>0</td>\n",
       "      <td>0</td>\n",
       "    </tr>\n",
       "    <tr>\n",
       "      <th>4</th>\n",
       "      <td>Private</td>\n",
       "      <td>Offer</td>\n",
       "      <td>3600</td>\n",
       "      <td>test</td>\n",
       "      <td>Small</td>\n",
       "      <td>Manual</td>\n",
       "      <td>7</td>\n",
       "      <td>Diesel</td>\n",
       "      <td>SKODA</td>\n",
       "      <td>No</td>\n",
       "      <td>2</td>\n",
       "      <td>1</td>\n",
       "      <td>0</td>\n",
       "      <td>2</td>\n",
       "    </tr>\n",
       "  </tbody>\n",
       "</table>\n",
       "</div>"
      ],
      "text/plain": [
       "    seller offerType  price abtest vehicleType    gearbox  \\\n",
       "0  Private     Offer    480   test         NaN     Manual   \n",
       "1  Private     Offer  18300   test       Coupe     Manual   \n",
       "2  Private     Offer   9800   test         SUV  Automatic   \n",
       "3  Private     Offer   1500   test       Small     Manual   \n",
       "4  Private     Offer   3600   test       Small     Manual   \n",
       "\n",
       "   monthOfRegistration fuelType       brand notRepairedDamage  \\\n",
       "0                    0   Petrol  VOLKSWAGEN               NaN   \n",
       "1                    5   Diesel        AUDI               Yes   \n",
       "2                    8   Diesel        JEEP               NaN   \n",
       "3                    6   Petrol  VOLKSWAGEN                No   \n",
       "4                    7   Diesel       SKODA                No   \n",
       "\n",
       "   notRepairedDamageNum  sellerNum  offerTypeNum  fuelTypeNum  \n",
       "0                     0          1             0            1  \n",
       "1                     1          0             0            0  \n",
       "2                     0          1             0            2  \n",
       "3                     2          0             0            0  \n",
       "4                     2          1             0            2  "
      ]
     },
     "execution_count": 64,
     "metadata": {},
     "output_type": "execute_result"
    }
   ],
   "source": [
    "dfUpdate.head()"
   ]
  },
  {
   "cell_type": "code",
   "execution_count": 65,
   "id": "557fad65",
   "metadata": {},
   "outputs": [
    {
     "data": {
      "text/plain": [
       "array(['test', 'control'], dtype=object)"
      ]
     },
     "execution_count": 65,
     "metadata": {},
     "output_type": "execute_result"
    }
   ],
   "source": [
    "dfUpdate['abtest'].unique()"
   ]
  },
  {
   "cell_type": "code",
   "execution_count": 66,
   "id": "13f8c3bf",
   "metadata": {},
   "outputs": [],
   "source": [
    "dfUpdate['abtestNum'] = 0"
   ]
  },
  {
   "cell_type": "code",
   "execution_count": 67,
   "id": "18bb6960",
   "metadata": {},
   "outputs": [
    {
     "name": "stderr",
     "output_type": "stream",
     "text": [
      "C:\\Users\\Nachiket\\AppData\\Local\\Temp/ipykernel_34208/1612054353.py:5: SettingWithCopyWarning: \n",
      "A value is trying to be set on a copy of a slice from a DataFrame\n",
      "\n",
      "See the caveats in the documentation: https://pandas.pydata.org/pandas-docs/stable/user_guide/indexing.html#returning-a-view-versus-a-copy\n",
      "  dfUpdate['abtestNum'][count] = 1\n",
      "C:\\Users\\Nachiket\\AppData\\Local\\Temp/ipykernel_34208/1612054353.py:9: SettingWithCopyWarning: \n",
      "A value is trying to be set on a copy of a slice from a DataFrame\n",
      "\n",
      "See the caveats in the documentation: https://pandas.pydata.org/pandas-docs/stable/user_guide/indexing.html#returning-a-view-versus-a-copy\n",
      "  dfUpdate['abtestNum'][count] = 2\n"
     ]
    }
   ],
   "source": [
    "count = 0\n",
    "\n",
    "while count < len(dfUpdate.index):\n",
    "    if (dfUpdate['abtest'][count] == \"test\"):\n",
    "        dfUpdate['abtestNum'][count] = 1\n",
    "        count = count + 1\n",
    "        \n",
    "    elif (dfUpdate['abtest'][count] == \"control\"):\n",
    "        dfUpdate['abtestNum'][count] = 2\n",
    "        count = count + 1\n",
    "        \n",
    "        \n",
    "    else:\n",
    "        count = count + 1\n",
    "    "
   ]
  },
  {
   "cell_type": "code",
   "execution_count": 68,
   "id": "c40e1756",
   "metadata": {},
   "outputs": [
    {
     "data": {
      "text/html": [
       "<div>\n",
       "<style scoped>\n",
       "    .dataframe tbody tr th:only-of-type {\n",
       "        vertical-align: middle;\n",
       "    }\n",
       "\n",
       "    .dataframe tbody tr th {\n",
       "        vertical-align: top;\n",
       "    }\n",
       "\n",
       "    .dataframe thead th {\n",
       "        text-align: right;\n",
       "    }\n",
       "</style>\n",
       "<table border=\"1\" class=\"dataframe\">\n",
       "  <thead>\n",
       "    <tr style=\"text-align: right;\">\n",
       "      <th></th>\n",
       "      <th>seller</th>\n",
       "      <th>offerType</th>\n",
       "      <th>price</th>\n",
       "      <th>abtest</th>\n",
       "      <th>vehicleType</th>\n",
       "      <th>gearbox</th>\n",
       "      <th>monthOfRegistration</th>\n",
       "      <th>fuelType</th>\n",
       "      <th>brand</th>\n",
       "      <th>notRepairedDamage</th>\n",
       "      <th>notRepairedDamageNum</th>\n",
       "      <th>sellerNum</th>\n",
       "      <th>offerTypeNum</th>\n",
       "      <th>fuelTypeNum</th>\n",
       "      <th>abtestNum</th>\n",
       "    </tr>\n",
       "  </thead>\n",
       "  <tbody>\n",
       "    <tr>\n",
       "      <th>0</th>\n",
       "      <td>Private</td>\n",
       "      <td>Offer</td>\n",
       "      <td>480</td>\n",
       "      <td>test</td>\n",
       "      <td>NaN</td>\n",
       "      <td>Manual</td>\n",
       "      <td>0</td>\n",
       "      <td>Petrol</td>\n",
       "      <td>VOLKSWAGEN</td>\n",
       "      <td>NaN</td>\n",
       "      <td>0</td>\n",
       "      <td>1</td>\n",
       "      <td>0</td>\n",
       "      <td>1</td>\n",
       "      <td>1</td>\n",
       "    </tr>\n",
       "    <tr>\n",
       "      <th>1</th>\n",
       "      <td>Private</td>\n",
       "      <td>Offer</td>\n",
       "      <td>18300</td>\n",
       "      <td>test</td>\n",
       "      <td>Coupe</td>\n",
       "      <td>Manual</td>\n",
       "      <td>5</td>\n",
       "      <td>Diesel</td>\n",
       "      <td>AUDI</td>\n",
       "      <td>Yes</td>\n",
       "      <td>1</td>\n",
       "      <td>0</td>\n",
       "      <td>0</td>\n",
       "      <td>0</td>\n",
       "      <td>1</td>\n",
       "    </tr>\n",
       "    <tr>\n",
       "      <th>2</th>\n",
       "      <td>Private</td>\n",
       "      <td>Offer</td>\n",
       "      <td>9800</td>\n",
       "      <td>test</td>\n",
       "      <td>SUV</td>\n",
       "      <td>Automatic</td>\n",
       "      <td>8</td>\n",
       "      <td>Diesel</td>\n",
       "      <td>JEEP</td>\n",
       "      <td>NaN</td>\n",
       "      <td>0</td>\n",
       "      <td>1</td>\n",
       "      <td>0</td>\n",
       "      <td>2</td>\n",
       "      <td>1</td>\n",
       "    </tr>\n",
       "    <tr>\n",
       "      <th>3</th>\n",
       "      <td>Private</td>\n",
       "      <td>Offer</td>\n",
       "      <td>1500</td>\n",
       "      <td>test</td>\n",
       "      <td>Small</td>\n",
       "      <td>Manual</td>\n",
       "      <td>6</td>\n",
       "      <td>Petrol</td>\n",
       "      <td>VOLKSWAGEN</td>\n",
       "      <td>No</td>\n",
       "      <td>2</td>\n",
       "      <td>0</td>\n",
       "      <td>0</td>\n",
       "      <td>0</td>\n",
       "      <td>1</td>\n",
       "    </tr>\n",
       "    <tr>\n",
       "      <th>4</th>\n",
       "      <td>Private</td>\n",
       "      <td>Offer</td>\n",
       "      <td>3600</td>\n",
       "      <td>test</td>\n",
       "      <td>Small</td>\n",
       "      <td>Manual</td>\n",
       "      <td>7</td>\n",
       "      <td>Diesel</td>\n",
       "      <td>SKODA</td>\n",
       "      <td>No</td>\n",
       "      <td>2</td>\n",
       "      <td>1</td>\n",
       "      <td>0</td>\n",
       "      <td>2</td>\n",
       "      <td>1</td>\n",
       "    </tr>\n",
       "  </tbody>\n",
       "</table>\n",
       "</div>"
      ],
      "text/plain": [
       "    seller offerType  price abtest vehicleType    gearbox  \\\n",
       "0  Private     Offer    480   test         NaN     Manual   \n",
       "1  Private     Offer  18300   test       Coupe     Manual   \n",
       "2  Private     Offer   9800   test         SUV  Automatic   \n",
       "3  Private     Offer   1500   test       Small     Manual   \n",
       "4  Private     Offer   3600   test       Small     Manual   \n",
       "\n",
       "   monthOfRegistration fuelType       brand notRepairedDamage  \\\n",
       "0                    0   Petrol  VOLKSWAGEN               NaN   \n",
       "1                    5   Diesel        AUDI               Yes   \n",
       "2                    8   Diesel        JEEP               NaN   \n",
       "3                    6   Petrol  VOLKSWAGEN                No   \n",
       "4                    7   Diesel       SKODA                No   \n",
       "\n",
       "   notRepairedDamageNum  sellerNum  offerTypeNum  fuelTypeNum  abtestNum  \n",
       "0                     0          1             0            1          1  \n",
       "1                     1          0             0            0          1  \n",
       "2                     0          1             0            2          1  \n",
       "3                     2          0             0            0          1  \n",
       "4                     2          1             0            2          1  "
      ]
     },
     "execution_count": 68,
     "metadata": {},
     "output_type": "execute_result"
    }
   ],
   "source": [
    "dfUpdate.head()"
   ]
  },
  {
   "cell_type": "code",
   "execution_count": 69,
   "id": "b0e6bd3f",
   "metadata": {},
   "outputs": [
    {
     "data": {
      "text/plain": [
       "array(['VOLKSWAGEN', 'AUDI', 'JEEP', 'SKODA', 'BMW', 'PEUGEOT', 'FORD',\n",
       "       'MAZDA', 'NISSAN', 'RENAULT', 'MERCEDES_BENZ', 'OPEL', 'SEAT',\n",
       "       'CITROEN', 'HONDA', 'FIAT', 'MINI', 'SMART', 'HYUNDAI',\n",
       "       'SONSTIGE_AUTOS', 'ALFA_ROMEO', 'SUBARU', 'VOLVO', 'MITSUBISHI',\n",
       "       'KIA', 'SUZUKI', 'LANCIA', 'PORSCHE', 'TOYOTA', 'CHEVROLET',\n",
       "       'DACIA', 'DAIHATSU', 'TRABANT', 'SAAB', 'CHRYSLER', 'JAGUAR',\n",
       "       'DAEWOO', 'ROVER', 'LAND_ROVER', 'LADA'], dtype=object)"
      ]
     },
     "execution_count": 69,
     "metadata": {},
     "output_type": "execute_result"
    }
   ],
   "source": [
    "dfUpdate['brand'].unique()"
   ]
  },
  {
   "cell_type": "code",
   "execution_count": 71,
   "id": "6a797396",
   "metadata": {},
   "outputs": [],
   "source": [
    "dfUpdate = dfUpdate.drop(['seller','offerType','abtest','fuelType','notRepairedDamage'],axis=1)"
   ]
  },
  {
   "cell_type": "code",
   "execution_count": 72,
   "id": "0e1c812e",
   "metadata": {},
   "outputs": [
    {
     "data": {
      "text/html": [
       "<div>\n",
       "<style scoped>\n",
       "    .dataframe tbody tr th:only-of-type {\n",
       "        vertical-align: middle;\n",
       "    }\n",
       "\n",
       "    .dataframe tbody tr th {\n",
       "        vertical-align: top;\n",
       "    }\n",
       "\n",
       "    .dataframe thead th {\n",
       "        text-align: right;\n",
       "    }\n",
       "</style>\n",
       "<table border=\"1\" class=\"dataframe\">\n",
       "  <thead>\n",
       "    <tr style=\"text-align: right;\">\n",
       "      <th></th>\n",
       "      <th>price</th>\n",
       "      <th>vehicleType</th>\n",
       "      <th>gearbox</th>\n",
       "      <th>monthOfRegistration</th>\n",
       "      <th>brand</th>\n",
       "      <th>notRepairedDamageNum</th>\n",
       "      <th>sellerNum</th>\n",
       "      <th>offerTypeNum</th>\n",
       "      <th>fuelTypeNum</th>\n",
       "      <th>abtestNum</th>\n",
       "    </tr>\n",
       "  </thead>\n",
       "  <tbody>\n",
       "    <tr>\n",
       "      <th>0</th>\n",
       "      <td>480</td>\n",
       "      <td>NaN</td>\n",
       "      <td>Manual</td>\n",
       "      <td>0</td>\n",
       "      <td>VOLKSWAGEN</td>\n",
       "      <td>0</td>\n",
       "      <td>1</td>\n",
       "      <td>0</td>\n",
       "      <td>1</td>\n",
       "      <td>1</td>\n",
       "    </tr>\n",
       "    <tr>\n",
       "      <th>1</th>\n",
       "      <td>18300</td>\n",
       "      <td>Coupe</td>\n",
       "      <td>Manual</td>\n",
       "      <td>5</td>\n",
       "      <td>AUDI</td>\n",
       "      <td>1</td>\n",
       "      <td>0</td>\n",
       "      <td>0</td>\n",
       "      <td>0</td>\n",
       "      <td>1</td>\n",
       "    </tr>\n",
       "    <tr>\n",
       "      <th>2</th>\n",
       "      <td>9800</td>\n",
       "      <td>SUV</td>\n",
       "      <td>Automatic</td>\n",
       "      <td>8</td>\n",
       "      <td>JEEP</td>\n",
       "      <td>0</td>\n",
       "      <td>1</td>\n",
       "      <td>0</td>\n",
       "      <td>2</td>\n",
       "      <td>1</td>\n",
       "    </tr>\n",
       "    <tr>\n",
       "      <th>3</th>\n",
       "      <td>1500</td>\n",
       "      <td>Small</td>\n",
       "      <td>Manual</td>\n",
       "      <td>6</td>\n",
       "      <td>VOLKSWAGEN</td>\n",
       "      <td>2</td>\n",
       "      <td>0</td>\n",
       "      <td>0</td>\n",
       "      <td>0</td>\n",
       "      <td>1</td>\n",
       "    </tr>\n",
       "    <tr>\n",
       "      <th>4</th>\n",
       "      <td>3600</td>\n",
       "      <td>Small</td>\n",
       "      <td>Manual</td>\n",
       "      <td>7</td>\n",
       "      <td>SKODA</td>\n",
       "      <td>2</td>\n",
       "      <td>1</td>\n",
       "      <td>0</td>\n",
       "      <td>2</td>\n",
       "      <td>1</td>\n",
       "    </tr>\n",
       "  </tbody>\n",
       "</table>\n",
       "</div>"
      ],
      "text/plain": [
       "   price vehicleType    gearbox  monthOfRegistration       brand  \\\n",
       "0    480         NaN     Manual                    0  VOLKSWAGEN   \n",
       "1  18300       Coupe     Manual                    5        AUDI   \n",
       "2   9800         SUV  Automatic                    8        JEEP   \n",
       "3   1500       Small     Manual                    6  VOLKSWAGEN   \n",
       "4   3600       Small     Manual                    7       SKODA   \n",
       "\n",
       "   notRepairedDamageNum  sellerNum  offerTypeNum  fuelTypeNum  abtestNum  \n",
       "0                     0          1             0            1          1  \n",
       "1                     1          0             0            0          1  \n",
       "2                     0          1             0            2          1  \n",
       "3                     2          0             0            0          1  \n",
       "4                     2          1             0            2          1  "
      ]
     },
     "execution_count": 72,
     "metadata": {},
     "output_type": "execute_result"
    }
   ],
   "source": [
    "dfUpdate.head()"
   ]
  },
  {
   "cell_type": "code",
   "execution_count": 73,
   "id": "b6ec5829",
   "metadata": {},
   "outputs": [
    {
     "data": {
      "text/plain": [
       "array([nan, 'Coupe', 'SUV', 'Small', 'Limousine', 'Convertible', 'Bus',\n",
       "       'Combi', 'Other'], dtype=object)"
      ]
     },
     "execution_count": 73,
     "metadata": {},
     "output_type": "execute_result"
    }
   ],
   "source": [
    "dfUpdate['vehicleType'].unique()"
   ]
  },
  {
   "cell_type": "code",
   "execution_count": 74,
   "id": "1c2ae32a",
   "metadata": {},
   "outputs": [],
   "source": [
    "dfUpdate['vehicleTypeNum'] = 0"
   ]
  },
  {
   "cell_type": "code",
   "execution_count": 75,
   "id": "914c6e6c",
   "metadata": {},
   "outputs": [
    {
     "name": "stderr",
     "output_type": "stream",
     "text": [
      "C:\\Users\\Nachiket\\AppData\\Local\\Temp/ipykernel_34208/3042863957.py:5: SettingWithCopyWarning: \n",
      "A value is trying to be set on a copy of a slice from a DataFrame\n",
      "\n",
      "See the caveats in the documentation: https://pandas.pydata.org/pandas-docs/stable/user_guide/indexing.html#returning-a-view-versus-a-copy\n",
      "  dfUpdate['vehicleTypeNum'][count] = 1\n",
      "C:\\Users\\Nachiket\\AppData\\Local\\Temp/ipykernel_34208/3042863957.py:13: SettingWithCopyWarning: \n",
      "A value is trying to be set on a copy of a slice from a DataFrame\n",
      "\n",
      "See the caveats in the documentation: https://pandas.pydata.org/pandas-docs/stable/user_guide/indexing.html#returning-a-view-versus-a-copy\n",
      "  dfUpdate['vehicleTypeNum'][count] = 3\n",
      "C:\\Users\\Nachiket\\AppData\\Local\\Temp/ipykernel_34208/3042863957.py:17: SettingWithCopyWarning: \n",
      "A value is trying to be set on a copy of a slice from a DataFrame\n",
      "\n",
      "See the caveats in the documentation: https://pandas.pydata.org/pandas-docs/stable/user_guide/indexing.html#returning-a-view-versus-a-copy\n",
      "  dfUpdate['vehicleTypeNum'][count] = 4\n",
      "C:\\Users\\Nachiket\\AppData\\Local\\Temp/ipykernel_34208/3042863957.py:21: SettingWithCopyWarning: \n",
      "A value is trying to be set on a copy of a slice from a DataFrame\n",
      "\n",
      "See the caveats in the documentation: https://pandas.pydata.org/pandas-docs/stable/user_guide/indexing.html#returning-a-view-versus-a-copy\n",
      "  dfUpdate['vehicleTypeNum'][count] = 5\n",
      "C:\\Users\\Nachiket\\AppData\\Local\\Temp/ipykernel_34208/3042863957.py:25: SettingWithCopyWarning: \n",
      "A value is trying to be set on a copy of a slice from a DataFrame\n",
      "\n",
      "See the caveats in the documentation: https://pandas.pydata.org/pandas-docs/stable/user_guide/indexing.html#returning-a-view-versus-a-copy\n",
      "  dfUpdate['vehicleTypeNum'][count] = 6\n",
      "C:\\Users\\Nachiket\\AppData\\Local\\Temp/ipykernel_34208/3042863957.py:29: SettingWithCopyWarning: \n",
      "A value is trying to be set on a copy of a slice from a DataFrame\n",
      "\n",
      "See the caveats in the documentation: https://pandas.pydata.org/pandas-docs/stable/user_guide/indexing.html#returning-a-view-versus-a-copy\n",
      "  dfUpdate['vehicleTypeNum'][count] = 7\n",
      "C:\\Users\\Nachiket\\AppData\\Local\\Temp/ipykernel_34208/3042863957.py:33: SettingWithCopyWarning: \n",
      "A value is trying to be set on a copy of a slice from a DataFrame\n",
      "\n",
      "See the caveats in the documentation: https://pandas.pydata.org/pandas-docs/stable/user_guide/indexing.html#returning-a-view-versus-a-copy\n",
      "  dfUpdate['vehicleTypeNum'][count] = 8\n",
      "C:\\Users\\Nachiket\\AppData\\Local\\Temp/ipykernel_34208/3042863957.py:9: SettingWithCopyWarning: \n",
      "A value is trying to be set on a copy of a slice from a DataFrame\n",
      "\n",
      "See the caveats in the documentation: https://pandas.pydata.org/pandas-docs/stable/user_guide/indexing.html#returning-a-view-versus-a-copy\n",
      "  dfUpdate['vehicleTypeNum'][count] = 2\n"
     ]
    }
   ],
   "source": [
    "count = 0\n",
    "\n",
    "while count < len(dfUpdate.index):\n",
    "    if (dfUpdate['vehicleType'][count] == \"Coupe\"):\n",
    "        dfUpdate['vehicleTypeNum'][count] = 1\n",
    "        count = count + 1\n",
    "        \n",
    "    elif (dfUpdate['vehicleType'][count] == \"SUV\"):\n",
    "        dfUpdate['vehicleTypeNum'][count] = 2\n",
    "        count = count + 1\n",
    "        \n",
    "    if (dfUpdate['vehicleType'][count] == \"Small\"):\n",
    "        dfUpdate['vehicleTypeNum'][count] = 3\n",
    "        count = count + 1\n",
    "        \n",
    "    if (dfUpdate['vehicleType'][count] == \"Limousine\"):\n",
    "        dfUpdate['vehicleTypeNum'][count] = 4\n",
    "        count = count + 1\n",
    "        \n",
    "    if (dfUpdate['vehicleType'][count] == \"Convertible\"):\n",
    "        dfUpdate['vehicleTypeNum'][count] = 5\n",
    "        count = count + 1\n",
    "        \n",
    "    if (dfUpdate['vehicleType'][count] == \"Bus\"):\n",
    "        dfUpdate['vehicleTypeNum'][count] = 6\n",
    "        count = count + 1\n",
    "        \n",
    "    if (dfUpdate['vehicleType'][count] == \"Combi\"):\n",
    "        dfUpdate['vehicleTypeNum'][count] = 7\n",
    "        count = count + 1\n",
    "        \n",
    "    if (dfUpdate['vehicleType'][count] == \"Other\"):\n",
    "        dfUpdate['vehicleTypeNum'][count] = 8\n",
    "        count = count + 1\n",
    "        \n",
    "    else:\n",
    "        count = count + 1\n",
    "    "
   ]
  },
  {
   "cell_type": "code",
   "execution_count": 76,
   "id": "51a018f4",
   "metadata": {},
   "outputs": [
    {
     "data": {
      "text/html": [
       "<div>\n",
       "<style scoped>\n",
       "    .dataframe tbody tr th:only-of-type {\n",
       "        vertical-align: middle;\n",
       "    }\n",
       "\n",
       "    .dataframe tbody tr th {\n",
       "        vertical-align: top;\n",
       "    }\n",
       "\n",
       "    .dataframe thead th {\n",
       "        text-align: right;\n",
       "    }\n",
       "</style>\n",
       "<table border=\"1\" class=\"dataframe\">\n",
       "  <thead>\n",
       "    <tr style=\"text-align: right;\">\n",
       "      <th></th>\n",
       "      <th>price</th>\n",
       "      <th>vehicleType</th>\n",
       "      <th>gearbox</th>\n",
       "      <th>monthOfRegistration</th>\n",
       "      <th>brand</th>\n",
       "      <th>notRepairedDamageNum</th>\n",
       "      <th>sellerNum</th>\n",
       "      <th>offerTypeNum</th>\n",
       "      <th>fuelTypeNum</th>\n",
       "      <th>abtestNum</th>\n",
       "      <th>vehicleTypeNum</th>\n",
       "    </tr>\n",
       "  </thead>\n",
       "  <tbody>\n",
       "    <tr>\n",
       "      <th>0</th>\n",
       "      <td>480</td>\n",
       "      <td>NaN</td>\n",
       "      <td>Manual</td>\n",
       "      <td>0</td>\n",
       "      <td>VOLKSWAGEN</td>\n",
       "      <td>0</td>\n",
       "      <td>1</td>\n",
       "      <td>0</td>\n",
       "      <td>1</td>\n",
       "      <td>1</td>\n",
       "      <td>0</td>\n",
       "    </tr>\n",
       "    <tr>\n",
       "      <th>1</th>\n",
       "      <td>18300</td>\n",
       "      <td>Coupe</td>\n",
       "      <td>Manual</td>\n",
       "      <td>5</td>\n",
       "      <td>AUDI</td>\n",
       "      <td>1</td>\n",
       "      <td>0</td>\n",
       "      <td>0</td>\n",
       "      <td>0</td>\n",
       "      <td>1</td>\n",
       "      <td>1</td>\n",
       "    </tr>\n",
       "    <tr>\n",
       "      <th>2</th>\n",
       "      <td>9800</td>\n",
       "      <td>SUV</td>\n",
       "      <td>Automatic</td>\n",
       "      <td>8</td>\n",
       "      <td>JEEP</td>\n",
       "      <td>0</td>\n",
       "      <td>1</td>\n",
       "      <td>0</td>\n",
       "      <td>2</td>\n",
       "      <td>1</td>\n",
       "      <td>0</td>\n",
       "    </tr>\n",
       "    <tr>\n",
       "      <th>3</th>\n",
       "      <td>1500</td>\n",
       "      <td>Small</td>\n",
       "      <td>Manual</td>\n",
       "      <td>6</td>\n",
       "      <td>VOLKSWAGEN</td>\n",
       "      <td>2</td>\n",
       "      <td>0</td>\n",
       "      <td>0</td>\n",
       "      <td>0</td>\n",
       "      <td>1</td>\n",
       "      <td>3</td>\n",
       "    </tr>\n",
       "    <tr>\n",
       "      <th>4</th>\n",
       "      <td>3600</td>\n",
       "      <td>Small</td>\n",
       "      <td>Manual</td>\n",
       "      <td>7</td>\n",
       "      <td>SKODA</td>\n",
       "      <td>2</td>\n",
       "      <td>1</td>\n",
       "      <td>0</td>\n",
       "      <td>2</td>\n",
       "      <td>1</td>\n",
       "      <td>0</td>\n",
       "    </tr>\n",
       "  </tbody>\n",
       "</table>\n",
       "</div>"
      ],
      "text/plain": [
       "   price vehicleType    gearbox  monthOfRegistration       brand  \\\n",
       "0    480         NaN     Manual                    0  VOLKSWAGEN   \n",
       "1  18300       Coupe     Manual                    5        AUDI   \n",
       "2   9800         SUV  Automatic                    8        JEEP   \n",
       "3   1500       Small     Manual                    6  VOLKSWAGEN   \n",
       "4   3600       Small     Manual                    7       SKODA   \n",
       "\n",
       "   notRepairedDamageNum  sellerNum  offerTypeNum  fuelTypeNum  abtestNum  \\\n",
       "0                     0          1             0            1          1   \n",
       "1                     1          0             0            0          1   \n",
       "2                     0          1             0            2          1   \n",
       "3                     2          0             0            0          1   \n",
       "4                     2          1             0            2          1   \n",
       "\n",
       "   vehicleTypeNum  \n",
       "0               0  \n",
       "1               1  \n",
       "2               0  \n",
       "3               3  \n",
       "4               0  "
      ]
     },
     "execution_count": 76,
     "metadata": {},
     "output_type": "execute_result"
    }
   ],
   "source": [
    "dfUpdate.head()"
   ]
  },
  {
   "cell_type": "code",
   "execution_count": 77,
   "id": "06de9733",
   "metadata": {},
   "outputs": [],
   "source": [
    "dfUpdate = dfUpdate.drop(['vehicleType','price'],axis=1)"
   ]
  },
  {
   "cell_type": "code",
   "execution_count": 78,
   "id": "4fa39b02",
   "metadata": {},
   "outputs": [
    {
     "data": {
      "text/plain": [
       "array(['Manual', 'Automatic', nan], dtype=object)"
      ]
     },
     "execution_count": 78,
     "metadata": {},
     "output_type": "execute_result"
    }
   ],
   "source": [
    "dfUpdate['gearbox'].unique()"
   ]
  },
  {
   "cell_type": "code",
   "execution_count": 79,
   "id": "97aedbc9",
   "metadata": {},
   "outputs": [],
   "source": [
    "dfUpdate['gearboxNum'] = 0"
   ]
  },
  {
   "cell_type": "code",
   "execution_count": 81,
   "id": "54634e5c",
   "metadata": {},
   "outputs": [
    {
     "name": "stderr",
     "output_type": "stream",
     "text": [
      "C:\\Users\\Nachiket\\AppData\\Local\\Temp/ipykernel_34208/3306797931.py:5: SettingWithCopyWarning: \n",
      "A value is trying to be set on a copy of a slice from a DataFrame\n",
      "\n",
      "See the caveats in the documentation: https://pandas.pydata.org/pandas-docs/stable/user_guide/indexing.html#returning-a-view-versus-a-copy\n",
      "  dfUpdate['gearboxNum'][count] = 1\n",
      "C:\\Users\\Nachiket\\AppData\\Local\\Temp/ipykernel_34208/3306797931.py:9: SettingWithCopyWarning: \n",
      "A value is trying to be set on a copy of a slice from a DataFrame\n",
      "\n",
      "See the caveats in the documentation: https://pandas.pydata.org/pandas-docs/stable/user_guide/indexing.html#returning-a-view-versus-a-copy\n",
      "  dfUpdate['gearboxNum'][count] = 2\n"
     ]
    }
   ],
   "source": [
    "count = 0\n",
    "\n",
    "while count < len(dfUpdate.index):\n",
    "    if (dfUpdate['gearbox'][count] == \"Manual\"):\n",
    "        dfUpdate['gearboxNum'][count] = 1\n",
    "        count = count + 1\n",
    "        \n",
    "    elif (dfUpdate['gearbox'][count] == \"Automatic\"):\n",
    "        dfUpdate['gearboxNum'][count] = 2\n",
    "        count = count + 1\n",
    "        \n",
    "    else:\n",
    "        count = count + 1"
   ]
  },
  {
   "cell_type": "code",
   "execution_count": 82,
   "id": "28311d75",
   "metadata": {},
   "outputs": [
    {
     "data": {
      "text/html": [
       "<div>\n",
       "<style scoped>\n",
       "    .dataframe tbody tr th:only-of-type {\n",
       "        vertical-align: middle;\n",
       "    }\n",
       "\n",
       "    .dataframe tbody tr th {\n",
       "        vertical-align: top;\n",
       "    }\n",
       "\n",
       "    .dataframe thead th {\n",
       "        text-align: right;\n",
       "    }\n",
       "</style>\n",
       "<table border=\"1\" class=\"dataframe\">\n",
       "  <thead>\n",
       "    <tr style=\"text-align: right;\">\n",
       "      <th></th>\n",
       "      <th>gearbox</th>\n",
       "      <th>monthOfRegistration</th>\n",
       "      <th>brand</th>\n",
       "      <th>notRepairedDamageNum</th>\n",
       "      <th>sellerNum</th>\n",
       "      <th>offerTypeNum</th>\n",
       "      <th>fuelTypeNum</th>\n",
       "      <th>abtestNum</th>\n",
       "      <th>vehicleTypeNum</th>\n",
       "      <th>gearboxNum</th>\n",
       "    </tr>\n",
       "  </thead>\n",
       "  <tbody>\n",
       "    <tr>\n",
       "      <th>0</th>\n",
       "      <td>Manual</td>\n",
       "      <td>0</td>\n",
       "      <td>VOLKSWAGEN</td>\n",
       "      <td>0</td>\n",
       "      <td>1</td>\n",
       "      <td>0</td>\n",
       "      <td>1</td>\n",
       "      <td>1</td>\n",
       "      <td>0</td>\n",
       "      <td>1</td>\n",
       "    </tr>\n",
       "    <tr>\n",
       "      <th>1</th>\n",
       "      <td>Manual</td>\n",
       "      <td>5</td>\n",
       "      <td>AUDI</td>\n",
       "      <td>1</td>\n",
       "      <td>0</td>\n",
       "      <td>0</td>\n",
       "      <td>0</td>\n",
       "      <td>1</td>\n",
       "      <td>1</td>\n",
       "      <td>1</td>\n",
       "    </tr>\n",
       "    <tr>\n",
       "      <th>2</th>\n",
       "      <td>Automatic</td>\n",
       "      <td>8</td>\n",
       "      <td>JEEP</td>\n",
       "      <td>0</td>\n",
       "      <td>1</td>\n",
       "      <td>0</td>\n",
       "      <td>2</td>\n",
       "      <td>1</td>\n",
       "      <td>0</td>\n",
       "      <td>2</td>\n",
       "    </tr>\n",
       "    <tr>\n",
       "      <th>3</th>\n",
       "      <td>Manual</td>\n",
       "      <td>6</td>\n",
       "      <td>VOLKSWAGEN</td>\n",
       "      <td>2</td>\n",
       "      <td>0</td>\n",
       "      <td>0</td>\n",
       "      <td>0</td>\n",
       "      <td>1</td>\n",
       "      <td>3</td>\n",
       "      <td>1</td>\n",
       "    </tr>\n",
       "    <tr>\n",
       "      <th>4</th>\n",
       "      <td>Manual</td>\n",
       "      <td>7</td>\n",
       "      <td>SKODA</td>\n",
       "      <td>2</td>\n",
       "      <td>1</td>\n",
       "      <td>0</td>\n",
       "      <td>2</td>\n",
       "      <td>1</td>\n",
       "      <td>0</td>\n",
       "      <td>1</td>\n",
       "    </tr>\n",
       "  </tbody>\n",
       "</table>\n",
       "</div>"
      ],
      "text/plain": [
       "     gearbox  monthOfRegistration       brand  notRepairedDamageNum  \\\n",
       "0     Manual                    0  VOLKSWAGEN                     0   \n",
       "1     Manual                    5        AUDI                     1   \n",
       "2  Automatic                    8        JEEP                     0   \n",
       "3     Manual                    6  VOLKSWAGEN                     2   \n",
       "4     Manual                    7       SKODA                     2   \n",
       "\n",
       "   sellerNum  offerTypeNum  fuelTypeNum  abtestNum  vehicleTypeNum  gearboxNum  \n",
       "0          1             0            1          1               0           1  \n",
       "1          0             0            0          1               1           1  \n",
       "2          1             0            2          1               0           2  \n",
       "3          0             0            0          1               3           1  \n",
       "4          1             0            2          1               0           1  "
      ]
     },
     "execution_count": 82,
     "metadata": {},
     "output_type": "execute_result"
    }
   ],
   "source": [
    "dfUpdate.head()"
   ]
  },
  {
   "cell_type": "code",
   "execution_count": 83,
   "id": "328e512a",
   "metadata": {},
   "outputs": [],
   "source": [
    "dfUpdateNum = dfUpdate.drop(['brand','gearbox'], axis = 1)"
   ]
  },
  {
   "cell_type": "code",
   "execution_count": 84,
   "id": "8fd34722",
   "metadata": {},
   "outputs": [
    {
     "data": {
      "text/html": [
       "<div>\n",
       "<style scoped>\n",
       "    .dataframe tbody tr th:only-of-type {\n",
       "        vertical-align: middle;\n",
       "    }\n",
       "\n",
       "    .dataframe tbody tr th {\n",
       "        vertical-align: top;\n",
       "    }\n",
       "\n",
       "    .dataframe thead th {\n",
       "        text-align: right;\n",
       "    }\n",
       "</style>\n",
       "<table border=\"1\" class=\"dataframe\">\n",
       "  <thead>\n",
       "    <tr style=\"text-align: right;\">\n",
       "      <th></th>\n",
       "      <th>monthOfRegistration</th>\n",
       "      <th>notRepairedDamageNum</th>\n",
       "      <th>sellerNum</th>\n",
       "      <th>offerTypeNum</th>\n",
       "      <th>fuelTypeNum</th>\n",
       "      <th>abtestNum</th>\n",
       "      <th>vehicleTypeNum</th>\n",
       "      <th>gearboxNum</th>\n",
       "    </tr>\n",
       "  </thead>\n",
       "  <tbody>\n",
       "    <tr>\n",
       "      <th>0</th>\n",
       "      <td>0</td>\n",
       "      <td>0</td>\n",
       "      <td>1</td>\n",
       "      <td>0</td>\n",
       "      <td>1</td>\n",
       "      <td>1</td>\n",
       "      <td>0</td>\n",
       "      <td>1</td>\n",
       "    </tr>\n",
       "    <tr>\n",
       "      <th>1</th>\n",
       "      <td>5</td>\n",
       "      <td>1</td>\n",
       "      <td>0</td>\n",
       "      <td>0</td>\n",
       "      <td>0</td>\n",
       "      <td>1</td>\n",
       "      <td>1</td>\n",
       "      <td>1</td>\n",
       "    </tr>\n",
       "    <tr>\n",
       "      <th>2</th>\n",
       "      <td>8</td>\n",
       "      <td>0</td>\n",
       "      <td>1</td>\n",
       "      <td>0</td>\n",
       "      <td>2</td>\n",
       "      <td>1</td>\n",
       "      <td>0</td>\n",
       "      <td>2</td>\n",
       "    </tr>\n",
       "    <tr>\n",
       "      <th>3</th>\n",
       "      <td>6</td>\n",
       "      <td>2</td>\n",
       "      <td>0</td>\n",
       "      <td>0</td>\n",
       "      <td>0</td>\n",
       "      <td>1</td>\n",
       "      <td>3</td>\n",
       "      <td>1</td>\n",
       "    </tr>\n",
       "    <tr>\n",
       "      <th>4</th>\n",
       "      <td>7</td>\n",
       "      <td>2</td>\n",
       "      <td>1</td>\n",
       "      <td>0</td>\n",
       "      <td>2</td>\n",
       "      <td>1</td>\n",
       "      <td>0</td>\n",
       "      <td>1</td>\n",
       "    </tr>\n",
       "  </tbody>\n",
       "</table>\n",
       "</div>"
      ],
      "text/plain": [
       "   monthOfRegistration  notRepairedDamageNum  sellerNum  offerTypeNum  \\\n",
       "0                    0                     0          1             0   \n",
       "1                    5                     1          0             0   \n",
       "2                    8                     0          1             0   \n",
       "3                    6                     2          0             0   \n",
       "4                    7                     2          1             0   \n",
       "\n",
       "   fuelTypeNum  abtestNum  vehicleTypeNum  gearboxNum  \n",
       "0            1          1               0           1  \n",
       "1            0          1               1           1  \n",
       "2            2          1               0           2  \n",
       "3            0          1               3           1  \n",
       "4            2          1               0           1  "
      ]
     },
     "execution_count": 84,
     "metadata": {},
     "output_type": "execute_result"
    }
   ],
   "source": [
    "dfUpdateNum.head()"
   ]
  },
  {
   "cell_type": "code",
   "execution_count": null,
   "id": "a6932200",
   "metadata": {},
   "outputs": [],
   "source": []
  },
  {
   "cell_type": "code",
   "execution_count": null,
   "id": "764d0a0c",
   "metadata": {},
   "outputs": [],
   "source": []
  },
  {
   "cell_type": "markdown",
   "id": "2a977f92",
   "metadata": {},
   "source": [
    "## Random Forest Classification To Predict Gearboxes"
   ]
  },
  {
   "cell_type": "code",
   "execution_count": 107,
   "id": "937e8f20",
   "metadata": {},
   "outputs": [],
   "source": [
    "#Split the dataset into training and testing datasets\n",
    "\n",
    "X = dfUpdateNum.drop(['gearboxNum','monthOfRegistration'],axis=1)\n",
    "y = dfUpdateNum['gearboxNum']"
   ]
  },
  {
   "cell_type": "code",
   "execution_count": 108,
   "id": "c7d8bbeb",
   "metadata": {},
   "outputs": [],
   "source": [
    "# Splitting arrays or matrices into random train and test subsets \n",
    "\n",
    "X_train, X_test, y_train, y_test = train_test_split(X, y, test_size = 0.25) "
   ]
  },
  {
   "cell_type": "code",
   "execution_count": 109,
   "id": "330a4357",
   "metadata": {},
   "outputs": [
    {
     "name": "stdout",
     "output_type": "stream",
     "text": [
      "\n",
      "ACCURACY OF THE MODEL:  0.7395297258887621\n",
      "PRECISION OF THE MODEL:  0.6033131269477227\n",
      "RECALL OF THE MODEL:  0.34220262964244724\n",
      "F1 SCORE OF THE MODEL:  0.30463478009365813\n"
     ]
    }
   ],
   "source": [
    "# creating a RF classifier \n",
    "clf = RandomForestClassifier(n_estimators = 100) \n",
    "\n",
    "# Training the model on the training dataset \n",
    "# fit function is used to train the model using the training sets as parameters \n",
    "clf.fit(X_train, y_train) \n",
    "\n",
    "# performing predictions on the test dataset \n",
    "y_pred = clf.predict(X_test) \n",
    "\n",
    "# metrics are used to find accuracy or error \n",
    "from sklearn import metrics \n",
    "print() \n",
    "\n",
    "# using metrics module for accuracy calculation \n",
    "print(\"ACCURACY OF THE MODEL: \", metrics.accuracy_score(y_test, y_pred)) \n",
    "print(\"PRECISION OF THE MODEL: \", metrics.precision_score(y_test, y_pred,average='macro')) \n",
    "print(\"RECALL OF THE MODEL: \", metrics.recall_score(y_test, y_pred,average='macro')) \n",
    "print(\"F1 SCORE OF THE MODEL: \", metrics.f1_score(y_test, y_pred,average='macro')) \n",
    "\n",
    "#print(\"ROC_AUC OF THE MODEL: \", metrics.roc_auc_score(y_test, y_pred,multi_class='ovr')) \n",
    "\n"
   ]
  },
  {
   "cell_type": "code",
   "execution_count": null,
   "id": "ca117aab",
   "metadata": {},
   "outputs": [],
   "source": [
    "\n"
   ]
  },
  {
   "cell_type": "markdown",
   "id": "65ce3fd4",
   "metadata": {},
   "source": [
    "## Gradient Boosting Classification To Predict Gearboxes"
   ]
  },
  {
   "cell_type": "code",
   "execution_count": 110,
   "id": "3f30a45c",
   "metadata": {},
   "outputs": [],
   "source": [
    "#Split the dataset into training and testing datasets\n",
    "\n",
    "X = dfUpdateNum.drop(['gearboxNum','monthOfRegistration'],axis=1)\n",
    "y = dfUpdateNum['gearboxNum']"
   ]
  },
  {
   "cell_type": "code",
   "execution_count": 111,
   "id": "7b4f38c7",
   "metadata": {},
   "outputs": [],
   "source": [
    "# Splitting arrays or matrices into random train and test subsets \n",
    "\n",
    "X_train, X_test, y_train, y_test = train_test_split(X, y, test_size = 0.25) "
   ]
  },
  {
   "cell_type": "code",
   "execution_count": 112,
   "id": "f400013e",
   "metadata": {},
   "outputs": [
    {
     "name": "stdout",
     "output_type": "stream",
     "text": [
      "\n",
      "ACCURACY OF THE MODEL:  0.7406278934562133\n",
      "PRECISION OF THE MODEL:  0.5721966940918572\n",
      "RECALL OF THE MODEL:  0.3410313425445714\n",
      "F1 SCORE OF THE MODEL:  0.30152717654312805\n"
     ]
    }
   ],
   "source": [
    "# creating a RF classifier \n",
    "clf = GradientBoostingClassifier(n_estimators = 100) \n",
    "\n",
    "# Training the model on the training dataset \n",
    "# fit function is used to train the model using the training sets as parameters \n",
    "clf.fit(X_train, y_train) \n",
    "\n",
    "# performing predictions on the test dataset \n",
    "y_pred = clf.predict(X_test) \n",
    "\n",
    "# metrics are used to find accuracy or error \n",
    "from sklearn import metrics \n",
    "print() \n",
    "\n",
    "# using metrics module for accuracy calculation \n",
    "print(\"ACCURACY OF THE MODEL: \", metrics.accuracy_score(y_test, y_pred)) \n",
    "print(\"PRECISION OF THE MODEL: \", metrics.precision_score(y_test, y_pred,average='macro')) \n",
    "print(\"RECALL OF THE MODEL: \", metrics.recall_score(y_test, y_pred,average='macro')) \n",
    "print(\"F1 SCORE OF THE MODEL: \", metrics.f1_score(y_test, y_pred,average='macro')) \n",
    "\n",
    "#print(\"ROC_AUC OF THE MODEL: \", metrics.roc_auc_score(y_test, y_pred,multi_class='ovr')) \n",
    "\n"
   ]
  },
  {
   "cell_type": "code",
   "execution_count": 115,
   "id": "18d3b5cc",
   "metadata": {},
   "outputs": [],
   "source": [
    "updateHM = dfUpdateNum.corr()"
   ]
  },
  {
   "cell_type": "code",
   "execution_count": 116,
   "id": "5ef5f1bd",
   "metadata": {},
   "outputs": [
    {
     "data": {
      "image/png": "[encoded data removed]",
      "text/plain": [
       "<Figure size 432x288 with 2 Axes>"
      ]
     },
     "metadata": {
      "needs_background": "light"
     },
     "output_type": "display_data"
    }
   ],
   "source": [
    "heatmap = sb.heatmap(updateHM, cmap=\"YlGnBu\", annot=True)\n",
    "plt.show()"
   ]
  },
  {
   "cell_type": "code",
   "execution_count": null,
   "id": "e89b3b98",
   "metadata": {},
   "outputs": [],
   "source": []
  },
  {
   "cell_type": "code",
   "execution_count": null,
   "id": "71d01350",
   "metadata": {},
   "outputs": [],
   "source": []
  },
  {
   "cell_type": "code",
   "execution_count": null,
   "id": "e6284d75",
   "metadata": {},
   "outputs": [],
   "source": []
  },
  {
   "cell_type": "code",
   "execution_count": null,
   "id": "a8f32ab2",
   "metadata": {},
   "outputs": [],
   "source": []
  }
 ],
 "metadata": {
  "kernelspec": {
   "display_name": "Python 3 (ipykernel)",
   "language": "python",
   "name": "python3"
  },
  "language_info": {
   "codemirror_mode": {
    "name": "ipython",
    "version": 3
   },
   "file_extension": ".py",
   "mimetype": "text/x-python",
   "name": "python",
   "nbconvert_exporter": "python",
   "pygments_lexer": "ipython3",
   "version": "3.9.7"
  }
 },
 "nbformat": 4,
 "nbformat_minor": 5
}
