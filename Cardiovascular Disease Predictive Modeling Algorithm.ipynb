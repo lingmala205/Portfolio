{
 "cells": [
  {
   "cell_type": "code",
   "execution_count": 4,
   "metadata": {},
   "outputs": [],
   "source": [
    "import pandas as pd\n",
    "import numpy as np\n",
    "from sklearn.preprocessing import LabelEncoder\n",
    "import random\n",
    "from sklearn.ensemble import RandomForestClassifier\n",
    "from sklearn.ensemble import GradientBoostingClassifier\n",
    "from xgboost import plot_tree\n",
    "import seaborn as sns\n",
    "import matplotlib.pyplot as plt\n",
    "%matplotlib inline"
   ]
  },
  {
   "cell_type": "code",
   "execution_count": 5,
   "metadata": {},
   "outputs": [
    {
     "data": {
      "text/html": [
       "<div>\n",
       "<style scoped>\n",
       "    .dataframe tbody tr th:only-of-type {\n",
       "        vertical-align: middle;\n",
       "    }\n",
       "\n",
       "    .dataframe tbody tr th {\n",
       "        vertical-align: top;\n",
       "    }\n",
       "\n",
       "    .dataframe thead th {\n",
       "        text-align: right;\n",
       "    }\n",
       "</style>\n",
       "<table border=\"1\" class=\"dataframe\">\n",
       "  <thead>\n",
       "    <tr style=\"text-align: right;\">\n",
       "      <th></th>\n",
       "      <th>id</th>\n",
       "      <th>age</th>\n",
       "      <th>gender</th>\n",
       "      <th>height</th>\n",
       "      <th>weight</th>\n",
       "      <th>ap_hi</th>\n",
       "      <th>ap_lo</th>\n",
       "      <th>cholesterol</th>\n",
       "      <th>gluc</th>\n",
       "      <th>smoke</th>\n",
       "      <th>alco</th>\n",
       "      <th>active</th>\n",
       "      <th>cardio</th>\n",
       "    </tr>\n",
       "  </thead>\n",
       "  <tbody>\n",
       "    <tr>\n",
       "      <th>0</th>\n",
       "      <td>988</td>\n",
       "      <td>22469</td>\n",
       "      <td>1</td>\n",
       "      <td>155</td>\n",
       "      <td>69.0</td>\n",
       "      <td>130</td>\n",
       "      <td>80</td>\n",
       "      <td>2</td>\n",
       "      <td>2</td>\n",
       "      <td>0</td>\n",
       "      <td>0</td>\n",
       "      <td>1</td>\n",
       "      <td>0</td>\n",
       "    </tr>\n",
       "    <tr>\n",
       "      <th>1</th>\n",
       "      <td>989</td>\n",
       "      <td>14648</td>\n",
       "      <td>1</td>\n",
       "      <td>163</td>\n",
       "      <td>71.0</td>\n",
       "      <td>110</td>\n",
       "      <td>70</td>\n",
       "      <td>1</td>\n",
       "      <td>1</td>\n",
       "      <td>0</td>\n",
       "      <td>0</td>\n",
       "      <td>1</td>\n",
       "      <td>1</td>\n",
       "    </tr>\n",
       "    <tr>\n",
       "      <th>2</th>\n",
       "      <td>990</td>\n",
       "      <td>21901</td>\n",
       "      <td>1</td>\n",
       "      <td>165</td>\n",
       "      <td>70.0</td>\n",
       "      <td>120</td>\n",
       "      <td>80</td>\n",
       "      <td>1</td>\n",
       "      <td>1</td>\n",
       "      <td>0</td>\n",
       "      <td>0</td>\n",
       "      <td>1</td>\n",
       "      <td>0</td>\n",
       "    </tr>\n",
       "    <tr>\n",
       "      <th>3</th>\n",
       "      <td>991</td>\n",
       "      <td>14549</td>\n",
       "      <td>2</td>\n",
       "      <td>165</td>\n",
       "      <td>85.0</td>\n",
       "      <td>120</td>\n",
       "      <td>80</td>\n",
       "      <td>1</td>\n",
       "      <td>1</td>\n",
       "      <td>1</td>\n",
       "      <td>1</td>\n",
       "      <td>1</td>\n",
       "      <td>0</td>\n",
       "    </tr>\n",
       "    <tr>\n",
       "      <th>4</th>\n",
       "      <td>992</td>\n",
       "      <td>23393</td>\n",
       "      <td>1</td>\n",
       "      <td>155</td>\n",
       "      <td>62.0</td>\n",
       "      <td>120</td>\n",
       "      <td>80</td>\n",
       "      <td>1</td>\n",
       "      <td>1</td>\n",
       "      <td>0</td>\n",
       "      <td>0</td>\n",
       "      <td>1</td>\n",
       "      <td>0</td>\n",
       "    </tr>\n",
       "  </tbody>\n",
       "</table>\n",
       "</div>"
      ],
      "text/plain": [
       "    id    age  gender  height  weight  ap_hi  ap_lo  cholesterol  gluc  smoke  \\\n",
       "0  988  22469       1     155    69.0    130     80            2     2      0   \n",
       "1  989  14648       1     163    71.0    110     70            1     1      0   \n",
       "2  990  21901       1     165    70.0    120     80            1     1      0   \n",
       "3  991  14549       2     165    85.0    120     80            1     1      1   \n",
       "4  992  23393       1     155    62.0    120     80            1     1      0   \n",
       "\n",
       "   alco  active  cardio  \n",
       "0     0       1       0  \n",
       "1     0       1       1  \n",
       "2     0       1       0  \n",
       "3     1       1       0  \n",
       "4     0       1       0  "
      ]
     },
     "execution_count": 5,
     "metadata": {},
     "output_type": "execute_result"
    }
   ],
   "source": [
    "df=pd.read_csv('cardio_train.csv')\n",
    "#test=pd.read_csv('cardio_test.csv')\n",
    "#train['cardio']='Train' #Create a flag for Train and Test Data set\n",
    "#test['cardio']='Test'\n",
    "\n",
    "#fullData = pd.concat([train,test],axis=0) #Combined both Train and Test Data set\n",
    "\n",
    "#1.\tAge | Objective Feature | age | int (days)\n",
    "#2.\tHeight | Objective Feature | height | int (cm) |\n",
    "#3.\tWeight | Objective Feature | weight | float (kg) |\n",
    "#4.\tGender | Objective Feature | gender | categorical code |\n",
    "#5.\tSystolic blood pressure | Examination Feature | ap_hi | int |\n",
    "#6.\tDiastolic blood pressure | Examination Feature | ap_lo | int |\n",
    "#7.\tCholesterol | Examination Feature | cholesterol | 1: normal, 2: above normal, 3: well above normal |\n",
    "#8.\tGlucose | Examination Feature | gluc | 1: normal, 2: above normal, 3: well above normal |\n",
    "#9.\tSmoking | Subjective Feature | smoke | binary |\n",
    "#10.\tAlcohol intake | Subjective Feature | alco | binary |\n",
    "#11.\tPhysical activity | Subjective Feature | active | binary |\n",
    "#12.\tPresence or absence of cardiovascular disease | Target Variable | cardio | binary |\n",
    "\n",
    "\n",
    "\n",
    "\n",
    "\n",
    "\n",
    "\n",
    "\n",
    "\n",
    "\n",
    "df.head()"
   ]
  },
  {
   "cell_type": "code",
   "execution_count": 6,
   "metadata": {},
   "outputs": [],
   "source": [
    "#test.head()"
   ]
  },
  {
   "cell_type": "code",
   "execution_count": 7,
   "metadata": {},
   "outputs": [
    {
     "name": "stdout",
     "output_type": "stream",
     "text": [
      "Training data\n",
      "                 id           age        gender        height        weight  \\\n",
      "count  69301.000000  69301.000000  69301.000000  69301.000000  69301.000000   \n",
      "mean   50471.480397  19468.786280      1.349519    164.362217     74.203027   \n",
      "std    28563.100347   2467.261818      0.476821      8.205337     14.383469   \n",
      "min      988.000000  10798.000000      1.000000     55.000000     10.000000   \n",
      "25%    25745.000000  17664.000000      1.000000    159.000000     65.000000   \n",
      "50%    50494.000000  19704.000000      1.000000    165.000000     72.000000   \n",
      "75%    75150.000000  21326.000000      2.000000    170.000000     82.000000   \n",
      "max    99999.000000  23713.000000      2.000000    250.000000    200.000000   \n",
      "\n",
      "              ap_hi         ap_lo   cholesterol          gluc         smoke  \\\n",
      "count  69301.000000  69301.000000  69301.000000  69301.000000  69301.000000   \n",
      "mean     128.829584     96.650092      1.366806      1.226447      0.088051   \n",
      "std      154.775805    189.096240      0.680270      0.572246      0.283371   \n",
      "min     -150.000000    -70.000000      1.000000      1.000000      0.000000   \n",
      "25%      120.000000     80.000000      1.000000      1.000000      0.000000   \n",
      "50%      120.000000     80.000000      1.000000      1.000000      0.000000   \n",
      "75%      140.000000     90.000000      2.000000      1.000000      0.000000   \n",
      "max    16020.000000  11000.000000      3.000000      3.000000      1.000000   \n",
      "\n",
      "               alco        active        cardio  \n",
      "count  69301.000000  69301.000000  69301.000000  \n",
      "mean       0.053881      0.803986      0.499589  \n",
      "std        0.225784      0.396982      0.500003  \n",
      "min        0.000000      0.000000      0.000000  \n",
      "25%        0.000000      1.000000      0.000000  \n",
      "50%        0.000000      1.000000      0.000000  \n",
      "75%        0.000000      1.000000      1.000000  \n",
      "max        1.000000      1.000000      1.000000  \n"
     ]
    }
   ],
   "source": [
    "print(\"Training data\")\n",
    "print(df.describe())\n",
    "#print(\" \")\n",
    "#print(\" \")\n",
    "#print(\" \")\n",
    "#print(\" \")\n",
    "\n",
    "#print(\"Testing data\")\n",
    "#print(test.describe())"
   ]
  },
  {
   "cell_type": "code",
   "execution_count": 8,
   "metadata": {},
   "outputs": [
    {
     "name": "stdout",
     "output_type": "stream",
     "text": [
      "Training data\n",
      "          id    age  gender  height  weight  ap_hi  ap_lo  cholesterol   gluc  \\\n",
      "0      False  False   False   False   False  False  False        False  False   \n",
      "1      False  False   False   False   False  False  False        False  False   \n",
      "2      False  False   False   False   False  False  False        False  False   \n",
      "3      False  False   False   False   False  False  False        False  False   \n",
      "4      False  False   False   False   False  False  False        False  False   \n",
      "5      False  False   False   False   False  False  False        False  False   \n",
      "6      False  False   False   False   False  False  False        False  False   \n",
      "7      False  False   False   False   False  False  False        False  False   \n",
      "8      False  False   False   False   False  False  False        False  False   \n",
      "9      False  False   False   False   False  False  False        False  False   \n",
      "10     False  False   False   False   False  False  False        False  False   \n",
      "11     False  False   False   False   False  False  False        False  False   \n",
      "12     False  False   False   False   False  False  False        False  False   \n",
      "13     False  False   False   False   False  False  False        False  False   \n",
      "14     False  False   False   False   False  False  False        False  False   \n",
      "15     False  False   False   False   False  False  False        False  False   \n",
      "16     False  False   False   False   False  False  False        False  False   \n",
      "17     False  False   False   False   False  False  False        False  False   \n",
      "18     False  False   False   False   False  False  False        False  False   \n",
      "19     False  False   False   False   False  False  False        False  False   \n",
      "20     False  False   False   False   False  False  False        False  False   \n",
      "21     False  False   False   False   False  False  False        False  False   \n",
      "22     False  False   False   False   False  False  False        False  False   \n",
      "23     False  False   False   False   False  False  False        False  False   \n",
      "24     False  False   False   False   False  False  False        False  False   \n",
      "25     False  False   False   False   False  False  False        False  False   \n",
      "26     False  False   False   False   False  False  False        False  False   \n",
      "27     False  False   False   False   False  False  False        False  False   \n",
      "28     False  False   False   False   False  False  False        False  False   \n",
      "29     False  False   False   False   False  False  False        False  False   \n",
      "...      ...    ...     ...     ...     ...    ...    ...          ...    ...   \n",
      "69271  False  False   False   False   False  False  False        False  False   \n",
      "69272  False  False   False   False   False  False  False        False  False   \n",
      "69273  False  False   False   False   False  False  False        False  False   \n",
      "69274  False  False   False   False   False  False  False        False  False   \n",
      "69275  False  False   False   False   False  False  False        False  False   \n",
      "69276  False  False   False   False   False  False  False        False  False   \n",
      "69277  False  False   False   False   False  False  False        False  False   \n",
      "69278  False  False   False   False   False  False  False        False  False   \n",
      "69279  False  False   False   False   False  False  False        False  False   \n",
      "69280  False  False   False   False   False  False  False        False  False   \n",
      "69281  False  False   False   False   False  False  False        False  False   \n",
      "69282  False  False   False   False   False  False  False        False  False   \n",
      "69283  False  False   False   False   False  False  False        False  False   \n",
      "69284  False  False   False   False   False  False  False        False  False   \n",
      "69285  False  False   False   False   False  False  False        False  False   \n",
      "69286  False  False   False   False   False  False  False        False  False   \n",
      "69287  False  False   False   False   False  False  False        False  False   \n",
      "69288  False  False   False   False   False  False  False        False  False   \n",
      "69289  False  False   False   False   False  False  False        False  False   \n",
      "69290  False  False   False   False   False  False  False        False  False   \n",
      "69291  False  False   False   False   False  False  False        False  False   \n",
      "69292  False  False   False   False   False  False  False        False  False   \n",
      "69293  False  False   False   False   False  False  False        False  False   \n",
      "69294  False  False   False   False   False  False  False        False  False   \n",
      "69295  False  False   False   False   False  False  False        False  False   \n",
      "69296  False  False   False   False   False  False  False        False  False   \n",
      "69297  False  False   False   False   False  False  False        False  False   \n",
      "69298  False  False   False   False   False  False  False        False  False   \n",
      "69299  False  False   False   False   False  False  False        False  False   \n",
      "69300  False  False   False   False   False  False  False        False  False   \n",
      "\n",
      "       smoke   alco  active  cardio  \n",
      "0      False  False   False   False  \n",
      "1      False  False   False   False  \n",
      "2      False  False   False   False  \n",
      "3      False  False   False   False  \n",
      "4      False  False   False   False  \n",
      "5      False  False   False   False  \n",
      "6      False  False   False   False  \n",
      "7      False  False   False   False  \n",
      "8      False  False   False   False  \n",
      "9      False  False   False   False  \n",
      "10     False  False   False   False  \n",
      "11     False  False   False   False  \n",
      "12     False  False   False   False  \n",
      "13     False  False   False   False  \n",
      "14     False  False   False   False  \n",
      "15     False  False   False   False  \n",
      "16     False  False   False   False  \n",
      "17     False  False   False   False  \n",
      "18     False  False   False   False  \n",
      "19     False  False   False   False  \n",
      "20     False  False   False   False  \n",
      "21     False  False   False   False  \n",
      "22     False  False   False   False  \n",
      "23     False  False   False   False  \n",
      "24     False  False   False   False  \n",
      "25     False  False   False   False  \n",
      "26     False  False   False   False  \n",
      "27     False  False   False   False  \n",
      "28     False  False   False   False  \n",
      "29     False  False   False   False  \n",
      "...      ...    ...     ...     ...  \n",
      "69271  False  False   False   False  \n",
      "69272  False  False   False   False  \n",
      "69273  False  False   False   False  \n",
      "69274  False  False   False   False  \n",
      "69275  False  False   False   False  \n",
      "69276  False  False   False   False  \n",
      "69277  False  False   False   False  \n",
      "69278  False  False   False   False  \n",
      "69279  False  False   False   False  \n",
      "69280  False  False   False   False  \n",
      "69281  False  False   False   False  \n",
      "69282  False  False   False   False  \n",
      "69283  False  False   False   False  \n",
      "69284  False  False   False   False  \n",
      "69285  False  False   False   False  \n",
      "69286  False  False   False   False  \n",
      "69287  False  False   False   False  \n",
      "69288  False  False   False   False  \n",
      "69289  False  False   False   False  \n",
      "69290  False  False   False   False  \n",
      "69291  False  False   False   False  \n",
      "69292  False  False   False   False  \n",
      "69293  False  False   False   False  \n",
      "69294  False  False   False   False  \n",
      "69295  False  False   False   False  \n",
      "69296  False  False   False   False  \n",
      "69297  False  False   False   False  \n",
      "69298  False  False   False   False  \n",
      "69299  False  False   False   False  \n",
      "69300  False  False   False   False  \n",
      "\n",
      "[69301 rows x 13 columns]\n"
     ]
    }
   ],
   "source": [
    "print(\"Training data\")\n",
    "print(df.isnull())\n",
    "#print(\" \")\n",
    "#print(\" \")\n",
    "#print(\" \")\n",
    "#print(\" \")\n",
    "\n",
    "#print(\"Testing data\")\n",
    "#print(test.isnull())"
   ]
  },
  {
   "cell_type": "code",
   "execution_count": 9,
   "metadata": {
    "scrolled": true
   },
   "outputs": [
    {
     "data": {
      "image/png": "[encoded data removed]",
      "text/plain": [
       "<Figure size 432x288 with 2 Axes>"
      ]
     },
     "metadata": {
      "needs_background": "light"
     },
     "output_type": "display_data"
    }
   ],
   "source": [
    "corr = df.corr()\n",
    "chart = sns.heatmap(\n",
    "    corr, \n",
    "    vmin=-1, vmax=1, center=0,\n",
    "    cmap=sns.diverging_palette(20, 220, n=200),\n",
    "    square=True\n",
    ")\n",
    "chart.set_xticklabels(\n",
    "    chart.get_xticklabels(),\n",
    "    rotation=45,\n",
    "    horizontalalignment='right'\n",
    ");"
   ]
  },
  {
   "cell_type": "code",
   "execution_count": 10,
   "metadata": {},
   "outputs": [],
   "source": [
    "df.columns = ['id','age','gender','height','weight',\n",
    "              'ap_hi','ap_lo','cholesterol','gluc',\n",
    "              'smoke','alco','active','cardio']"
   ]
  },
  {
   "cell_type": "code",
   "execution_count": 11,
   "metadata": {},
   "outputs": [
    {
     "name": "stdout",
     "output_type": "stream",
     "text": [
      "[[9029 3010]\n",
      " [3845 8372]]\n",
      "Accuracy: 0.7173895118733509\n",
      "Precision: 0.7355473554735548\n",
      "Recall: 0.6852746173364983\n"
     ]
    }
   ],
   "source": [
    "from sklearn.model_selection import train_test_split\n",
    "from sklearn import metrics\n",
    "\n",
    "\n",
    "######RANDOM FOREST CLASSIFIER###########\n",
    "\n",
    "\n",
    "\n",
    "#After seeing which variables, when removed, imporved accuracy, they were collectively removed in an ultimate test.\n",
    "x = df.drop(['cardio'],axis = 1)\n",
    "y = df.cardio\n",
    "x_train, x_test, y_train, y_test = train_test_split(x, y, test_size=0.35, random_state=12340)\n",
    "model = RandomForestClassifier(n_estimators=20)\n",
    "model.fit(x_train, y_train)\n",
    "model.score(x_test, y_test)\n",
    "y_pred = model.predict(x_test)\n",
    "cnf_matrix = metrics.confusion_matrix(y_test, y_pred)\n",
    "print(cnf_matrix)\n",
    "\n",
    "print(\"Accuracy:\",metrics.accuracy_score(y_test, y_pred))\n",
    "print(\"Precision:\",metrics.precision_score(y_test, y_pred))\n",
    "print(\"Recall:\",metrics.recall_score(y_test, y_pred))"
   ]
  },
  {
   "cell_type": "code",
   "execution_count": 12,
   "metadata": {},
   "outputs": [
    {
     "data": {
      "text/plain": [
       "Text(0.5, 257.44, 'Predicted Label')"
      ]
     },
     "execution_count": 12,
     "metadata": {},
     "output_type": "execute_result"
    },
    {
     "data": {
      "image/png": "[encoded data removed]",
      "text/plain": [
       "<Figure size 432x288 with 2 Axes>"
      ]
     },
     "metadata": {
      "needs_background": "light"
     },
     "output_type": "display_data"
    }
   ],
   "source": [
    "class_names=[0,1] # name  of classes\n",
    "fig, ax = plt.subplots()\n",
    "tick_marks = np.arange(len(class_names))\n",
    "plt.xticks(tick_marks, class_names)\n",
    "plt.yticks(tick_marks, class_names)\n",
    "# create heatmap\n",
    "sns.heatmap(pd.DataFrame(cnf_matrix), annot=True, cmap=\"YlGnBu\" ,fmt='g')\n",
    "ax.xaxis.set_label_position(\"top\")\n",
    "plt.tight_layout()\n",
    "plt.title('Confusion Matrix', y=1.1)\n",
    "plt.ylabel('Actual Label')\n",
    "plt.xlabel('Predicted Label')"
   ]
  },
  {
   "cell_type": "code",
   "execution_count": 13,
   "metadata": {},
   "outputs": [
    {
     "data": {
      "image/png": "[encoded data removed]",
      "text/plain": [
       "<Figure size 432x288 with 1 Axes>"
      ]
     },
     "metadata": {
      "needs_background": "light"
     },
     "output_type": "display_data"
    }
   ],
   "source": [
    "y_pred_proba = model.predict_proba(x_test)[::,1]\n",
    "fpr, tpr, _ = metrics.roc_curve(y_test,  y_pred_proba)\n",
    "auc = metrics.roc_auc_score(y_test, y_pred_proba)\n",
    "plt.plot(fpr,tpr,label=\"data 1, auc=\"+str(auc))\n",
    "plt.legend(loc=4)\n",
    "plt.show()"
   ]
  },
  {
   "cell_type": "code",
   "execution_count": 14,
   "metadata": {},
   "outputs": [
    {
     "name": "stdout",
     "output_type": "stream",
     "text": [
      "[[9286 2753]\n",
      " [3660 8557]]\n",
      "Accuracy: 0.7356118073878628\n",
      "Precision: 0.7565870910698497\n",
      "Recall: 0.7004174510927397\n"
     ]
    }
   ],
   "source": [
    "from sklearn import ensemble\n",
    "\n",
    "\n",
    "######GRADIENT BOOSTING CLASSIFIER###########\n",
    "\n",
    "gb_clf = ensemble.GradientBoostingClassifier()\n",
    "#After seeing which variables, when removed, imporved accuracy, they were collectively removed in an ultimate test.\n",
    "x = df.drop(['cardio'],axis = 1)\n",
    "y = df.cardio\n",
    "x_train, x_test, y_train, y_test = train_test_split(x, y, test_size=0.35, random_state=12340)\n",
    "\n",
    "gb_clf.fit(x_train, y_train)\n",
    "gb_clf.score(x_test, y_test)\n",
    "y_pred = gb_clf.predict(x_test)\n",
    "cnf_matrix = metrics.confusion_matrix(y_test, y_pred)\n",
    "print(cnf_matrix)\n",
    "\n",
    "print(\"Accuracy:\",metrics.accuracy_score(y_test, y_pred))\n",
    "print(\"Precision:\",metrics.precision_score(y_test, y_pred))\n",
    "print(\"Recall:\",metrics.recall_score(y_test, y_pred))\n"
   ]
  },
  {
   "cell_type": "code",
   "execution_count": 15,
   "metadata": {},
   "outputs": [
    {
     "data": {
      "text/plain": [
       "Text(0.5, 257.44, 'Predicted Label')"
      ]
     },
     "execution_count": 15,
     "metadata": {},
     "output_type": "execute_result"
    },
    {
     "data": {
      "image/png": "[encoded data removed]",
      "text/plain": [
       "<Figure size 432x288 with 2 Axes>"
      ]
     },
     "metadata": {
      "needs_background": "light"
     },
     "output_type": "display_data"
    }
   ],
   "source": [
    "class_names=[0,1] # name  of classes\n",
    "fig, ax = plt.subplots()\n",
    "tick_marks = np.arange(len(class_names))\n",
    "plt.xticks(tick_marks, class_names)\n",
    "plt.yticks(tick_marks, class_names)\n",
    "# create heatmap\n",
    "sns.heatmap(pd.DataFrame(cnf_matrix), annot=True, cmap=\"YlGnBu\" ,fmt='g')\n",
    "ax.xaxis.set_label_position(\"top\")\n",
    "plt.tight_layout()\n",
    "plt.title('Confusion Matrix', y=1.1)\n",
    "plt.ylabel('Actual Label')\n",
    "plt.xlabel('Predicted Label')"
   ]
  },
  {
   "cell_type": "code",
   "execution_count": 16,
   "metadata": {},
   "outputs": [
    {
     "data": {
      "image/png": "[encoded data removed]",
      "text/plain": [
       "<Figure size 432x288 with 1 Axes>"
      ]
     },
     "metadata": {
      "needs_background": "light"
     },
     "output_type": "display_data"
    }
   ],
   "source": [
    "y_pred_proba = gb_clf.predict_proba(x_test)[::,1]\n",
    "fpr, tpr, _ = metrics.roc_curve(y_test,  y_pred_proba)\n",
    "auc = metrics.roc_auc_score(y_test, y_pred_proba)\n",
    "plt.plot(fpr,tpr,label=\"data 1, auc=\"+str(auc))\n",
    "plt.legend(loc=4)\n",
    "plt.show()"
   ]
  },
  {
   "cell_type": "code",
   "execution_count": 17,
   "metadata": {},
   "outputs": [
    {
     "name": "stdout",
     "output_type": "stream",
     "text": [
      "Requirement already satisfied: graphviz in c:\\murach\\spyderpython\\lib\\site-packages (0.14)\n",
      "Note: you may need to restart the kernel to use updated packages.\n"
     ]
    }
   ],
   "source": [
    "pip install graphviz"
   ]
  },
  {
   "cell_type": "code",
   "execution_count": null,
   "metadata": {},
   "outputs": [],
   "source": []
  }
 ],
 "metadata": {
  "kernelspec": {
   "display_name": "Python 3",
   "language": "python",
   "name": "python3"
  },
  "language_info": {
   "codemirror_mode": {
    "name": "ipython",
    "version": 3
   },
   "file_extension": ".py",
   "mimetype": "text/x-python",
   "name": "python",
   "nbconvert_exporter": "python",
   "pygments_lexer": "ipython3",
   "version": "3.7.3"
  }
 },
 "nbformat": 4,
 "nbformat_minor": 2
}
