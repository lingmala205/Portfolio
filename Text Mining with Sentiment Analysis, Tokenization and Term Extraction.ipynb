{
 "cells": [
  {
   "cell_type": "code",
   "execution_count": 1,
   "metadata": {},
   "outputs": [],
   "source": [
    "import nltk\n"
   ]
  },
  {
   "cell_type": "code",
   "execution_count": 2,
   "metadata": {},
   "outputs": [
    {
     "name": "stdout",
     "output_type": "stream",
     "text": [
      "showing info https://raw.githubusercontent.com/nltk/nltk_data/gh-pages/index.xml\n"
     ]
    },
    {
     "data": {
      "text/plain": [
       "True"
      ]
     },
     "execution_count": 2,
     "metadata": {},
     "output_type": "execute_result"
    }
   ],
   "source": [
    "nltk.download()\n"
   ]
  },
  {
   "cell_type": "code",
   "execution_count": 5,
   "metadata": {},
   "outputs": [],
   "source": [
    "speech = \"\"\"Soldiers of my Old Guard: I bid you farewell. \n",
    "            For twenty years I have constantly accompanied you on the road to honor and glory. \n",
    "            In these latter times, as in the days of our prosperity, you have invariably been models of courage and fidelity. \n",
    "            With men such as you our cause could not be lost; but the war would have been interminable; \n",
    "            it would have been civil war, and that would have entailed deeper misfortunes on France.\n",
    "            I have sacrificed all of my interests to those of the country. I go, but you, my friends, \n",
    "            will continue to serve France. Her happiness was my only thought. It will still be the object of my wishes. \n",
    "            Do not regret my fate; if I have consented to survive, it is to serve your glory. \n",
    "            I intend to write the history of the great achievements we have performed together. \n",
    "            Adieu, my friends. Would I could press you all to my heart.\"\"\""
   ]
  },
  {
   "cell_type": "code",
   "execution_count": 6,
   "metadata": {},
   "outputs": [
    {
     "name": "stdout",
     "output_type": "stream",
     "text": [
      "['Soldiers of my Old Guard: I bid you farewell.', 'For twenty years I have constantly accompanied you on the road to honor and glory.', 'In these latter times, as in the days of our prosperity, you have invariably been models of courage and fidelity.', 'With men such as you our cause could not be lost; but the war would have been interminable; \\n            it would have been civil war, and that would have entailed deeper misfortunes on France.', 'I have sacrificed all of my interests to those of the country.', 'I go, but you, my friends, \\n            will continue to serve France.', 'Her happiness was my only thought.', 'It will still be the object of my wishes.', 'Do not regret my fate; if I have consented to survive, it is to serve your glory.', 'I intend to write the history of the great achievements we have performed together.', 'Adieu, my friends.', 'Would I could press you all to my heart.']\n"
     ]
    }
   ],
   "source": [
    "sentences = nltk.sent_tokenize(speech)\n",
    "print(sentences)"
   ]
  },
  {
   "cell_type": "code",
   "execution_count": 10,
   "metadata": {},
   "outputs": [
    {
     "data": {
      "text/plain": [
       "'Soldiers of my Old Guard: I bid you farewell.'"
      ]
     },
     "execution_count": 10,
     "metadata": {},
     "output_type": "execute_result"
    }
   ],
   "source": [
    "sentences[0]"
   ]
  },
  {
   "cell_type": "code",
   "execution_count": 7,
   "metadata": {},
   "outputs": [
    {
     "data": {
      "text/plain": [
       "'For twenty years I have constantly accompanied you on the road to honor and glory.'"
      ]
     },
     "execution_count": 7,
     "metadata": {},
     "output_type": "execute_result"
    }
   ],
   "source": [
    "sentences[1]"
   ]
  },
  {
   "cell_type": "code",
   "execution_count": 8,
   "metadata": {},
   "outputs": [
    {
     "data": {
      "text/plain": [
       "'In these latter times, as in the days of our prosperity, you have invariably been models of courage and fidelity.'"
      ]
     },
     "execution_count": 8,
     "metadata": {},
     "output_type": "execute_result"
    }
   ],
   "source": [
    "sentences[2]"
   ]
  },
  {
   "cell_type": "code",
   "execution_count": 9,
   "metadata": {},
   "outputs": [
    {
     "data": {
      "text/plain": [
       "'With men such as you our cause could not be lost; but the war would have been interminable; \\n            it would have been civil war, and that would have entailed deeper misfortunes on France.'"
      ]
     },
     "execution_count": 9,
     "metadata": {},
     "output_type": "execute_result"
    }
   ],
   "source": [
    "sentences[3]"
   ]
  },
  {
   "cell_type": "code",
   "execution_count": 11,
   "metadata": {},
   "outputs": [],
   "source": [
    "from sklearn.feature_extraction.text import CountVectorizer"
   ]
  },
  {
   "cell_type": "code",
   "execution_count": 12,
   "metadata": {},
   "outputs": [
    {
     "data": {
      "text/plain": [
       "CountVectorizer(analyzer='word', binary=False, decode_error='strict',\n",
       "                dtype=<class 'numpy.int64'>, encoding='utf-8', input='content',\n",
       "                lowercase=True, max_df=1.0, max_features=None, min_df=1,\n",
       "                ngram_range=(1, 1), preprocessor=None, stop_words=None,\n",
       "                strip_accents=None, token_pattern='(?u)\\\\b\\\\w\\\\w+\\\\b',\n",
       "                tokenizer=None, vocabulary=None)"
      ]
     },
     "execution_count": 12,
     "metadata": {},
     "output_type": "execute_result"
    }
   ],
   "source": [
    "vector = CountVectorizer()\n",
    "vector"
   ]
  },
  {
   "cell_type": "code",
   "execution_count": 13,
   "metadata": {},
   "outputs": [],
   "source": [
    "X = vector.fit_transform(sentences)"
   ]
  },
  {
   "cell_type": "code",
   "execution_count": 14,
   "metadata": {},
   "outputs": [
    {
     "data": {
      "text/plain": [
       "<12x90 sparse matrix of type '<class 'numpy.int64'>'\n",
       "\twith 140 stored elements in Compressed Sparse Row format>"
      ]
     },
     "execution_count": 14,
     "metadata": {},
     "output_type": "execute_result"
    }
   ],
   "source": [
    "X"
   ]
  },
  {
   "cell_type": "code",
   "execution_count": 1,
   "metadata": {},
   "outputs": [
    {
     "data": {
      "text/html": [
       "<div>\n",
       "<style scoped>\n",
       "    .dataframe tbody tr th:only-of-type {\n",
       "        vertical-align: middle;\n",
       "    }\n",
       "\n",
       "    .dataframe tbody tr th {\n",
       "        vertical-align: top;\n",
       "    }\n",
       "\n",
       "    .dataframe thead th {\n",
       "        text-align: right;\n",
       "    }\n",
       "</style>\n",
       "<table border=\"1\" class=\"dataframe\">\n",
       "  <thead>\n",
       "    <tr style=\"text-align: right;\">\n",
       "      <th></th>\n",
       "      <th>tweet_id</th>\n",
       "      <th>airline_sentiment</th>\n",
       "      <th>airline_sentiment_confidence</th>\n",
       "      <th>negativereason</th>\n",
       "      <th>negativereason_confidence</th>\n",
       "      <th>airline</th>\n",
       "      <th>airline_sentiment_gold</th>\n",
       "      <th>name</th>\n",
       "      <th>negativereason_gold</th>\n",
       "      <th>retweet_count</th>\n",
       "      <th>text</th>\n",
       "      <th>tweet_coord</th>\n",
       "      <th>tweet_created</th>\n",
       "      <th>tweet_location</th>\n",
       "      <th>user_timezone</th>\n",
       "    </tr>\n",
       "  </thead>\n",
       "  <tbody>\n",
       "    <tr>\n",
       "      <th>0</th>\n",
       "      <td>5.700000e+17</td>\n",
       "      <td>neutral</td>\n",
       "      <td>1.0000</td>\n",
       "      <td>NaN</td>\n",
       "      <td>0.638298</td>\n",
       "      <td>Virgin America</td>\n",
       "      <td>NaN</td>\n",
       "      <td>cairdin</td>\n",
       "      <td>NaN</td>\n",
       "      <td>0</td>\n",
       "      <td>@VirginAmerica What @dhepburn said.</td>\n",
       "      <td>NaN</td>\n",
       "      <td>2/24/2015 11:35</td>\n",
       "      <td>NaN</td>\n",
       "      <td>Eastern Time (US &amp; Canada)</td>\n",
       "    </tr>\n",
       "    <tr>\n",
       "      <th>1</th>\n",
       "      <td>5.700000e+17</td>\n",
       "      <td>positive</td>\n",
       "      <td>0.3486</td>\n",
       "      <td>NaN</td>\n",
       "      <td>0.000000</td>\n",
       "      <td>Virgin America</td>\n",
       "      <td>NaN</td>\n",
       "      <td>jnardino</td>\n",
       "      <td>NaN</td>\n",
       "      <td>0</td>\n",
       "      <td>@VirginAmerica plus you've added commercials t...</td>\n",
       "      <td>NaN</td>\n",
       "      <td>2/24/2015 11:15</td>\n",
       "      <td>NaN</td>\n",
       "      <td>Pacific Time (US &amp; Canada)</td>\n",
       "    </tr>\n",
       "    <tr>\n",
       "      <th>2</th>\n",
       "      <td>5.700000e+17</td>\n",
       "      <td>neutral</td>\n",
       "      <td>0.6837</td>\n",
       "      <td>NaN</td>\n",
       "      <td>0.638298</td>\n",
       "      <td>Virgin America</td>\n",
       "      <td>NaN</td>\n",
       "      <td>yvonnalynn</td>\n",
       "      <td>NaN</td>\n",
       "      <td>0</td>\n",
       "      <td>@VirginAmerica I didn't today... Must mean I n...</td>\n",
       "      <td>NaN</td>\n",
       "      <td>2/24/2015 11:15</td>\n",
       "      <td>Lets Play</td>\n",
       "      <td>Central Time (US &amp; Canada)</td>\n",
       "    </tr>\n",
       "    <tr>\n",
       "      <th>3</th>\n",
       "      <td>5.700000e+17</td>\n",
       "      <td>negative</td>\n",
       "      <td>1.0000</td>\n",
       "      <td>Bad Flight</td>\n",
       "      <td>0.703300</td>\n",
       "      <td>Virgin America</td>\n",
       "      <td>NaN</td>\n",
       "      <td>jnardino</td>\n",
       "      <td>NaN</td>\n",
       "      <td>0</td>\n",
       "      <td>@VirginAmerica it's really aggressive to blast...</td>\n",
       "      <td>NaN</td>\n",
       "      <td>2/24/2015 11:15</td>\n",
       "      <td>NaN</td>\n",
       "      <td>Pacific Time (US &amp; Canada)</td>\n",
       "    </tr>\n",
       "    <tr>\n",
       "      <th>4</th>\n",
       "      <td>5.700000e+17</td>\n",
       "      <td>negative</td>\n",
       "      <td>1.0000</td>\n",
       "      <td>Can't Tell</td>\n",
       "      <td>1.000000</td>\n",
       "      <td>Virgin America</td>\n",
       "      <td>NaN</td>\n",
       "      <td>jnardino</td>\n",
       "      <td>NaN</td>\n",
       "      <td>0</td>\n",
       "      <td>@VirginAmerica and it's a really big bad thing...</td>\n",
       "      <td>NaN</td>\n",
       "      <td>2/24/2015 11:14</td>\n",
       "      <td>NaN</td>\n",
       "      <td>Pacific Time (US &amp; Canada)</td>\n",
       "    </tr>\n",
       "  </tbody>\n",
       "</table>\n",
       "</div>"
      ],
      "text/plain": [
       "       tweet_id airline_sentiment  airline_sentiment_confidence  \\\n",
       "0  5.700000e+17           neutral                        1.0000   \n",
       "1  5.700000e+17          positive                        0.3486   \n",
       "2  5.700000e+17           neutral                        0.6837   \n",
       "3  5.700000e+17          negative                        1.0000   \n",
       "4  5.700000e+17          negative                        1.0000   \n",
       "\n",
       "  negativereason  negativereason_confidence         airline  \\\n",
       "0            NaN                   0.638298  Virgin America   \n",
       "1            NaN                   0.000000  Virgin America   \n",
       "2            NaN                   0.638298  Virgin America   \n",
       "3     Bad Flight                   0.703300  Virgin America   \n",
       "4     Can't Tell                   1.000000  Virgin America   \n",
       "\n",
       "  airline_sentiment_gold        name negativereason_gold  retweet_count  \\\n",
       "0                    NaN     cairdin                 NaN              0   \n",
       "1                    NaN    jnardino                 NaN              0   \n",
       "2                    NaN  yvonnalynn                 NaN              0   \n",
       "3                    NaN    jnardino                 NaN              0   \n",
       "4                    NaN    jnardino                 NaN              0   \n",
       "\n",
       "                                                text tweet_coord  \\\n",
       "0                @VirginAmerica What @dhepburn said.         NaN   \n",
       "1  @VirginAmerica plus you've added commercials t...         NaN   \n",
       "2  @VirginAmerica I didn't today... Must mean I n...         NaN   \n",
       "3  @VirginAmerica it's really aggressive to blast...         NaN   \n",
       "4  @VirginAmerica and it's a really big bad thing...         NaN   \n",
       "\n",
       "     tweet_created tweet_location               user_timezone  \n",
       "0  2/24/2015 11:35            NaN  Eastern Time (US & Canada)  \n",
       "1  2/24/2015 11:15            NaN  Pacific Time (US & Canada)  \n",
       "2  2/24/2015 11:15      Lets Play  Central Time (US & Canada)  \n",
       "3  2/24/2015 11:15            NaN  Pacific Time (US & Canada)  \n",
       "4  2/24/2015 11:14            NaN  Pacific Time (US & Canada)  "
      ]
     },
     "execution_count": 1,
     "metadata": {},
     "output_type": "execute_result"
    }
   ],
   "source": [
    "#Import all essential items.\n",
    "\n",
    "import pandas as pd\n",
    "import numpy as np\n",
    "from sklearn import metrics\n",
    "from sklearn import preprocessing\n",
    "from sklearn.naive_bayes import GaussianNB \n",
    "import nltk.classify.util\n",
    "from nltk.classify import NaiveBayesClassifier\n",
    "from textblob import TextBlob\n",
    "import seaborn as sns\n",
    "import matplotlib.pyplot as plt\n",
    "%matplotlib inline\n",
    "df = pd.read_csv(\"Tweets.csv\")\n",
    "df.head()"
   ]
  },
  {
   "cell_type": "code",
   "execution_count": 2,
   "metadata": {},
   "outputs": [],
   "source": [
    "samples = df[\"text\"]\n",
    "\n",
    "x = []\n",
    "y = []\n",
    "\n",
    "polarity = 0\n",
    "subject = 0\n",
    "\n",
    "for item in samples:\n",
    "    \n",
    "    snip = TextBlob(item)\n",
    "    current = snip.sentiment\n",
    "    \n",
    "    for value in current:\n",
    "        polarity = snip.sentiment.polarity\n",
    "        x.append(polarity)\n",
    "            \n",
    "        subject = snip.sentiment.subjectivity\n",
    "        y.append(subject)"
   ]
  },
  {
   "cell_type": "code",
   "execution_count": 3,
   "metadata": {},
   "outputs": [
    {
     "data": {
      "image/png": "[encoded data removed]",
      "text/plain": [
       "<Figure size 432x288 with 1 Axes>"
      ]
     },
     "metadata": {
      "needs_background": "light"
     },
     "output_type": "display_data"
    }
   ],
   "source": [
    "plt.scatter(x,y)\n",
    "plt.xlabel(\"Polarity\")\n",
    "plt.ylabel(\"Subjectivity\")\n",
    "plt.title(\"Sentiment Analysis of Social Media\")\n",
    "plt.show()"
   ]
  },
  {
   "cell_type": "code",
   "execution_count": 4,
   "metadata": {},
   "outputs": [
    {
     "data": {
      "text/plain": [
       "Text(0.5, 1.0, 'Polarity')"
      ]
     },
     "execution_count": 4,
     "metadata": {},
     "output_type": "execute_result"
    },
    {
     "data": {
      "image/png": "[encoded data removed]",
      "text/plain": [
       "<Figure size 432x288 with 1 Axes>"
      ]
     },
     "metadata": {},
     "output_type": "display_data"
    }
   ],
   "source": [
    "label_one = 'Positive', 'Negative'\n",
    "\n",
    "size_one = 0\n",
    "size_two = 0\n",
    "\n",
    "for x_values in x:\n",
    "    \n",
    "    #Positive Polarity\n",
    "    if (x_values > 0 and x_values <= 1):\n",
    "        size_one += 1\n",
    "    \n",
    "    #Negative Polarity    \n",
    "    elif (x_values < 0 and x_values >= -1):\n",
    "        size_two += 1\n",
    "\n",
    "   \n",
    "        \n",
    "        \n",
    "sizes_polarity = [size_one, size_two]\n",
    "\n",
    "figure1, ax1 = plt.subplots()\n",
    "ax1.pie(sizes_polarity, labels = label_one, autopct='%1.1f%%')\n",
    "\n",
    "ax1.axis(\"equal\")\n",
    "\n",
    "plt.title(\"Polarity\")\n",
    "\n"
   ]
  },
  {
   "cell_type": "code",
   "execution_count": 5,
   "metadata": {},
   "outputs": [
    {
     "data": {
      "text/plain": [
       "Text(0.5, 1.0, 'Subjectivity')"
      ]
     },
     "execution_count": 5,
     "metadata": {},
     "output_type": "execute_result"
    },
    {
     "data": {
      "image/png": "[encoded data removed]",
      "text/plain": [
       "<Figure size 432x288 with 1 Axes>"
      ]
     },
     "metadata": {},
     "output_type": "display_data"
    }
   ],
   "source": [
    "label_two = 'Factual Information', 'Public Opinion'\n",
    "\n",
    "size_one = 0\n",
    "size_two = 0\n",
    "\n",
    "for y_values in y:\n",
    "    \n",
    "    #Tending Towards Public Opinion\n",
    "    if (y_values >= 0.5 and y_values <= 1):\n",
    "        size_one += 1\n",
    "    \n",
    "    #Tending Towards Factual Information    \n",
    "    elif (y_values >= 0 and y_values <= 0.5):\n",
    "        size_two += 1\n",
    "\n",
    "        \n",
    "        \n",
    "sizes_subject = [size_one, size_two]\n",
    "\n",
    "figure1, ax1 = plt.subplots()\n",
    "ax1.pie(sizes_subject, labels = label_two, autopct='%1.1f%%')\n",
    "\n",
    "ax1.axis(\"equal\")\n",
    "\n",
    "plt.title(\"Subjectivity\")\n",
    "\n"
   ]
  },
  {
   "cell_type": "code",
   "execution_count": 6,
   "metadata": {},
   "outputs": [
    {
     "data": {
      "text/plain": [
       "Text(0.5, 1.0, 'Complete Comparisons')"
      ]
     },
     "execution_count": 6,
     "metadata": {},
     "output_type": "execute_result"
    },
    {
     "data": {
      "image/png": "[encoded data removed]",
      "text/plain": [
       "<Figure size 432x288 with 1 Axes>"
      ]
     },
     "metadata": {},
     "output_type": "display_data"
    }
   ],
   "source": [
    "labels_general = \"F & P\", \"F & N\", \"P & P\", \"P & N\"\n",
    "\n",
    "size_one = 0\n",
    "size_two = 0\n",
    "size_three = 0\n",
    "size_four = 0\n",
    "\n",
    "for x_values in x: \n",
    "    for y_values in y:\n",
    "        #Positive Polarity and Public Opinion\n",
    "        if (x_values > 0 and x_values <= 1 and y_values >= 0.5 and y_values <= 1):\n",
    "            size_one += 1\n",
    "        \n",
    "        #Positive Polarity and Factual Information\n",
    "        elif (x_values > 0 and x_values <= 1 and y_values >= 0 and y_values <= 0.5):\n",
    "            size_two += 1\n",
    "        \n",
    "        #Negative Polarity and Public Opinion    \n",
    "        elif (x_values < 0 and x_values >= -1 and y_values >= 0.5 and y_values <= 1):\n",
    "            size_three += 1\n",
    "        \n",
    "        #Negative Polarity and Factual Information\n",
    "        elif (x_values < 0 and x_values >= -1 and y_values >= 0 and y_values <= 0.5):\n",
    "            size_four += 1\n",
    "\n",
    "        \n",
    "sizes_complete = [size_one, size_two, size_three, size_four]\n",
    "\n",
    "figure1, ax1 = plt.subplots()\n",
    "ax1.pie(sizes_complete, labels = labels_general, autopct='%1.1f%%')\n",
    "\n",
    "ax1.axis(\"equal\")\n",
    "\n",
    "plt.title(\"Complete Comparisons\")\n",
    "    "
   ]
  },
  {
   "cell_type": "code",
   "execution_count": 7,
   "metadata": {},
   "outputs": [
    {
     "name": "stdout",
     "output_type": "stream",
     "text": [
      "Negative:  9178\n",
      "Positive:  2363\n",
      "Neutral:   3099\n"
     ]
    },
    {
     "data": {
      "text/plain": [
       "Text(0.5, 1.0, 'Sentiment Count')"
      ]
     },
     "execution_count": 7,
     "metadata": {},
     "output_type": "execute_result"
    },
    {
     "data": {
      "image/png": "[encoded data removed]",
      "text/plain": [
       "<Figure size 432x288 with 1 Axes>"
      ]
     },
     "metadata": {},
     "output_type": "display_data"
    }
   ],
   "source": [
    "data = df['airline_sentiment']\n",
    "\n",
    "label_item = 'Negative', 'Positive', 'Neutral'\n",
    "\n",
    "\n",
    "count1 = 0\n",
    "count2 = 0\n",
    "count3 = 0\n",
    "\n",
    "for item in data:\n",
    "    if item == 'negative':\n",
    "        count1+=1\n",
    "    elif item == 'positive':\n",
    "        count2+=1\n",
    "    elif item == 'neutral':\n",
    "        count3+=1\n",
    "\n",
    "print('Negative: ', count1)\n",
    "print('Positive: ', count2)\n",
    "print('Neutral:  ',  count3)\n",
    "\n",
    "sizes_subject = [count1, count2, count3]\n",
    "\n",
    "figure1, ax1 = plt.subplots()\n",
    "ax1.pie(sizes_subject, labels = label_item, autopct='%1.1f%%')\n",
    "\n",
    "ax1.axis(\"equal\")\n",
    "\n",
    "plt.title(\"Sentiment Count\")\n"
   ]
  },
  {
   "cell_type": "code",
   "execution_count": 8,
   "metadata": {},
   "outputs": [
    {
     "data": {
      "text/plain": [
       "Text(0.5, 1.0, 'Confidence of Negative Grievances Against Different Airlines')"
      ]
     },
     "execution_count": 8,
     "metadata": {},
     "output_type": "execute_result"
    },
    {
     "data": {
      "image/png": "[encoded data removed]",
      "text/plain": [
       "<Figure size 432x288 with 1 Axes>"
      ]
     },
     "metadata": {},
     "output_type": "display_data"
    }
   ],
   "source": [
    "#Virgin America, United, Southwest, Delta, \n",
    "#US Airways, and American.\n",
    "\n",
    "data = df['airline']\n",
    "data_negative = df['negativereason_confidence']\n",
    "label_one = 'Weak','Moderate','Strong'\n",
    "\n",
    "size_one = 0\n",
    "size_two = 0\n",
    "size_three = 0\n",
    "\n",
    "for plane_values in data:\n",
    "    for negatives in data_negative:\n",
    "        if (negatives >= 0 and negatives <= 0.3333):\n",
    "            size_one+=1\n",
    "        elif (negatives >= 0.3333 and negatives <= 0.6666):\n",
    "            size_two+=1\n",
    "        elif (negatives >= 0.6666 and negatives <= 1):\n",
    "            size_three+=1\n",
    "    \n",
    "    \n",
    "        \n",
    "sizes_negative = [size_one, size_two, size_three]\n",
    "\n",
    "figure1, ax1 = plt.subplots()\n",
    "ax1.pie(sizes_negative, labels = label_one, autopct='%1.1f%%')\n",
    "\n",
    "ax1.axis(\"equal\")\n",
    "\n",
    "plt.title(\"Confidence of Negative Grievances Against Different Airlines\")\n"
   ]
  },
  {
   "cell_type": "code",
   "execution_count": null,
   "metadata": {},
   "outputs": [],
   "source": []
  }
 ],
 "metadata": {
  "kernelspec": {
   "display_name": "Python 3",
   "language": "python",
   "name": "python3"
  },
  "language_info": {
   "codemirror_mode": {
    "name": "ipython",
    "version": 3
   },
   "file_extension": ".py",
   "mimetype": "text/x-python",
   "name": "python",
   "nbconvert_exporter": "python",
   "pygments_lexer": "ipython3",
   "version": "3.7.3"
  }
 },
 "nbformat": 4,
 "nbformat_minor": 2
}
